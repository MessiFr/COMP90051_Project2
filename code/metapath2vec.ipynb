{
 "cells": [
  {
   "cell_type": "code",
   "execution_count": 1,
   "metadata": {},
   "outputs": [
    {
     "name": "stderr",
     "output_type": "stream",
     "text": [
      "/Library/Frameworks/Python.framework/Versions/3.10/lib/python3.10/site-packages/tqdm/auto.py:22: TqdmWarning: IProgress not found. Please update jupyter and ipywidgets. See https://ipywidgets.readthedocs.io/en/stable/user_install.html\n",
      "  from .autonotebook import tqdm as notebook_tqdm\n"
     ]
    }
   ],
   "source": [
    "import torch\n",
    "import networkx as nx\n",
    "from torch_geometric.nn import SAGEConv, to_hetero\n",
    "from torch import optim\n",
    "import torch_geometric.transforms as T\n",
    "import matplotlib.pyplot as plt\n",
    "from torch_geometric.nn import HeteroConv, GCNConv, SAGEConv, GATConv, Linear, HGTConv, RGCNConv\n",
    "from tqdm import tqdm\n",
    "from sklearn.metrics import accuracy_score, recall_score, f1_score\n",
    "from gensim.models.doc2vec import Doc2Vec, TaggedDocument\n",
    "from torch_geometric.data import HeteroData, Data\n",
    "from evaluation import *\n",
    "from NN_Models import *\n",
    "import json\n",
    "import numpy as np\n",
    "import pandas as pd\n",
    "from preprocessing import *\n",
    "from torch_geometric.nn import GATConv, Linear, to_hetero"
   ]
  },
  {
   "cell_type": "code",
   "execution_count": 2,
   "metadata": {},
   "outputs": [],
   "source": [
    "f = open('../../data/train.json', 'rb')\n",
    "train_raw = json.load(f)\n",
    "\n",
    "f = open('../../data/test.json', 'rb')\n",
    "test_raw = json.load(f)"
   ]
  },
  {
   "cell_type": "code",
   "execution_count": 3,
   "metadata": {},
   "outputs": [
    {
     "name": "stderr",
     "output_type": "stream",
     "text": [
      "100%|██████████| 25793/25793 [00:00<00:00, 30078.95it/s]\n",
      "100%|██████████| 800/800 [00:00<00:00, 27418.90it/s]\n"
     ]
    }
   ],
   "source": [
    "keywords_ = {}\n",
    "for key in range(5000):\n",
    "    keywords_[key] = 0\n",
    "\n",
    "for instance in tqdm(train_data, total=len(train_data)):\n",
    "    for word in instance['abstract']:\n",
    "        keywords_[word] += 1\n",
    "    for word in instance['title']:\n",
    "        keywords_[word] += 1\n",
    "\n",
    "for instance in tqdm(test_data, total=len(test_data)):\n",
    "    for word in instance['abstract']:\n",
    "        keywords_[word] += 1\n",
    "    for word in instance['title']:\n",
    "        keywords_[word] += 1"
   ]
  },
  {
   "cell_type": "code",
   "execution_count": 4,
   "metadata": {},
   "outputs": [],
   "source": [
    "num_words = 4999\n",
    "num_coauthor = 21245-100+1\n",
    "num_class = 100\n",
    "num_venue = 465\n",
    "num_year = 20"
   ]
  },
  {
   "cell_type": "code",
   "execution_count": 5,
   "metadata": {},
   "outputs": [
    {
     "name": "stdout",
     "output_type": "stream",
     "text": [
      "remain data length =  25793\n",
      "train keys  :  dict_keys(['authors', 'year', 'abstract', 'venue', 'title'])\n",
      "test keys   :  dict_keys(['identifier', 'coauthors', 'year', 'abstract', 'venue', 'title'])\n"
     ]
    }
   ],
   "source": [
    "print(\"remain data length = \", len(train_raw))\n",
    "\n",
    "print(\"train keys  : \", train_data[0].keys())\n",
    "print(\"test keys   : \", test_data[0].keys())"
   ]
  },
  {
   "cell_type": "markdown",
   "metadata": {},
   "source": [
    "### Create Heterogenous Dataset"
   ]
  },
  {
   "cell_type": "code",
   "execution_count": 6,
   "metadata": {},
   "outputs": [
    {
     "name": "stderr",
     "output_type": "stream",
     "text": [
      "creating hetero data (train): 100%|██████████| 25793/25793 [02:16<00:00, 189.23it/s]\n",
      "creating hetero data (kaggle): 100%|██████████| 800/800 [00:05<00:00, 142.91it/s]\n"
     ]
    }
   ],
   "source": [
    "train_df = pd.DataFrame(columns=['year', 'venue', 'coauthor', 'label', 'text', 'train_mask', 'val_mask', 'test_mask'])\n",
    "\n",
    "index = 0\n",
    "def make_str(x):\n",
    "    try:\n",
    "        x[0] += ' '\n",
    "        return x\n",
    "    except:\n",
    "        res = ''\n",
    "        for i in x:\n",
    "            res += str(i) + ' '\n",
    "        return res[:-1]\n",
    "\n",
    "for i in tqdm(range(len(train_raw)), desc=\"creating hetero data (train)\"):\n",
    "    coauthor = [0 for _ in range(num_coauthor)]\n",
    "    pauthor = [0 for _ in range(num_class)]\n",
    "    for j in train_raw[i]['authors']:\n",
    "        if j < 100:\n",
    "            pauthor[j] += 1\n",
    "            \n",
    "        else:\n",
    "            coauthor[j-num_class] += 1\n",
    "\n",
    "\n",
    "    train_df.loc[index, 'year'] = train_raw[i]['year']\n",
    "    if train_raw[i]['venue']:\n",
    "        train_df.loc[index, 'venue'] = train_raw[i]['venue']\n",
    "    else:\n",
    "        train_df.loc[index, 'venue'] = -1\n",
    "    \n",
    "    \n",
    "    train_df.loc[index, 'coauthor'] = coauthor\n",
    "    train_df.loc[index, 'label'] = pauthor\n",
    "    text = []\n",
    "    for t in train_raw[i]['abstract'] + train_raw[i]['title']:\n",
    "        text.append(t)\n",
    "    train_df.loc[index, 'text'] = text\n",
    "    \n",
    "    index += 1\n",
    "\n",
    "\n",
    "for i in tqdm(range(len(test_raw)), desc=\"creating hetero data (kaggle)\"):\n",
    "    \n",
    "    train_df.loc[index, 'year'] = test_raw[i]['year']\n",
    "    if test_raw[i]['venue']:\n",
    "        train_df.loc[index, 'venue'] = test_raw[i]['venue']\n",
    "    else:\n",
    "        train_df.loc[index, 'venue'] = -1\n",
    "    \n",
    "    coauthor = [0 for _ in range(num_coauthor)]\n",
    "    pauthor = [0 for _ in range(num_class)]\n",
    "    # pauthor = 100\n",
    "    for j in train_raw[i]['authors']:\n",
    "        coauthor[j-num_class] += 1\n",
    "\n",
    "    train_df.loc[index, 'coauthor'] = coauthor\n",
    "    train_df.loc[index, 'label'] = pauthor\n",
    "    text = []\n",
    "    for t in test_raw[i]['abstract'] + test_raw[i]['title']:\n",
    "        # if t in keywords.keys():\n",
    "        #     text.append(keywords[t])\n",
    "        text.append(t)\n",
    "    train_df.loc[index, 'text'] = text\n",
    "\n",
    "    index += 1\n",
    "\n",
    "train_df['id'] = train_df.index"
   ]
  },
  {
   "cell_type": "code",
   "execution_count": 7,
   "metadata": {},
   "outputs": [
    {
     "name": "stdout",
     "output_type": "stream",
     "text": [
      "train length      :  20634\n",
      "validation length :  5158\n"
     ]
    }
   ],
   "source": [
    "train_len = int(0.8 * (len(train_df) - 800))\n",
    "val_len = int(0.2 * (len(train_df) - 800))\n",
    "print(\"train length      : \", train_len)\n",
    "print(\"validation length : \", val_len)\n",
    "\n",
    "train_df.train_mask = train_df.id.apply(lambda x: x<train_len)\n",
    "train_df.val_mask = train_df.id.apply(lambda x: x >= train_len and x < (train_len+val_len))\n",
    "train_df.test_mask = train_df.id.apply(lambda x: x >= (len(train_df)-800))"
   ]
  },
  {
   "cell_type": "code",
   "execution_count": 8,
   "metadata": {},
   "outputs": [
    {
     "data": {
      "text/html": [
       "<div>\n",
       "<style scoped>\n",
       "    .dataframe tbody tr th:only-of-type {\n",
       "        vertical-align: middle;\n",
       "    }\n",
       "\n",
       "    .dataframe tbody tr th {\n",
       "        vertical-align: top;\n",
       "    }\n",
       "\n",
       "    .dataframe thead th {\n",
       "        text-align: right;\n",
       "    }\n",
       "</style>\n",
       "<table border=\"1\" class=\"dataframe\">\n",
       "  <thead>\n",
       "    <tr style=\"text-align: right;\">\n",
       "      <th></th>\n",
       "      <th>year</th>\n",
       "      <th>venue</th>\n",
       "      <th>coauthor</th>\n",
       "      <th>label</th>\n",
       "      <th>text</th>\n",
       "      <th>train_mask</th>\n",
       "      <th>val_mask</th>\n",
       "      <th>test_mask</th>\n",
       "      <th>id</th>\n",
       "    </tr>\n",
       "  </thead>\n",
       "  <tbody>\n",
       "    <tr>\n",
       "      <th>0</th>\n",
       "      <td>9</td>\n",
       "      <td>20</td>\n",
       "      <td>[0, 0, 0, 0, 0, 0, 0, 0, 0, 0, 0, 0, 0, 0, 0, ...</td>\n",
       "      <td>[0, 0, 0, 0, 0, 0, 0, 0, 0, 0, 0, 0, 0, 0, 0, ...</td>\n",
       "      <td>[2455, 1858, 2335, 1543, 1800, 1860, 2000, 286...</td>\n",
       "      <td>True</td>\n",
       "      <td>False</td>\n",
       "      <td>False</td>\n",
       "      <td>0</td>\n",
       "    </tr>\n",
       "    <tr>\n",
       "      <th>1</th>\n",
       "      <td>15</td>\n",
       "      <td>2</td>\n",
       "      <td>[0, 0, 0, 0, 0, 0, 0, 0, 0, 0, 0, 0, 0, 0, 0, ...</td>\n",
       "      <td>[0, 0, 0, 0, 0, 0, 0, 0, 0, 0, 0, 0, 0, 0, 0, ...</td>\n",
       "      <td>[40, 1542, 1691, 2449, 1535, 3616, 2206, 1904,...</td>\n",
       "      <td>True</td>\n",
       "      <td>False</td>\n",
       "      <td>False</td>\n",
       "      <td>1</td>\n",
       "    </tr>\n",
       "  </tbody>\n",
       "</table>\n",
       "</div>"
      ],
      "text/plain": [
       "  year venue                                           coauthor  \\\n",
       "0    9    20  [0, 0, 0, 0, 0, 0, 0, 0, 0, 0, 0, 0, 0, 0, 0, ...   \n",
       "1   15     2  [0, 0, 0, 0, 0, 0, 0, 0, 0, 0, 0, 0, 0, 0, 0, ...   \n",
       "\n",
       "                                               label  \\\n",
       "0  [0, 0, 0, 0, 0, 0, 0, 0, 0, 0, 0, 0, 0, 0, 0, ...   \n",
       "1  [0, 0, 0, 0, 0, 0, 0, 0, 0, 0, 0, 0, 0, 0, 0, ...   \n",
       "\n",
       "                                                text  train_mask  val_mask  \\\n",
       "0  [2455, 1858, 2335, 1543, 1800, 1860, 2000, 286...        True     False   \n",
       "1  [40, 1542, 1691, 2449, 1535, 3616, 2206, 1904,...        True     False   \n",
       "\n",
       "   test_mask  id  \n",
       "0      False   0  \n",
       "1      False   1  "
      ]
     },
     "execution_count": 8,
     "metadata": {},
     "output_type": "execute_result"
    }
   ],
   "source": [
    "train_df.head(2)"
   ]
  },
  {
   "cell_type": "code",
   "execution_count": 9,
   "metadata": {},
   "outputs": [
    {
     "name": "stderr",
     "output_type": "stream",
     "text": [
      "author write paper: 100%|██████████| 26593/26593 [00:59<00:00, 446.90it/s]\n",
      "paper published at venue: 100%|██████████| 26593/26593 [00:23<00:00, 1114.21it/s]\n",
      "paper published in year: 100%|██████████| 26593/26593 [00:00<00:00, 78699.60it/s]\n"
     ]
    }
   ],
   "source": [
    "write_edges = []\n",
    "venue_publish_edges = []\n",
    "year_publish_edges = []\n",
    "\n",
    "# author write paper\n",
    "for j in tqdm(train_df.index, total=len(train_df.index), desc='author write paper'):\n",
    "    coauthror = train_df.loc[j, 'coauthor']\n",
    "    for i in range(len(coauthor)):\n",
    "        if coauthor[i] == 1:\n",
    "            write_edges.append([i, j])\n",
    "\n",
    "\n",
    "# paper published at venue\n",
    "for i in tqdm(train_df.index, total=len(train_df.index), desc='paper published at venue'):\n",
    "    venue = train_df.loc[i, 'venue']\n",
    "    if venue != -1:\n",
    "        venue_publish_edges.append([i, venue])\n",
    "\n",
    "\n",
    "# paper published in year\n",
    "for i in tqdm(train_df.index, total=len(train_df.index), desc='paper published in year'):\n",
    "    year = train_df.loc[i, 'year']\n",
    "    year_publish_edges.append([i, year])\n",
    "    "
   ]
  },
  {
   "cell_type": "code",
   "execution_count": 10,
   "metadata": {},
   "outputs": [
    {
     "name": "stderr",
     "output_type": "stream",
     "text": [
      "coauthor write at venue: 100%|██████████| 26593/26593 [01:01<00:00, 431.59it/s]\n",
      "100%|██████████| 44241/44241 [00:00<00:00, 609473.18it/s]\n"
     ]
    }
   ],
   "source": [
    "# # coauthor write at venue\n",
    "coauthor_venue_edges = []\n",
    "coauthor_venue = {}\n",
    "for i in tqdm(train_df.index, total=len(train_df.index), desc='coauthor write at venue'):\n",
    "    venue = train_df.loc[i, 'venue']\n",
    "    if venue != -1:\n",
    "        coau = train_df.loc[i, 'coauthor']\n",
    "        for au in range(len(coau)):\n",
    "            if coau[au] == 1:\n",
    "                coauthor_venue[f'{venue},{au}'] = 1\n",
    "\n",
    "for key in tqdm(coauthor_venue.keys(), total=len(coauthor_venue.keys())):\n",
    "    val = key.split(',')\n",
    "    coauthor_venue_edges.append([int(val[1]), int(val[0])])"
   ]
  },
  {
   "cell_type": "code",
   "execution_count": 11,
   "metadata": {},
   "outputs": [
    {
     "data": {
      "text/plain": [
       "HeteroData(\n",
       "  num_nodes_dict={\n",
       "    paper=26593,\n",
       "    coauthor=21146,\n",
       "    venue=465\n",
       "  },\n",
       "  \u001b[1m(coauthor, write, paper)\u001b[0m={ edge_index=[2, 132965] },\n",
       "  \u001b[1m(paper, published_venue, venue)\u001b[0m={ edge_index=[2, 20955] },\n",
       "  \u001b[1m(paper, rev_write, coauthor)\u001b[0m={ edge_index=[2, 132965] },\n",
       "  \u001b[1m(venue, rev_published_venue, paper)\u001b[0m={ edge_index=[2, 20955] }\n",
       ")"
      ]
     },
     "execution_count": 11,
     "metadata": {},
     "output_type": "execute_result"
    }
   ],
   "source": [
    "############# path_data\n",
    "\n",
    "data = HeteroData()\n",
    "\n",
    "data['coauthor', 'write', 'paper'].edge_index = torch.LongTensor(write_edges).T\n",
    "data['paper', 'published_venue', 'venue'].edge_index = torch.LongTensor(venue_publish_edges).T\n",
    "\n",
    "data.num_nodes_dict = {'paper': len(train_df), 'coauthor': num_coauthor, 'venue': num_venue}\n",
    "\n",
    "data = T.ToUndirected()(data)\n",
    "\n",
    "data"
   ]
  },
  {
   "cell_type": "code",
   "execution_count": 22,
   "metadata": {},
   "outputs": [],
   "source": [
    "from torch_geometric.nn import MetaPath2Vec\n",
    "\n",
    "# metapat\n",
    "metapath = [\n",
    "    ('coauthor', 'write', 'paper'),\n",
    "    ('paper', 'published_venue', 'venue'),\n",
    "    ('venue', 'rev_published_venue', 'paper'),\n",
    "    ('paper', 'rev_write', 'coauthor'),\n",
    "]\n",
    "\n",
    "metaModel = MetaPath2Vec(\n",
    "    data.edge_index_dict,\n",
    "    embedding_dim=128,\n",
    "    metapath=metapath,\n",
    "    walk_length=5,\n",
    "    context_size=3,\n",
    "    walks_per_node=1,\n",
    "    num_negative_samples=1,\n",
    "    sparse=True\n",
    ")"
   ]
  },
  {
   "cell_type": "code",
   "execution_count": 23,
   "metadata": {},
   "outputs": [],
   "source": [
    "loader = metaModel.loader(batch_size=128, shuffle=True, num_workers=3)\n",
    "optimizer = torch.optim.SparseAdam(list(metaModel.parameters()), lr=0.01)"
   ]
  },
  {
   "cell_type": "code",
   "execution_count": 25,
   "metadata": {},
   "outputs": [],
   "source": [
    "def train(epochs, log_steps=500, eval_steps=1000):\n",
    "    metaModel.train()\n",
    "\n",
    "    total_loss = 0\n",
    "\n",
    "    for i, (pos_rw, neg_rw) in enumerate(loader):\n",
    "        optimizer.zero_grad()\n",
    "        loss = metaModel.loss(pos_rw.to(device), neg_rw.to(device))\n",
    "        loss.backward()\n",
    "        optimizer.step()\n",
    "        # print(loss)\n",
    "        total_loss += loss.item()\n",
    "\n",
    "    return total_loss/len(loader)"
   ]
  },
  {
   "cell_type": "code",
   "execution_count": 26,
   "metadata": {},
   "outputs": [
    {
     "name": "stderr",
     "output_type": "stream",
     "text": [
      "100%|██████████| 200/200 [17:19<00:00,  5.20s/it]\n"
     ]
    }
   ],
   "source": [
    "loss_list = []\n",
    "for epoch in tqdm(range(200)):\n",
    "    loss = train(epoch)\n",
    "    loss_list.append(loss)"
   ]
  },
  {
   "cell_type": "code",
   "execution_count": 29,
   "metadata": {},
   "outputs": [
    {
     "data": {
      "image/png": "[encoded data removed]",
      "text/plain": [
       "<Figure size 720x504 with 1 Axes>"
      ]
     },
     "metadata": {
      "needs_background": "light"
     },
     "output_type": "display_data"
    }
   ],
   "source": [
    "n = Model()\n",
    "n.train_loss = loss_list\n",
    "n.plot_loss()"
   ]
  },
  {
   "cell_type": "code",
   "execution_count": 31,
   "metadata": {},
   "outputs": [
    {
     "data": {
      "text/plain": [
       "0.9406494960806271"
      ]
     },
     "execution_count": 31,
     "metadata": {},
     "output_type": "execute_result"
    }
   ],
   "source": [
    "def test(train_ratio=0.1):\n",
    "    metaModel.eval()\n",
    "\n",
    "    z = metaModel('paper', batch=data.y_index_dict['paper'])\n",
    "    y = data.y_dict['paper']\n",
    "\n",
    "    perm = torch.randperm(z.size(0))\n",
    "    train_perm = perm[:int(z.size(0) * train_ratio)]\n",
    "    test_perm = perm[:int(z.size(0) * train_ratio)]\n",
    "    return metaModel.test(z[train_perm], y[train_perm], z[test_perm],\n",
    "                            y[test_perm], max_iter=150)\n",
    "\n",
    "test()"
   ]
  },
  {
   "cell_type": "code",
   "execution_count": null,
   "metadata": {},
   "outputs": [],
   "source": [
    "metaModel('paper').shape\n",
    "metaModel('coauthor').shape"
   ]
  },
  {
   "cell_type": "markdown",
   "metadata": {},
   "source": [
    "# GNN"
   ]
  },
  {
   "cell_type": "code",
   "execution_count": 68,
   "metadata": {},
   "outputs": [],
   "source": [
    "# data['paper'].x = torch.tensor(train_df.doc2vec)\n",
    "data['paper'].x = metaModel('paper')\n",
    "data['paper'].train_mask = torch.tensor(train_df.train_mask)\n",
    "data['paper'].test_mask = torch.tensor(train_df.test_mask)\n",
    "data['paper'].val_mask = torch.tensor(train_df.val_mask)\n",
    "data['paper'].y = torch.tensor(train_df.label, dtype=torch.float)\n",
    "\n",
    "data['coauthor'].x = metaModel('coauthor')\n",
    "data['venue'].x = metaModel('venue')\n",
    "# data['keywords'].x = metaModel('keywords')\n",
    "\n",
    "# data['year'].x = metaModel('year')"
   ]
  },
  {
   "cell_type": "code",
   "execution_count": 69,
   "metadata": {},
   "outputs": [
    {
     "name": "stdout",
     "output_type": "stream",
     "text": [
      "('coauthor', 'write', 'paper')\n"
     ]
    },
    {
     "name": "stderr",
     "output_type": "stream",
     "text": [
      "100%|██████████| 50770/50770 [00:04<00:00, 11034.18it/s]\n"
     ]
    },
    {
     "name": "stdout",
     "output_type": "stream",
     "text": [
      "('paper', 'published_venue', 'venue')\n"
     ]
    },
    {
     "name": "stderr",
     "output_type": "stream",
     "text": [
      "100%|██████████| 7777/7777 [00:00<00:00, 12733.38it/s]\n"
     ]
    },
    {
     "name": "stdout",
     "output_type": "stream",
     "text": [
      "('paper', 'rev_write', 'coauthor')\n"
     ]
    },
    {
     "name": "stderr",
     "output_type": "stream",
     "text": [
      "100%|██████████| 50770/50770 [00:04<00:00, 11366.79it/s]\n"
     ]
    },
    {
     "name": "stdout",
     "output_type": "stream",
     "text": [
      "('venue', 'rev_published_venue', 'paper')\n"
     ]
    },
    {
     "name": "stderr",
     "output_type": "stream",
     "text": [
      "100%|██████████| 7777/7777 [00:00<00:00, 12330.27it/s]\n"
     ]
    }
   ],
   "source": [
    "cos = nn.CosineSimilarity(dim=0, eps=1e-6)\n",
    "\n",
    "for edge in data.edge_index_dict:\n",
    "    edge_idx = data.edge_index_dict[edge]\n",
    "    edge_attr = []\n",
    "\n",
    "    print(edge)\n",
    "    for i in tqdm(range(edge_idx.shape[1])):\n",
    "        input1 = data[edge[0]].x[edge_idx[0][i]]\n",
    "        input2 = data[edge[2]].x[edge_idx[1][i]]\n",
    "        \n",
    "        edge_attr.append([cos(input1, input2).item()])\n",
    "\n",
    "    edge_attr = torch.tensor(edge_attr)\n",
    "    data[edge].edge_attr = edge_attr"
   ]
  },
  {
   "cell_type": "code",
   "execution_count": 70,
   "metadata": {},
   "outputs": [
    {
     "data": {
      "text/plain": [
       "HeteroData(\n",
       "  \u001b[1mpaper\u001b[0m={\n",
       "    x=[10154, 128],\n",
       "    train_mask=[10154],\n",
       "    test_mask=[10154],\n",
       "    val_mask=[10154],\n",
       "    y=[10154, 100]\n",
       "  },\n",
       "  \u001b[1mcoauthor\u001b[0m={ x=[17481, 128] },\n",
       "  \u001b[1mvenue\u001b[0m={ x=[465, 128] },\n",
       "  \u001b[1m(coauthor, write, paper)\u001b[0m={\n",
       "    edge_index=[2, 50770],\n",
       "    edge_attr=[50770, 1]\n",
       "  },\n",
       "  \u001b[1m(paper, published_venue, venue)\u001b[0m={\n",
       "    edge_index=[2, 7777],\n",
       "    edge_attr=[7777, 1]\n",
       "  },\n",
       "  \u001b[1m(paper, rev_write, coauthor)\u001b[0m={\n",
       "    edge_index=[2, 50770],\n",
       "    edge_attr=[50770, 1]\n",
       "  },\n",
       "  \u001b[1m(venue, rev_published_venue, paper)\u001b[0m={\n",
       "    edge_index=[2, 7777],\n",
       "    edge_attr=[7777, 1]\n",
       "  }\n",
       ")"
      ]
     },
     "execution_count": 70,
     "metadata": {},
     "output_type": "execute_result"
    }
   ],
   "source": [
    "data"
   ]
  },
  {
   "cell_type": "markdown",
   "metadata": {},
   "source": [
    "### Heterogenous GNN Models"
   ]
  },
  {
   "cell_type": "code",
   "execution_count": 71,
   "metadata": {},
   "outputs": [
    {
     "name": "stdout",
     "output_type": "stream",
     "text": [
      "('coauthor', 'write', 'paper')\n",
      "('paper', 'published_venue', 'venue')\n",
      "('paper', 'rev_write', 'coauthor')\n",
      "('venue', 'rev_published_venue', 'paper')\n"
     ]
    }
   ],
   "source": [
    "for i in data.edge_index_dict:\n",
    "    print(i)"
   ]
  },
  {
   "cell_type": "code",
   "execution_count": 96,
   "metadata": {},
   "outputs": [],
   "source": [
    "class GNN(torch.nn.Module):\n",
    "    def __init__(self, hidden_channels, out_channels):\n",
    "        super().__init__()\n",
    "        self.conv1 = SAGEConv((-1, -1), hidden_channels)\n",
    "        self.conv2 = SAGEConv((-1, -1), out_channels)\n",
    "\n",
    "    def forward(self, x, edge_attr):\n",
    "        x = self.conv1(x, edge_attr).relu()\n",
    "        x = self.conv2(x, edge_attr)\n",
    "        return torch.sigmoid(x)\n",
    "\n",
    "\n",
    "class GAT(torch.nn.Module):\n",
    "    def __init__(self, hidden_channels, out_channels):\n",
    "        super().__init__()\n",
    "        self.conv1 = GATConv((-1, -1), hidden_channels, add_self_loops=False)\n",
    "        self.lin1 = Linear(-1, hidden_channels)\n",
    "        self.conv2 = GATConv((-1, -1), out_channels, add_self_loops=False)\n",
    "        self.lin2 = Linear(-1, out_channels)\n",
    "\n",
    "    def forward(self, x, edge_index, edge_attr):\n",
    "        x = self.conv1(x, edge_index, edge_attr) + self.lin1(x)\n",
    "        x = x.relu()\n",
    "        x = self.conv2(x, edge_index, edge_attr) + self.lin2(x)\n",
    "        x = x.relu()\n",
    "        return torch.sigmoid(x)\n",
    "        # return x\n",
    "\n",
    "\n",
    "\n",
    "class HeteroGNN(torch.nn.Module):\n",
    "    def __init__(self, hidden_channels, out_channels, num_layers):\n",
    "        super().__init__()\n",
    "\n",
    "        self.convs = torch.nn.ModuleList()\n",
    "        for _ in range(num_layers):\n",
    "            conv = HeteroConv({\n",
    "                ('coauthor', 'write', 'paper'): GATConv((-1, -1), hidden_channels, add_self_loops=False),\n",
    "                ('paper', 'rev_write', 'coauthor'): GATConv((-1, -1), hidden_channels, add_self_loops=False),\n",
    "                ('coauthor', 'write_at', 'venue'): GATConv((-1, -1), hidden_channels, add_self_loops=False),\n",
    "                ('venue', 'rev_write_at', 'coauthor'): GATConv((-1, -1), hidden_channels, add_self_loops=False),\n",
    "\n",
    "                ('keywords', 'appear_in', 'paper'): GATConv((-1, -1), hidden_channels, add_self_loops=False),\n",
    "                ('paper', 'rev_appear_in', 'keywords'): GATConv((-1, -1), hidden_channels, add_self_loops=False),\n",
    "                ('coauthor', 'contain', 'keywords'): GATConv((-1, -1), hidden_channels, add_self_loops=False),\n",
    "                ('keywords', 'rev_contain', 'coauthor'): GATConv((-1, -1), hidden_channels, add_self_loops=False),\n",
    "            }, aggr='sum')\n",
    "            self.convs.append(conv)\n",
    "\n",
    "        self.lin = Linear(hidden_channels, out_channels)\n",
    "\n",
    "    def forward(self, x_dict, edge_index_dict, edge_attr):\n",
    "        for conv in self.convs:\n",
    "            x_dict = conv(x_dict, edge_index_dict, edge_attr)\n",
    "            x_dict = {key: x.relu() for key, x in x_dict.items()}\n",
    "\n",
    "        return torch.sigmoid(self.lin(x_dict['paper']))\n",
    "        # return self.lin(x_dict['paper'])\n",
    "\n",
    "\n",
    "class HGT(torch.nn.Module):\n",
    "    def __init__(self, hidden_channels, out_channels, num_heads, num_layers):\n",
    "        super().__init__()\n",
    "\n",
    "        self.lin_dict = torch.nn.ModuleDict()\n",
    "        for node_type in data.node_types:\n",
    "            self.lin_dict[node_type] = Linear(-1, hidden_channels)\n",
    "\n",
    "        self.convs = torch.nn.ModuleList()\n",
    "        for _ in range(num_layers):\n",
    "            conv = HGTConv(hidden_channels, hidden_channels, data.metadata(),\n",
    "                           num_heads, group='sum')\n",
    "            self.convs.append(conv)\n",
    "\n",
    "        self.lin = Linear(hidden_channels, out_channels)\n",
    "\n",
    "    def forward(self, x_dict, edge_index_dict):\n",
    "        for node_type, x in x_dict.items():\n",
    "            x_dict[node_type] = self.lin_dict[node_type](x).relu_()\n",
    "\n",
    "        for conv in self.convs:\n",
    "            x_dict = conv(x_dict, edge_index_dict)\n",
    "\n",
    "        return self.lin(x_dict['paper'])\n",
    "        # return torch.sigmoid(self.lin(x_dict['paper']))"
   ]
  },
  {
   "cell_type": "code",
   "execution_count": 97,
   "metadata": {},
   "outputs": [],
   "source": [
    "# model = GNN(hidden_channels=64, out_channels=num_class)\n",
    "# model = to_hetero(model, data.metadata(), aggr='sum')\n",
    "\n",
    "# model = GAT(hidden_channels=64, out_channels=num_class)\n",
    "# model = to_hetero(model, data.metadata(), aggr='sum')\n",
    "\n",
    "# model = HeteroGNN(hidden_channels=64, out_channels=num_class, num_layers=2)\n",
    "\n",
    "model = HGT(hidden_channels=64, out_channels=num_class, num_heads=2, num_layers=2)"
   ]
  },
  {
   "cell_type": "code",
   "execution_count": 98,
   "metadata": {},
   "outputs": [],
   "source": [
    "with torch.no_grad():  # Initialize lazy modules.\n",
    "    # out = model(data.x_dict, data.edge_index_dict, data.edge_attr_dict)\n",
    "    out = model(data.x_dict, data.edge_index_dict)"
   ]
  },
  {
   "cell_type": "code",
   "execution_count": 99,
   "metadata": {},
   "outputs": [],
   "source": [
    "optimizer = torch.optim.Adam(model.parameters(), lr=0.01)\n",
    "\n",
    "def train(epochs=100):\n",
    "    loss_list = []\n",
    "    mask = data['paper'].train_mask\n",
    "    print(\"train size : \", data['paper'].y[mask].shape[0])\n",
    "    for epoch in tqdm(range(epochs)):\n",
    "        model.train()\n",
    "        optimizer.zero_grad()\n",
    "        # out = model(data.x_dict, data.edge_index_dict, data.edge_attr_dict)\n",
    "        out = model(data.x_dict, data.edge_index_dict)\n",
    "        # print(out['paper'][mask].dtype)\n",
    "        # print(data['paper'].y[mask].dtype)\n",
    "\n",
    "        # loss = nn.BCELoss()(out[mask], data['paper'].y[mask])\n",
    "        loss = nn.BCEWithLogitsLoss()(out[mask], data['paper'].y[mask])\n",
    "        # loss = nn.BCELoss()(out['paper'][mask], data['paper'].y[mask])\n",
    "        loss.backward()\n",
    "        optimizer.step()\n",
    "\n",
    "        loss_list.append(loss.item())\n",
    "    \n",
    "    return loss_list"
   ]
  },
  {
   "cell_type": "code",
   "execution_count": 101,
   "metadata": {},
   "outputs": [
    {
     "name": "stdout",
     "output_type": "stream",
     "text": [
      "train size :  7483\n"
     ]
    },
    {
     "name": "stderr",
     "output_type": "stream",
     "text": [
      "100%|██████████| 100/100 [01:16<00:00,  1.31it/s]\n"
     ]
    }
   ],
   "source": [
    "loss_list = train(100)"
   ]
  },
  {
   "cell_type": "code",
   "execution_count": 102,
   "metadata": {},
   "outputs": [
    {
     "data": {
      "image/png": "[encoded data removed]",
      "text/plain": [
       "<Figure size 720x504 with 1 Axes>"
      ]
     },
     "metadata": {
      "needs_background": "light"
     },
     "output_type": "display_data"
    }
   ],
   "source": [
    "n = Model()\n",
    "n.train_loss = loss_list\n",
    "n.plot_loss()"
   ]
  },
  {
   "cell_type": "code",
   "execution_count": 103,
   "metadata": {},
   "outputs": [
    {
     "data": {
      "text/plain": [
       "0.04975322261452675"
      ]
     },
     "execution_count": 103,
     "metadata": {},
     "output_type": "execute_result"
    }
   ],
   "source": [
    "loss_list[-1]"
   ]
  },
  {
   "cell_type": "markdown",
   "metadata": {},
   "source": [
    "0.05317302048206329"
   ]
  },
  {
   "cell_type": "code",
   "execution_count": 104,
   "metadata": {},
   "outputs": [],
   "source": [
    "# logits = torch.sigmoid(model(data.x_dict, data.edge_index_dict))\n",
    "logits = model(data.x_dict, data.edge_index_dict)"
   ]
  },
  {
   "cell_type": "code",
   "execution_count": 107,
   "metadata": {},
   "outputs": [
    {
     "data": {
      "text/plain": [
       "tensor(0.0618, grad_fn=<MaxBackward1>)"
      ]
     },
     "execution_count": 107,
     "metadata": {},
     "output_type": "execute_result"
    }
   ],
   "source": [
    "# logits.shape\n",
    "logits.max()"
   ]
  },
  {
   "cell_type": "code",
   "execution_count": 106,
   "metadata": {},
   "outputs": [
    {
     "data": {
      "text/plain": [
       "tensor(0.0180)"
      ]
     },
     "execution_count": 106,
     "metadata": {},
     "output_type": "execute_result"
    }
   ],
   "source": [
    "a = torch.tensor(-4)\n",
    "torch.sigmoid(a)"
   ]
  },
  {
   "cell_type": "code",
   "execution_count": 85,
   "metadata": {},
   "outputs": [
    {
     "data": {
      "text/plain": [
       "tensor(800)"
      ]
     },
     "execution_count": 85,
     "metadata": {},
     "output_type": "execute_result"
    }
   ],
   "source": [
    "sum(data['paper'].test_mask)"
   ]
  },
  {
   "cell_type": "code",
   "execution_count": 86,
   "metadata": {},
   "outputs": [
    {
     "name": "stdout",
     "output_type": "stream",
     "text": [
      "1870\n"
     ]
    }
   ],
   "source": [
    "# val_mask = data['paper'].train_mask\n",
    "val_mask = data['paper'].val_mask\n",
    "\n",
    "test_list = to_list(data['paper'].y[val_mask])\n",
    "\n",
    "# test_list = data['paper'].y[val_mask].tolist()\n",
    "# test_list = []\n",
    "\n",
    "print(len(test_list))"
   ]
  },
  {
   "cell_type": "code",
   "execution_count": 87,
   "metadata": {},
   "outputs": [],
   "source": [
    "# type(test_list[0])\n",
    "# test_list\n",
    "# val_logits"
   ]
  },
  {
   "cell_type": "code",
   "execution_count": 90,
   "metadata": {},
   "outputs": [],
   "source": [
    "# val_logits = logits['paper'][val_mask]\n",
    "val_logits = logits[val_mask]\n",
    "\n",
    "def find_threshold(thresholds):\n",
    "    max_thred = 0\n",
    "    max_f1 = 0\n",
    "    max_pred_list = []\n",
    "    for threshold in tqdm(thresholds, total=len(thresholds)):\n",
    "        pred_list = []\n",
    "        \n",
    "        for i in range(len(val_logits)):\n",
    "            pred_au = \"\"\n",
    "            for j in range(100):\n",
    "                if val_logits[i, j] > threshold:\n",
    "                    pred_au += str(j) + \" \"\n",
    "            if pred_au:\n",
    "                pred_list.append(pred_au[:-1])\n",
    "            else:\n",
    "                pred_list.append('-1')\n",
    "\n",
    "            # pred_list.append(val_logits[i].index(max(val_logits[i])))\n",
    "\n",
    "        f1 = f1_score(test_list, pred_list, average='weighted')\n",
    "\n",
    "        if f1 >= max_f1:\n",
    "            max_f1 = f1\n",
    "            max_thred = threshold\n",
    "            max_pred_list = pred_list\n",
    "\n",
    "    return threshold, max_pred_list"
   ]
  },
  {
   "cell_type": "code",
   "execution_count": 91,
   "metadata": {},
   "outputs": [
    {
     "name": "stderr",
     "output_type": "stream",
     "text": [
      "100%|██████████| 8/8 [00:35<00:00,  4.43s/it]"
     ]
    },
    {
     "name": "stdout",
     "output_type": "stream",
     "text": [
      "0.9\n",
      "=========================Evaluation results=========================\n",
      "The accuracy score of prediction is : 0.2\n",
      "The recall   score of prediction is : 0.2\n",
      "The f1       score of prediction is : 0.06666666666666668\n"
     ]
    },
    {
     "name": "stderr",
     "output_type": "stream",
     "text": [
      "\n"
     ]
    }
   ],
   "source": [
    "# thresholds = np.linspace(0, 0.5, 100)\n",
    "thresholds = [0.02, 0.05, 0.1, 0.2, 0.3, 0.5, 0.8, 0.9]\n",
    "# thresholds = [0, 1, 2, 3, 4, 5, 6, 7, 8, 9, 10]\n",
    "threshold, pred_list = find_threshold(thresholds)\n",
    "print(threshold)\n",
    "print_scores(test_list, pred_list)"
   ]
  },
  {
   "cell_type": "markdown",
   "metadata": {},
   "source": [
    "### Kaggle"
   ]
  },
  {
   "cell_type": "code",
   "execution_count": 92,
   "metadata": {},
   "outputs": [
    {
     "data": {
      "text/plain": [
       "False    9354\n",
       "True      800\n",
       "Name: test_mask, dtype: int64"
      ]
     },
     "execution_count": 92,
     "metadata": {},
     "output_type": "execute_result"
    }
   ],
   "source": [
    "# sum(test_mask)\n",
    "train_df.test_mask.value_counts()"
   ]
  },
  {
   "cell_type": "code",
   "execution_count": 94,
   "metadata": {},
   "outputs": [
    {
     "name": "stderr",
     "output_type": "stream",
     "text": [
      "100%|██████████| 800/800 [00:02<00:00, 392.83it/s]\n"
     ]
    }
   ],
   "source": [
    "threshold = 0.1\n",
    "\n",
    "test_mask = data['paper'].test_mask\n",
    "\n",
    "# test_logits = logits['paper'][test_mask]\n",
    "test_logits = logits[test_mask]\n",
    "\n",
    "kaggle_predict = []\n",
    "\n",
    "for i in tqdm(range(len(test_logits))):\n",
    "    pred_au = \"\"\n",
    "    for j in range(100):\n",
    "        if test_logits[i, j] >= threshold:\n",
    "            if j == 100:\n",
    "                \n",
    "                break\n",
    "            pred_au += str(j) + \" \"\n",
    "\n",
    "    if pred_au:\n",
    "        kaggle_predict.append(pred_au[:-1])\n",
    "    else:\n",
    "        kaggle_predict.append('-1')\n"
   ]
  },
  {
   "cell_type": "code",
   "execution_count": 95,
   "metadata": {},
   "outputs": [],
   "source": [
    "kaggle = pd.DataFrame(columns=[\"ID\", \"Predict\"])\n",
    "kaggle['Predict'] = kaggle_predict\n",
    "kaggle['ID'] = kaggle.index\n",
    "kaggle = kaggle.set_index('ID')\n",
    "kaggle.to_csv(\"../../kaggle/predict_gnn.csv\")"
   ]
  },
  {
   "cell_type": "code",
   "execution_count": 96,
   "metadata": {},
   "outputs": [
    {
     "name": "stdout",
     "output_type": "stream",
     "text": [
      "proportion of no authors  :  1.0\n",
      "number of having prolific authors  :  0\n"
     ]
    }
   ],
   "source": [
    "count = 0\n",
    "for i in kaggle['Predict']:\n",
    "    if i == '-1':\n",
    "        count += 1\n",
    "\n",
    "print('proportion of no authors  : ', count/800)\n",
    "print('number of having prolific authors  : ', 800-count)"
   ]
  },
  {
   "cell_type": "code",
   "execution_count": 97,
   "metadata": {},
   "outputs": [
    {
     "data": {
      "text/html": [
       "<div>\n",
       "<style scoped>\n",
       "    .dataframe tbody tr th:only-of-type {\n",
       "        vertical-align: middle;\n",
       "    }\n",
       "\n",
       "    .dataframe tbody tr th {\n",
       "        vertical-align: top;\n",
       "    }\n",
       "\n",
       "    .dataframe thead th {\n",
       "        text-align: right;\n",
       "    }\n",
       "</style>\n",
       "<table border=\"1\" class=\"dataframe\">\n",
       "  <thead>\n",
       "    <tr style=\"text-align: right;\">\n",
       "      <th></th>\n",
       "      <th>Predict</th>\n",
       "    </tr>\n",
       "    <tr>\n",
       "      <th>ID</th>\n",
       "      <th></th>\n",
       "    </tr>\n",
       "  </thead>\n",
       "  <tbody>\n",
       "    <tr>\n",
       "      <th>0</th>\n",
       "      <td>-1</td>\n",
       "    </tr>\n",
       "    <tr>\n",
       "      <th>1</th>\n",
       "      <td>-1</td>\n",
       "    </tr>\n",
       "    <tr>\n",
       "      <th>2</th>\n",
       "      <td>-1</td>\n",
       "    </tr>\n",
       "    <tr>\n",
       "      <th>3</th>\n",
       "      <td>-1</td>\n",
       "    </tr>\n",
       "    <tr>\n",
       "      <th>4</th>\n",
       "      <td>-1</td>\n",
       "    </tr>\n",
       "  </tbody>\n",
       "</table>\n",
       "</div>"
      ],
      "text/plain": [
       "   Predict\n",
       "ID        \n",
       "0       -1\n",
       "1       -1\n",
       "2       -1\n",
       "3       -1\n",
       "4       -1"
      ]
     },
     "execution_count": 97,
     "metadata": {},
     "output_type": "execute_result"
    }
   ],
   "source": [
    "kaggle.head()"
   ]
  },
  {
   "cell_type": "code",
   "execution_count": 98,
   "metadata": {},
   "outputs": [
    {
     "data": {
      "image/png": "[encoded data removed]",
      "text/plain": [
       "<Figure size 432x288 with 1 Axes>"
      ]
     },
     "metadata": {
      "needs_background": "light"
     },
     "output_type": "display_data"
    }
   ],
   "source": [
    "from matplotlib import pyplot as plt\n",
    "\n",
    "counts = {}\n",
    "for i in kaggle['Predict']:\n",
    "    if i == '-1':\n",
    "        if 0 in counts:\n",
    "            counts[0] += 1\n",
    "        else:\n",
    "            counts[0] = 1\n",
    "        continue\n",
    "\n",
    "    num_author = len(i.split())\n",
    "    if num_author in counts:\n",
    "        counts[num_author] += 1\n",
    "    else:\n",
    "        counts[num_author] = 1\n",
    "\n",
    "plt.bar(counts.keys(), counts.values())\n",
    "plt.show()"
   ]
  },
  {
   "cell_type": "markdown",
   "metadata": {},
   "source": [
    "## Test"
   ]
  },
  {
   "cell_type": "code",
   "execution_count": 135,
   "metadata": {},
   "outputs": [
    {
     "name": "stdout",
     "output_type": "stream",
     "text": [
      "tensor(1., grad_fn=<MaxBackward1>)\n",
      "100\n"
     ]
    }
   ],
   "source": [
    "sample = logits['paper'][1]\n",
    "print(sample.max())\n",
    "# print(sample.where(sample.max(),  0))\n",
    "for i in range(num_class):\n",
    "    if sample[i] == sample.max().item():\n",
    "        print(i)\n"
   ]
  },
  {
   "cell_type": "code",
   "execution_count": 290,
   "metadata": {},
   "outputs": [
    {
     "data": {
      "text/plain": [
       "'3 89'"
      ]
     },
     "execution_count": 290,
     "metadata": {},
     "output_type": "execute_result"
    }
   ],
   "source": [
    "test_list[0]"
   ]
  },
  {
   "cell_type": "code",
   "execution_count": 293,
   "metadata": {},
   "outputs": [
    {
     "data": {
      "text/plain": [
       "tensor(0.0067, grad_fn=<SelectBackward0>)"
      ]
     },
     "execution_count": 293,
     "metadata": {},
     "output_type": "execute_result"
    }
   ],
   "source": [
    "logits['paper'][test_mask][0][3]"
   ]
  },
  {
   "cell_type": "code",
   "execution_count": 205,
   "metadata": {},
   "outputs": [
    {
     "name": "stdout",
     "output_type": "stream",
     "text": [
      "53\n"
     ]
    }
   ],
   "source": [
    "for i in range(100):\n",
    "    if logits['paper'][0][i] == logits['paper'][0].max():\n",
    "        print(i)"
   ]
  },
  {
   "cell_type": "code",
   "execution_count": 41,
   "metadata": {},
   "outputs": [
    {
     "data": {
      "text/plain": [
       "tensor([ True,  True,  True,  ..., False, False, False])"
      ]
     },
     "execution_count": 41,
     "metadata": {},
     "output_type": "execute_result"
    }
   ],
   "source": [
    "mask = data['paper'].train_mask\n",
    "~mask"
   ]
  },
  {
   "cell_type": "code",
   "execution_count": 104,
   "metadata": {},
   "outputs": [
    {
     "data": {
      "text/plain": [
       "['-1', '-1', '-1', '41 53', '-1']"
      ]
     },
     "execution_count": 104,
     "metadata": {},
     "output_type": "execute_result"
    }
   ],
   "source": [
    "pred_list[:5]"
   ]
  },
  {
   "cell_type": "code",
   "execution_count": 105,
   "metadata": {},
   "outputs": [
    {
     "data": {
      "text/plain": [
       "['3 89', '74 86', '47', '15', '64']"
      ]
     },
     "execution_count": 105,
     "metadata": {},
     "output_type": "execute_result"
    }
   ],
   "source": [
    "test_list[:5]"
   ]
  },
  {
   "cell_type": "code",
   "execution_count": 43,
   "metadata": {},
   "outputs": [
    {
     "ename": "NameError",
     "evalue": "name 'test_logits' is not defined",
     "output_type": "error",
     "traceback": [
      "\u001b[0;31m---------------------------------------------------------------------------\u001b[0m",
      "\u001b[0;31mNameError\u001b[0m                                 Traceback (most recent call last)",
      "\u001b[1;32m/Users/messifr/Desktop/Messi/MasterY1S2/sml/gnn/COMP90051_Project2/code/multi_layer_models/heterogenous_gnn.ipynb Cell 53\u001b[0m in \u001b[0;36m<cell line: 1>\u001b[0;34m()\u001b[0m\n\u001b[0;32m----> <a href='vscode-notebook-cell:/Users/messifr/Desktop/Messi/MasterY1S2/sml/gnn/COMP90051_Project2/code/multi_layer_models/heterogenous_gnn.ipynb#X66sZmlsZQ%3D%3D?line=0'>1</a>\u001b[0m test_logits\u001b[39m.\u001b[39mmax()\n",
      "\u001b[0;31mNameError\u001b[0m: name 'test_logits' is not defined"
     ]
    }
   ],
   "source": [
    "test_logits.max()"
   ]
  },
  {
   "cell_type": "code",
   "execution_count": 42,
   "metadata": {},
   "outputs": [
    {
     "data": {
      "text/plain": [
       "{'paper': tensor([[ 0.7373, -4.3554,  0.8266,  ...,  1.8072,  1.5695, -0.9569],\n",
       "         [ 0.5528, -3.7845, -0.7132,  ...,  0.7833,  0.9154, -1.5261],\n",
       "         [ 0.3928,  0.2018, -0.5519,  ...,  0.0327, -1.0929, -0.3226],\n",
       "         ...,\n",
       "         [-0.2499,  0.1750, -0.2671,  ..., -0.1124,  0.3376, -1.6740],\n",
       "         [ 1.2607,  1.6286, -0.8348,  ...,  1.8028,  0.7335, -2.0001],\n",
       "         [ 0.8718,  0.3729,  0.0826,  ...,  1.2577,  0.6941, -1.4276]],\n",
       "        grad_fn=<AddBackward0>),\n",
       " 'coauthor': tensor([[-0.0195, -1.9382, -0.2104,  ..., -0.0297,  0.1136, -0.7669],\n",
       "         [ 0.0502, -0.0893, -0.3858,  ..., -0.4169,  0.1639,  0.4475],\n",
       "         [ 1.2138, -0.5204, -0.7967,  ...,  0.0628, -0.8351, -0.8316],\n",
       "         ...,\n",
       "         [-0.1113, -0.0474, -0.0763,  ..., -0.4788,  0.1056,  0.2801],\n",
       "         [ 0.1526, -0.0863,  0.5457,  ..., -0.3850,  0.3349,  0.2677],\n",
       "         [-0.8975, -1.1972, -2.0797,  ..., -1.4725,  0.2720,  0.2842]],\n",
       "        grad_fn=<AddBackward0>),\n",
       " 'venue': tensor([[-0.3312, -0.1226,  0.0502,  ..., -0.1790, -0.1848, -0.4352],\n",
       "         [-0.4557, -0.2429, -0.1906,  ...,  0.6008, -0.0947, -0.5285],\n",
       "         [-0.2662,  0.1272, -0.3420,  ...,  0.9503, -0.3739, -0.3887],\n",
       "         ...,\n",
       "         [ 0.4029,  0.1068, -0.6275,  ...,  0.8784,  0.0110, -0.5067],\n",
       "         [ 0.0874, -0.0225, -0.5886,  ...,  0.6452,  0.3180, -0.6469],\n",
       "         [ 0.2643, -0.1343, -1.0766,  ...,  0.7309, -0.6050, -0.1824]],\n",
       "        grad_fn=<AddBackward0>),\n",
       " 'year': tensor([[ 0.8003, -0.7097, -0.1987,  ..., -1.4724, -1.0662,  0.2352],\n",
       "         [ 1.0739, -0.7903, -0.3679,  ..., -1.1276, -1.3913,  0.2472],\n",
       "         [ 1.0824, -0.3306,  0.0759,  ..., -0.8864, -1.1037, -0.0058],\n",
       "         ...,\n",
       "         [ 0.7632,  0.0461, -0.3215,  ...,  0.1406, -0.4914,  0.5954],\n",
       "         [ 0.3512, -0.1274,  0.0710,  ..., -0.7762, -0.5818,  0.4497],\n",
       "         [ 0.2392, -0.0347, -0.3280,  ...,  0.3326, -0.7717,  0.7764]],\n",
       "        grad_fn=<AddBackward0>)}"
      ]
     },
     "execution_count": 42,
     "metadata": {},
     "output_type": "execute_result"
    }
   ],
   "source": [
    "logits[]"
   ]
  },
  {
   "cell_type": "code",
   "execution_count": 81,
   "metadata": {},
   "outputs": [
    {
     "data": {
      "text/plain": [
       "tensor(0.0119, grad_fn=<MaxBackward1>)"
      ]
     },
     "execution_count": 81,
     "metadata": {},
     "output_type": "execute_result"
    }
   ],
   "source": [
    "logits['paper'].max()"
   ]
  },
  {
   "cell_type": "code",
   "execution_count": null,
   "metadata": {},
   "outputs": [],
   "source": []
  }
 ],
 "metadata": {
  "kernelspec": {
   "display_name": "Python 3.10.4 64-bit",
   "language": "python",
   "name": "python3"
  },
  "language_info": {
   "codemirror_mode": {
    "name": "ipython",
    "version": 3
   },
   "file_extension": ".py",
   "mimetype": "text/x-python",
   "name": "python",
   "nbconvert_exporter": "python",
   "pygments_lexer": "ipython3",
   "version": "3.10.4"
  },
  "orig_nbformat": 4,
  "vscode": {
   "interpreter": {
    "hash": "aee8b7b246df8f9039afb4144a1f6fd8d2ca17a180786b69acc140d282b71a49"
   }
  }
 },
 "nbformat": 4,
 "nbformat_minor": 2
}
