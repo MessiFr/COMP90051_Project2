{
 "cells": [
  {
   "cell_type": "code",
   "execution_count": 1,
   "metadata": {},
   "outputs": [
    {
     "name": "stderr",
     "output_type": "stream",
     "text": [
      "/Library/Frameworks/Python.framework/Versions/3.10/lib/python3.10/site-packages/tqdm/auto.py:22: TqdmWarning: IProgress not found. Please update jupyter and ipywidgets. See https://ipywidgets.readthedocs.io/en/stable/user_install.html\n",
      "  from .autonotebook import tqdm as notebook_tqdm\n"
     ]
    }
   ],
   "source": [
    "# from sklearn.datasets import make_multilabel_classification\n",
    "from torch.utils.data import Dataset\n",
    "import json\n",
    "import numpy as np\n",
    "import torch\n",
    "import time\n",
    "from tqdm import tqdm"
   ]
  },
  {
   "cell_type": "code",
   "execution_count": 2,
   "metadata": {},
   "outputs": [
    {
     "name": "stderr",
     "output_type": "stream",
     "text": [
      "delet some useless data: 100%|██████████| 25793/25793 [00:00<00:00, 465486.35it/s]\n"
     ]
    },
    {
     "name": "stdout",
     "output_type": "stream",
     "text": [
      "Train Data\n"
     ]
    },
    {
     "name": "stderr",
     "output_type": "stream",
     "text": [
      "title & abstract: 100%|██████████| 25793/25793 [00:31<00:00, 814.60it/s] \n",
      "venue: 100%|██████████| 25793/25793 [00:02<00:00, 11240.97it/s]\n",
      "year: 100%|██████████| 25793/25793 [00:02<00:00, 10840.07it/s]\n",
      "authors: 100%|██████████| 25793/25793 [00:02<00:00, 9391.54it/s] \n"
     ]
    },
    {
     "name": "stdout",
     "output_type": "stream",
     "text": [
      "Test Data\n"
     ]
    },
    {
     "name": "stderr",
     "output_type": "stream",
     "text": [
      "title & abstract: 100%|██████████| 800/800 [00:01<00:00, 447.07it/s]\n",
      "venue: 100%|██████████| 800/800 [00:00<00:00, 150353.69it/s]\n",
      "year: 100%|██████████| 800/800 [00:00<00:00, 192167.87it/s]\n",
      "authors: 100%|██████████| 800/800 [00:00<00:00, 25132.71it/s]\n"
     ]
    },
    {
     "name": "stdout",
     "output_type": "stream",
     "text": [
      "Train:\n",
      "     X :  torch.Size([14920, 26147])\n",
      "     y :  torch.Size([14920, 100])\n",
      "Test_Kaggle:\n",
      "     X :  torch.Size([800, 26147])\n"
     ]
    }
   ],
   "source": [
    "# read train data and test data\n",
    "f_train = open(\"../data/train.json\", 'r')\n",
    "train_data = json.load(f_train)\n",
    "\n",
    "f_test = open(\"../data/test.json\", 'r')\n",
    "test_data = json.load(f_test)\n",
    "\n",
    "\n",
    "def handle_authors(data):\n",
    "    n_samples = len(data)\n",
    "    empty_idx = []\n",
    "\n",
    "    for i in tqdm(range(n_samples), desc=\"delet some useless data\"):\n",
    "        authors = data[i]['authors']\n",
    "        p_author = 0\n",
    "\n",
    "        for au in authors:\n",
    "            if au < 100:\n",
    "                p_author += 1\n",
    "        \n",
    "        if p_author == 0:\n",
    "            empty_idx.append(i)\n",
    "    \n",
    "    discard_idx = empty_idx[:len(empty_idx)-(n_samples-len(empty_idx))]\n",
    "\n",
    "    return discard_idx\n",
    "\n",
    "\n",
    "def get_attr_matrix(data, discard_idx=[], train=True):\n",
    "    n_samples = len(data)\n",
    "    n_features = 5000 -1 \n",
    "\n",
    "    # get abstract & title feature\n",
    "    # 序列信息 ！！！！\n",
    "    # 语言模型\n",
    "    # lstm （*）\n",
    "\n",
    "    #   XX bert pre-trained / 去掉embedding层 **\n",
    "\n",
    "\n",
    "    if train:\n",
    "        wmatrix = torch.zeros([n_samples-len(discard_idx), n_features])\n",
    "    else:\n",
    "        wmatrix = torch.zeros([n_samples, n_features])\n",
    "\n",
    "    INDEX = 0\n",
    "    for i in tqdm(range(n_samples), desc=\"title & abstract\"):\n",
    "\n",
    "        if i in discard_idx and train:\n",
    "            continue\n",
    "\n",
    "        instance = data[INDEX]\n",
    "        for title in instance['title']:\n",
    "            wmatrix[INDEX, title-1] += 1\n",
    "        for abstract in instance['abstract']:\n",
    "            wmatrix[INDEX, abstract-1] += 1\n",
    "        INDEX += 1\n",
    "\n",
    "    # get venue feature\n",
    "    # embedding\n",
    "\n",
    "    if train:\n",
    "        vmatrix = torch.zeros([n_samples-len(discard_idx), 1])\n",
    "    else:\n",
    "        vmatrix = torch.zeros([n_samples, 1])\n",
    "\n",
    "    INDEX = 0\n",
    "    for i in tqdm(range(n_samples), desc=\"venue\"):\n",
    "        if i in discard_idx and train:\n",
    "            continue\n",
    "\n",
    "        venue = data[INDEX]['venue']\n",
    "        \n",
    "        if venue:\n",
    "            vmatrix[INDEX, ] = venue\n",
    "        else:\n",
    "            vmatrix[INDEX, ] = -1\n",
    "        INDEX += 1\n",
    "\n",
    "    # get year feature !!!!!\n",
    "    # 1-d 编码器 年份 输出特征 -》 256维\n",
    "    # distribution of \n",
    "    # nn.Embedding() // input: batch-size * 1 // output: batch-size * embedding-size\n",
    "\n",
    "    if train:\n",
    "        ymatrix = torch.zeros([n_samples-len(discard_idx), 1])\n",
    "    else:\n",
    "        ymatrix = torch.zeros([n_samples, 1])\n",
    "    \n",
    "\n",
    "    INDEX = 0\n",
    "    for i in tqdm(range(n_samples), desc=\"year\"):\n",
    "        if i in discard_idx and train:\n",
    "            continue\n",
    "\n",
    "        year = data[INDEX]['year']\n",
    "        \n",
    "        if year:\n",
    "            ymatrix[INDEX, ] = year\n",
    "        else:\n",
    "            ymatrix[INDEX, ] = -1\n",
    "        INDEX += 1\n",
    "\n",
    "    # get prolific authors \n",
    "    # co author -> feature / 单独编码\n",
    "    # 多任务 - predict all authors \n",
    "\n",
    "\n",
    "    if train:\n",
    "        y = torch.zeros([n_samples-len(discard_idx), 100])\n",
    "        key = 'authors'\n",
    "    else:\n",
    "        y = None\n",
    "\n",
    "    # get co-author matrix\n",
    "    if train:\n",
    "        amatrix = torch.zeros([n_samples-len(discard_idx), 21245 - 100 + 1])\n",
    "    else:\n",
    "        amatrix = torch.zeros([n_samples, 21245 - 100 + 1])\n",
    "        key = 'coauthors'\n",
    "\n",
    "    INDEX = 0\n",
    "    for i in tqdm(range(n_samples), desc=\"authors\"):\n",
    "        if i in discard_idx and train:\n",
    "            continue\n",
    "\n",
    "        authors = data[INDEX][key]\n",
    "        p_author = 0\n",
    "        \n",
    "        for au in authors:\n",
    "            if au < 100:\n",
    "                y[INDEX, au] += 1\n",
    "\n",
    "            else:\n",
    "                amatrix[INDEX, au - 100] += 1\n",
    "\n",
    "        INDEX += 1\n",
    "            \n",
    "    return torch.cat((wmatrix, vmatrix, ymatrix, amatrix), 1), y\n",
    "\n",
    "di = handle_authors(train_data)\n",
    "\n",
    "print(\"Train Data\")\n",
    "X, y = get_attr_matrix(train_data, discard_idx=di)\n",
    "\n",
    "print(\"Test Data\")\n",
    "X_kaggle, _ = get_attr_matrix(test_data, train=False)\n",
    "\n",
    "print(\"Train:\")\n",
    "print(\"     X : \", X.shape)\n",
    "print(\"     y : \", y.shape)\n",
    "print(\"Test_Kaggle:\")\n",
    "print(\"     X : \", X_kaggle.shape)"
   ]
  },
  {
   "cell_type": "code",
   "execution_count": 43,
   "metadata": {},
   "outputs": [
    {
     "data": {
      "text/plain": [
       "tensor([[0., 0., 0.,  ..., 0., 0., 0.],\n",
       "        [0., 0., 0.,  ..., 0., 0., 0.],\n",
       "        [0., 0., 0.,  ..., 0., 0., 0.],\n",
       "        ...,\n",
       "        [0., 0., 0.,  ..., 0., 0., 0.],\n",
       "        [0., 0., 0.,  ..., 0., 0., 0.],\n",
       "        [0., 0., 0.,  ..., 0., 0., 0.]])"
      ]
     },
     "execution_count": 43,
     "metadata": {},
     "output_type": "execute_result"
    }
   ],
   "source": [
    "X"
   ]
  },
  {
   "cell_type": "code",
   "execution_count": 3,
   "metadata": {},
   "outputs": [
    {
     "name": "stdout",
     "output_type": "stream",
     "text": [
      "Train:\n",
      "     X_train :  torch.Size([9996, 26147])\n",
      "     y_train :  torch.Size([9996, 100])\n",
      "Test_Kaggle:\n",
      "     X_test  :  torch.Size([4924, 26147])\n",
      "     y_test  :  torch.Size([4924, 100])\n"
     ]
    }
   ],
   "source": [
    "from sklearn.model_selection import train_test_split\n",
    "\n",
    "X_train, X_test, y_train, y_test = train_test_split(X, y, test_size=0.33, random_state=42)\n",
    "\n",
    "\n",
    "print(\"Train:\")\n",
    "print(\"     X_train : \", X_train.shape)\n",
    "print(\"     y_train : \", y_train.shape)\n",
    "print(\"Test_Kaggle:\")\n",
    "print(\"     X_test  : \", X_test.shape)\n",
    "print(\"     y_test  : \", y_test.shape)"
   ]
  },
  {
   "cell_type": "code",
   "execution_count": 4,
   "metadata": {},
   "outputs": [],
   "source": [
    "# `BinaryDataset()` class for multi-head binary classification model\n",
    "class BinaryDataset(Dataset):\n",
    "    def __init__(self, x, y):\n",
    "        self.x = x\n",
    "        self.y = y\n",
    "        \n",
    "    def __len__(self):\n",
    "        return len(self.x)\n",
    "    \n",
    "    def __getitem__(self, index):\n",
    "        features = self.x[index, :]\n",
    "        labels = self.y[index, :]\n",
    "        \n",
    "        # we have 12 feature columns \n",
    "        features = torch.tensor(features, dtype=torch.float32)\n",
    "        # there are 5 classes and each class can have a binary value ...\n",
    "        # ... either 0 or 1\n",
    "        label_dict = {'features': features}\n",
    "        for i in range(100):\n",
    "            key = 'label' + str(i)\n",
    "            label_dict[key] = torch.tensor(labels[i], dtype=torch.float32)\n",
    "\n",
    "        return label_dict\n",
    "        "
   ]
  },
  {
   "cell_type": "code",
   "execution_count": 5,
   "metadata": {},
   "outputs": [],
   "source": [
    "import torch.nn as nn\n",
    "import torch.nn.functional as F"
   ]
  },
  {
   "cell_type": "code",
   "execution_count": 44,
   "metadata": {},
   "outputs": [],
   "source": [
    "## 多个class /  - 特征融合 - 过全联接层 - 输出层\n",
    "## 多输出 融合"
   ]
  },
  {
   "cell_type": "code",
   "execution_count": 45,
   "metadata": {},
   "outputs": [],
   "source": [
    "class MultiHeadBinaryModel(nn.Module):\n",
    "    def __init__(self):\n",
    "        super(MultiHeadBinaryModel, self).__init__()\n",
    "\n",
    "        ## 1024, 512, 256, 100\n",
    "        ## nn.Dropout() // 0.1, 0.2 //\n",
    "\n",
    "        self.fc1 = nn.Linear(26147, 1024)\n",
    "        self.fc2 = nn.Linear(1024, 512)\n",
    "        self.out = nn.Linear(512, 100)\n",
    "    \n",
    "    def forward(self, x):\n",
    "\n",
    "        # F.leaky_relu()\n",
    "\n",
    "        x = F.relu(self.fc1(x))\n",
    "        x = F.relu(self.fc2(x))\n",
    "        outs = F.sigmoid(self.out(x)) \n",
    "\n",
    "        return outs\n"
   ]
  },
  {
   "cell_type": "code",
   "execution_count": 153,
   "metadata": {},
   "outputs": [],
   "source": [
    "import torch.nn as nn\n",
    "# custom loss function for multi-head binary classification\n",
    "# binary_loss_fn\n",
    "def loss_fn(outputs, targets):\n",
    "\n",
    "    n_class = 100\n",
    "    sum_ = 0\n",
    "    \n",
    "    for i in range(n_class):\n",
    "        \n",
    "        # outputs_ = torch.reshape(outputs[i], (-1,))\n",
    "        outputs_ = outputs[:, i]\n",
    "\n",
    "        '''for j in range(len(outputs_)):\n",
    "\n",
    "            ## threshold !!!!!!!!\n",
    "            ## threshold \n",
    "            ## 每个人阈值不同，>0.5, 降低threshold, \n",
    "            ## 0.2 ? (0.1) => recall\n",
    "            \n",
    "            if outputs_[j] > 0.2:\n",
    "                outputs_[j] = 1\n",
    "            else:\n",
    "                outputs_[j] = 0'''\n",
    "        \n",
    "        sum_ += nn.BCELoss()(outputs_, targets[i])\n",
    "        ## 多标签分类 (mse) \n",
    "\n",
    "    return sum_ / n_class\n",
    "    "
   ]
  },
  {
   "cell_type": "code",
   "execution_count": 154,
   "metadata": {},
   "outputs": [],
   "source": [
    "# from dataset import make_dataset, BinaryDataset\n",
    "from torch.utils.data import DataLoader\n",
    "\n",
    "import torch.optim as optim\n",
    "import torch.nn as nn\n",
    "import torch\n",
    "import matplotlib.pyplot as plt\n",
    "import matplotlib\n",
    "matplotlib.style.use('ggplot')"
   ]
  },
  {
   "cell_type": "code",
   "execution_count": 155,
   "metadata": {},
   "outputs": [
    {
     "name": "stdout",
     "output_type": "stream",
     "text": [
      "[INFO]: Number of training samples: 9996\n",
      "[INFO]: Number of training features: 26147\n"
     ]
    }
   ],
   "source": [
    "# prepare the dataset\n",
    "# x_train, y_train, _, _ = make_dataset()\n",
    "# print some info\n",
    "print(f\"[INFO]: Number of training samples: {X_train.shape[0]}\")\n",
    "print(f\"[INFO]: Number of training features: {X_train.shape[1]}\")\n",
    "# train dataset\n",
    "train_dataset = BinaryDataset(X_train, y_train)\n",
    "# train data loader\n",
    "train_dataloader = DataLoader(train_dataset, shuffle=True, batch_size=1024)\n",
    "# initialize the model\n",
    "model = MultiHeadBinaryModel()"
   ]
  },
  {
   "cell_type": "code",
   "execution_count": 159,
   "metadata": {},
   "outputs": [],
   "source": [
    "# training function\n",
    "def train(model, dataloader, optimizer, loss_fn, train_dataset, device):\n",
    "    model.train()\n",
    "    counter = 0\n",
    "    train_running_loss = 0.0\n",
    "    for i, data in tqdm(enumerate(dataloader), total=int(len(train_dataset)/dataloader.batch_size)):\n",
    "    \n",
    "        counter += 1\n",
    "        \n",
    "        # extract the features and labels\n",
    "        features = data['features'].to(device)\n",
    "        \n",
    "        targets = []\n",
    "        for j in range(100):\n",
    "            targets.append(data[f'label{j}'].to(device))\n",
    "        \n",
    "        # zero-out the optimizer gradients\n",
    "        optimizer.zero_grad()\n",
    "        \n",
    "        outputs = model(features)\n",
    "        \n",
    "        loss = loss_fn(outputs, targets)\n",
    "        train_running_loss += loss.item()\n",
    "        \n",
    "        # backpropagation\n",
    "        loss.backward()\n",
    "        \n",
    "        # update optimizer parameters\n",
    "        optimizer.step()\n",
    "        \n",
    "    train_loss = train_running_loss / counter\n",
    "    return train_loss"
   ]
  },
  {
   "cell_type": "code",
   "execution_count": 160,
   "metadata": {},
   "outputs": [
    {
     "data": {
      "text/plain": [
       "MultiHeadBinaryModel(\n",
       "  (fc1): Linear(in_features=26147, out_features=1024, bias=True)\n",
       "  (fc2): Linear(in_features=1024, out_features=512, bias=True)\n",
       "  (out): Linear(in_features=512, out_features=100, bias=True)\n",
       ")"
      ]
     },
     "execution_count": 160,
     "metadata": {},
     "output_type": "execute_result"
    }
   ],
   "source": [
    "# learning parameters\n",
    "optimizer = optim.Adam(params=model.parameters(), lr=0.001) # 学习率衰减 / 学习率震荡\n",
    "device = torch.device('cuda' if torch.cuda.is_available() else 'cpu')\n",
    "epochs = 10\n",
    "# load the model on to the computation device\n",
    "model.to(device)"
   ]
  },
  {
   "cell_type": "code",
   "execution_count": 161,
   "metadata": {},
   "outputs": [
    {
     "name": "stdout",
     "output_type": "stream",
     "text": [
      "Epoch 1 of 10\n"
     ]
    },
    {
     "name": "stderr",
     "output_type": "stream",
     "text": [
      "  0%|          | 0/9 [00:00<?, ?it/s]/var/folders/v7/wxn3bxmn2018mjps58z5d3hw0000gn/T/ipykernel_17049/3191504715.py:15: UserWarning: To copy construct from a tensor, it is recommended to use sourceTensor.clone().detach() or sourceTensor.clone().detach().requires_grad_(True), rather than torch.tensor(sourceTensor).\n",
      "  features = torch.tensor(features, dtype=torch.float32)\n",
      "/var/folders/v7/wxn3bxmn2018mjps58z5d3hw0000gn/T/ipykernel_17049/3191504715.py:21: UserWarning: To copy construct from a tensor, it is recommended to use sourceTensor.clone().detach() or sourceTensor.clone().detach().requires_grad_(True), rather than torch.tensor(sourceTensor).\n",
      "  label_dict[key] = torch.tensor(labels[i], dtype=torch.float32)\n",
      "10it [00:32,  3.23s/it]                      \n"
     ]
    },
    {
     "name": "stdout",
     "output_type": "stream",
     "text": [
      "Train Loss: 0.0510\n",
      "Epoch 2 of 10\n"
     ]
    },
    {
     "name": "stderr",
     "output_type": "stream",
     "text": [
      "10it [00:25,  2.59s/it]                      \n"
     ]
    },
    {
     "name": "stdout",
     "output_type": "stream",
     "text": [
      "Train Loss: 0.0341\n",
      "Epoch 3 of 10\n"
     ]
    },
    {
     "name": "stderr",
     "output_type": "stream",
     "text": [
      "10it [00:29,  2.96s/it]                      \n"
     ]
    },
    {
     "name": "stdout",
     "output_type": "stream",
     "text": [
      "Train Loss: 0.0285\n",
      "Epoch 4 of 10\n"
     ]
    },
    {
     "name": "stderr",
     "output_type": "stream",
     "text": [
      "10it [00:30,  3.04s/it]                      \n"
     ]
    },
    {
     "name": "stdout",
     "output_type": "stream",
     "text": [
      "Train Loss: 0.0262\n",
      "Epoch 5 of 10\n"
     ]
    },
    {
     "name": "stderr",
     "output_type": "stream",
     "text": [
      "10it [00:28,  2.84s/it]                      \n"
     ]
    },
    {
     "name": "stdout",
     "output_type": "stream",
     "text": [
      "Train Loss: 0.0239\n",
      "Epoch 6 of 10\n"
     ]
    },
    {
     "name": "stderr",
     "output_type": "stream",
     "text": [
      "10it [00:26,  2.64s/it]                      \n"
     ]
    },
    {
     "name": "stdout",
     "output_type": "stream",
     "text": [
      "Train Loss: 0.0223\n",
      "Epoch 7 of 10\n"
     ]
    },
    {
     "name": "stderr",
     "output_type": "stream",
     "text": [
      "10it [00:25,  2.56s/it]                      \n"
     ]
    },
    {
     "name": "stdout",
     "output_type": "stream",
     "text": [
      "Train Loss: 0.0210\n",
      "Epoch 8 of 10\n"
     ]
    },
    {
     "name": "stderr",
     "output_type": "stream",
     "text": [
      "10it [00:25,  2.51s/it]                      \n"
     ]
    },
    {
     "name": "stdout",
     "output_type": "stream",
     "text": [
      "Train Loss: 0.0198\n",
      "Epoch 9 of 10\n"
     ]
    },
    {
     "name": "stderr",
     "output_type": "stream",
     "text": [
      "10it [00:29,  3.00s/it]                      \n"
     ]
    },
    {
     "name": "stdout",
     "output_type": "stream",
     "text": [
      "Train Loss: 0.0186\n",
      "Epoch 10 of 10\n"
     ]
    },
    {
     "name": "stderr",
     "output_type": "stream",
     "text": [
      "10it [00:26,  2.69s/it]                      \n"
     ]
    },
    {
     "name": "stdout",
     "output_type": "stream",
     "text": [
      "Train Loss: 0.0173\n",
      "=== Running duration ===\n",
      "281.59160900115967 s\n"
     ]
    }
   ],
   "source": [
    "# start the training\n",
    "train_loss = []\n",
    "for epoch in range(epochs):\n",
    "    print(f\"Epoch {epoch+1} of {epochs}\")\n",
    "    train_epoch_loss = train(\n",
    "        model, train_dataloader, optimizer, loss_fn, train_dataset, device\n",
    "    )\n",
    "    train_loss.append(train_epoch_loss)\n",
    "    print(f\"Train Loss: {train_epoch_loss:.4f}\")\n",
    "torch.save(model.state_dict(), 'outputs/multi_head_binary.pth')"
   ]
  },
  {
   "cell_type": "code",
   "execution_count": 167,
   "metadata": {},
   "outputs": [],
   "source": [
    "# torch.save(model.state_dict(), 'outputs/multi_head_binary_epoch.pth')"
   ]
  },
  {
   "cell_type": "code",
   "execution_count": 168,
   "metadata": {},
   "outputs": [
    {
     "name": "stdout",
     "output_type": "stream",
     "text": [
      "[INFO]: Number of testing samples: 4924\n",
      "[INFO]: Number of testing features: 26147\n"
     ]
    }
   ],
   "source": [
    "# print some info\n",
    "print(f\"[INFO]: Number of testing samples: {X_test.shape[0]}\")\n",
    "print(f\"[INFO]: Number of testing features: {X_test.shape[1]}\")\n",
    "# train dataset\n",
    "test_dataset = BinaryDataset(X_test, y_test)\n",
    "# train data loader\n",
    "test_dataloader = DataLoader(test_dataset, shuffle=False, batch_size=1)"
   ]
  },
  {
   "cell_type": "code",
   "execution_count": 169,
   "metadata": {},
   "outputs": [
    {
     "data": {
      "text/plain": [
       "MultiHeadBinaryModel(\n",
       "  (fc1): Linear(in_features=26147, out_features=1024, bias=True)\n",
       "  (fc2): Linear(in_features=1024, out_features=512, bias=True)\n",
       "  (out): Linear(in_features=512, out_features=100, bias=True)\n",
       ")"
      ]
     },
     "execution_count": 169,
     "metadata": {},
     "output_type": "execute_result"
    }
   ],
   "source": [
    "model = MultiHeadBinaryModel()\n",
    "model = MultiHeadBinaryModel()\n",
    "model.load_state_dict(torch.load('outputs/multi_head_binary_epoch.pth'))\n",
    "model.to(device)\n",
    "model.eval()"
   ]
  },
  {
   "cell_type": "code",
   "execution_count": 170,
   "metadata": {},
   "outputs": [],
   "source": [
    "target_label_list = []\n",
    "for i in range(y_test.shape[0]):\n",
    "    tmp = \"\"\n",
    "    for j in range(100):\n",
    "        if y_test[i][j] > 0.5:\n",
    "            tmp += str(j) + \" \"\n",
    "    if tmp:\n",
    "        target_label_list.append(tmp[: -1])\n",
    "    else:\n",
    "        target_label_list.append(\"-1\")"
   ]
  },
  {
   "cell_type": "code",
   "execution_count": 207,
   "metadata": {},
   "outputs": [
    {
     "name": "stderr",
     "output_type": "stream",
     "text": [
      "  0%|          | 0/4924 [00:00<?, ?it/s]/var/folders/v7/wxn3bxmn2018mjps58z5d3hw0000gn/T/ipykernel_17049/3191504715.py:15: UserWarning: To copy construct from a tensor, it is recommended to use sourceTensor.clone().detach() or sourceTensor.clone().detach().requires_grad_(True), rather than torch.tensor(sourceTensor).\n",
      "  features = torch.tensor(features, dtype=torch.float32)\n",
      "/var/folders/v7/wxn3bxmn2018mjps58z5d3hw0000gn/T/ipykernel_17049/3191504715.py:21: UserWarning: To copy construct from a tensor, it is recommended to use sourceTensor.clone().detach() or sourceTensor.clone().detach().requires_grad_(True), rather than torch.tensor(sourceTensor).\n",
      "  label_dict[key] = torch.tensor(labels[i], dtype=torch.float32)\n",
      "/Library/Frameworks/Python.framework/Versions/3.10/lib/python3.10/site-packages/torch/nn/functional.py:1960: UserWarning: nn.functional.sigmoid is deprecated. Use torch.sigmoid instead.\n",
      "  warnings.warn(\"nn.functional.sigmoid is deprecated. Use torch.sigmoid instead.\")\n",
      "100%|██████████| 4924/4924 [00:36<00:00, 136.24it/s]"
     ]
    },
    {
     "name": "stdout",
     "output_type": "stream",
     "text": [
      "=== Running duration ===\n",
      "36.15157175064087 s\n"
     ]
    },
    {
     "name": "stderr",
     "output_type": "stream",
     "text": [
      "\n"
     ]
    }
   ],
   "source": [
    "start = time.time()\n",
    "predict_list = []\n",
    "\n",
    "for i, test_sample in tqdm(enumerate(test_dataloader), total=len(test_dataloader)):\n",
    "    # print(f\"SAMPLE {i}\")\n",
    "    # extract the features and labels\n",
    "    features = test_sample['features'].to(device)\n",
    "    \n",
    "    outputs = model(features)\n",
    "\n",
    "    outputs = outputs.squeeze()\n",
    "            \n",
    "    # get all the labels\n",
    "    all_labels = []\n",
    "    for out in outputs:\n",
    "        # Threshold set to 0.2\n",
    "        if out >= 0.8:\n",
    "            all_labels.append(1)\n",
    "        else:\n",
    "            all_labels.append(0)\n",
    "    \n",
    "    tmp_ = \"\"\n",
    "    for j in range(100):\n",
    "        if all_labels[j] == 1:\n",
    "            tmp_ += str(j) + \" \"\n",
    "    if tmp_:\n",
    "        predict_list.append(tmp_[:-1])\n",
    "    else:\n",
    "        predict_list.append(\"-1\")\n",
    "        \n",
    "    \n",
    "print(\"=== Running duration ===\")\n",
    "print(time.time() - start, 's')"
   ]
  },
  {
   "cell_type": "code",
   "execution_count": 208,
   "metadata": {},
   "outputs": [
    {
     "name": "stdout",
     "output_type": "stream",
     "text": [
      "=========================Evaluation results=========================\n",
      "The accuracy score of prediction is : 0.7175060926076361\n",
      "The recall   score of prediction is : 0.7175060926076361\n",
      "The f1       score of prediction is : 0.5994913149303012\n"
     ]
    }
   ],
   "source": [
    "from sklearn.metrics import accuracy_score, recall_score, f1_score\n",
    "\n",
    "print('='*25 + 'Evaluation results' + '='*25)\n",
    "print('The accuracy score of prediction is : {}'.format(accuracy_score(target_label_list, predict_list)))\n",
    "print('The recall   score of prediction is : {}'.format(recall_score(target_label_list, predict_list, average='weighted')))\n",
    "print('The f1       score of prediction is : {}'.format(f1_score(target_label_list, predict_list, average='weighted')))"
   ]
  },
  {
   "cell_type": "code",
   "execution_count": 209,
   "metadata": {},
   "outputs": [
    {
     "data": {
      "image/png": "[encoded data removed]",
      "text/plain": [
       "<Figure size 720x504 with 1 Axes>"
      ]
     },
     "metadata": {},
     "output_type": "display_data"
    }
   ],
   "source": [
    "# plot and save the train loss graph\n",
    "plt.figure(figsize=(10, 7))\n",
    "plt.plot(train_loss, color='orange', label='train loss')\n",
    "plt.xlabel('Epochs')\n",
    "plt.ylabel('Loss')\n",
    "plt.legend()\n",
    "plt.savefig('outputs/multi_head_binary_loss.png')\n",
    "plt.show()"
   ]
  },
  {
   "cell_type": "markdown",
   "metadata": {},
   "source": [
    "# Kaggle Predictions"
   ]
  },
  {
   "cell_type": "code",
   "execution_count": 210,
   "metadata": {},
   "outputs": [
    {
     "name": "stdout",
     "output_type": "stream",
     "text": [
      "[INFO]: Number of testing samples: 800\n",
      "[INFO]: Number of testing features: 26147\n"
     ]
    }
   ],
   "source": [
    "# print some info\n",
    "print(f\"[INFO]: Number of testing samples: {X_kaggle.shape[0]}\")\n",
    "print(f\"[INFO]: Number of testing features: {X_kaggle.shape[1]}\")\n",
    "# train dataset\n",
    "kaggle_dataset = BinaryDataset(X_kaggle, _)\n",
    "# train data loader\n",
    "kaggle_dataloader = DataLoader(kaggle_dataset, shuffle=False, batch_size=1)"
   ]
  },
  {
   "cell_type": "code",
   "execution_count": 231,
   "metadata": {},
   "outputs": [
    {
     "name": "stderr",
     "output_type": "stream",
     "text": [
      "  0%|          | 0/800 [00:00<?, ?it/s]/Library/Frameworks/Python.framework/Versions/3.10/lib/python3.10/site-packages/torch/nn/functional.py:1960: UserWarning: nn.functional.sigmoid is deprecated. Use torch.sigmoid instead.\n",
      "  warnings.warn(\"nn.functional.sigmoid is deprecated. Use torch.sigmoid instead.\")\n",
      "100%|██████████| 800/800 [00:05<00:00, 151.07it/s]\n"
     ]
    }
   ],
   "source": [
    "predict_list_kaggle = []\n",
    "\n",
    "# for i, test_sample in tqdm(enumerate(kaggle_dataloader), total=len(kaggle_dataloader)):\n",
    "for test_sample in tqdm(X_kaggle):\n",
    "    # print(f\"SAMPLE {i}\")\n",
    "    # extract the features and labels\n",
    "    features = test_sample\n",
    "    \n",
    "    outputs = model(features)\n",
    "\n",
    "    outputs = outputs.squeeze()\n",
    "            \n",
    "    # get all the labels\n",
    "    all_labels = []\n",
    "    for out in outputs:\n",
    "        # Threshold set to 0.2\n",
    "        if out >= 0.67:\n",
    "            all_labels.append(1)\n",
    "        else:\n",
    "            all_labels.append(0)\n",
    "    \n",
    "    tmp_ = \"\"\n",
    "    for j in range(100):\n",
    "        if all_labels[j] == 1:\n",
    "            tmp_ += str(j) + \" \"\n",
    "    if tmp_:\n",
    "        predict_list_kaggle.append(tmp_[:-1])\n",
    "    else:\n",
    "        predict_list_kaggle.append(\"-1\")"
   ]
  },
  {
   "cell_type": "code",
   "execution_count": 232,
   "metadata": {},
   "outputs": [],
   "source": [
    "import pandas as pd\n",
    "\n",
    "def kaggle_output(predicts):\n",
    "    \n",
    "    output_df = pd.DataFrame(columns=[\"ID\", \"Predict\"])\n",
    "    output_df['Predict'] = predicts\n",
    "    output_df['ID'] = output_df.index\n",
    "    output_df = output_df.set_index('ID')\n",
    "\n",
    "    return output_df"
   ]
  },
  {
   "cell_type": "code",
   "execution_count": 233,
   "metadata": {},
   "outputs": [],
   "source": [
    "kaggle = kaggle_output(predict_list_kaggle)\n",
    "kaggle.to_csv(\"../kaggle/predict5.csv\")"
   ]
  },
  {
   "cell_type": "code",
   "execution_count": 234,
   "metadata": {},
   "outputs": [
    {
     "name": "stdout",
     "output_type": "stream",
     "text": [
      "70\n",
      "70\n",
      "70\n",
      "70\n",
      "70\n",
      "70\n",
      "70\n",
      "70\n",
      "70\n",
      "70\n",
      "70\n",
      "70\n",
      "70\n",
      "70\n",
      "70\n",
      "70\n",
      "70\n",
      "70\n",
      "70\n",
      "70\n",
      "70\n",
      "70\n",
      "70\n",
      "70\n",
      "70\n",
      "70\n",
      "70\n",
      "70\n",
      "70\n",
      "70\n",
      "70\n",
      "70\n",
      "70\n",
      "70\n",
      "70\n",
      "70\n",
      "70\n",
      "70\n",
      "70\n",
      "70\n",
      "70\n",
      "70\n",
      "70\n",
      "70\n",
      "70\n",
      "70\n",
      "70\n",
      "70\n",
      "70\n",
      "70\n",
      "70\n",
      "70\n",
      "70\n",
      "70\n",
      "70\n"
     ]
    }
   ],
   "source": [
    "for i in kaggle['Predict']:\n",
    "    if i != '-1':\n",
    "        print(i)"
   ]
  },
  {
   "cell_type": "code",
   "execution_count": 230,
   "metadata": {},
   "outputs": [
    {
     "name": "stdout",
     "output_type": "stream",
     "text": [
      "19\n"
     ]
    }
   ],
   "source": [
    "max_ = 0\n",
    "\n",
    "for instance in test_data:\n",
    "    year = instance['year']\n",
    "    if year > max_:\n",
    "        max_ = year\n",
    "print(max_)"
   ]
  },
  {
   "cell_type": "code",
   "execution_count": null,
   "metadata": {},
   "outputs": [],
   "source": []
  }
 ],
 "metadata": {
  "kernelspec": {
   "display_name": "Python 3 (ipykernel)",
   "language": "python",
   "name": "python3"
  },
  "language_info": {
   "codemirror_mode": {
    "name": "ipython",
    "version": 3
   },
   "file_extension": ".py",
   "mimetype": "text/x-python",
   "name": "python",
   "nbconvert_exporter": "python",
   "pygments_lexer": "ipython3",
   "version": "3.10.4"
  },
  "vscode": {
   "interpreter": {
    "hash": "aee8b7b246df8f9039afb4144a1f6fd8d2ca17a180786b69acc140d282b71a49"
   }
  }
 },
 "nbformat": 4,
 "nbformat_minor": 2
}
