{
 "cells": [
  {
   "cell_type": "code",
   "execution_count": 1,
   "metadata": {},
   "outputs": [
    {
     "name": "stderr",
     "output_type": "stream",
     "text": [
      "/Library/Frameworks/Python.framework/Versions/3.10/lib/python3.10/site-packages/tqdm/auto.py:22: TqdmWarning: IProgress not found. Please update jupyter and ipywidgets. See https://ipywidgets.readthedocs.io/en/stable/user_install.html\n",
      "  from .autonotebook import tqdm as notebook_tqdm\n"
     ]
    }
   ],
   "source": [
    "from preprocessing import *\n",
    "import torch\n",
    "import random\n",
    "import json"
   ]
  },
  {
   "cell_type": "markdown",
   "metadata": {},
   "source": [
    "# Find Discard Index For Training"
   ]
  },
  {
   "cell_type": "code",
   "execution_count": 2,
   "metadata": {},
   "outputs": [],
   "source": [
    "try:\n",
    "    f_train = open(\"data/discard_index.json\", 'r')\n",
    "    discard = json.load(f_train)['discard_index']\n",
    "except:\n",
    "    discard = get_discard(0.20250)"
   ]
  },
  {
   "cell_type": "code",
   "execution_count": 4,
   "metadata": {},
   "outputs": [
    {
     "name": "stderr",
     "output_type": "stream",
     "text": [
      "authors: 100%|██████████| 25793/25793 [00:03<00:00, 6706.67it/s]\n"
     ]
    },
    {
     "data": {
      "text/plain": [
       "torch.Size([9354, 21146])"
      ]
     },
     "execution_count": 4,
     "metadata": {},
     "output_type": "execute_result"
    }
   ],
   "source": [
    "X_author, y = for_train('coauthor', discard)\n",
    "X_author.shape"
   ]
  },
  {
   "cell_type": "code",
   "execution_count": 3,
   "metadata": {},
   "outputs": [
    {
     "name": "stderr",
     "output_type": "stream",
     "text": [
      "title & abstract: 100%|██████████| 25793/25793 [03:31<00:00, 121.75it/s]\n"
     ]
    },
    {
     "data": {
      "text/plain": [
       "torch.Size([9354, 256])"
      ]
     },
     "execution_count": 3,
     "metadata": {},
     "output_type": "execute_result"
    }
   ],
   "source": [
    "X_sentence = for_train('word', discard, no_label=True)\n",
    "X_sentence.shape"
   ]
  },
  {
   "cell_type": "code",
   "execution_count": 3,
   "metadata": {},
   "outputs": [
    {
     "name": "stderr",
     "output_type": "stream",
     "text": [
      "venue: 100%|██████████| 25793/25793 [00:03<00:00, 7982.46it/s]\n",
      "year: 100%|██████████| 25793/25793 [00:03<00:00, 8359.93it/s]\n"
     ]
    },
    {
     "data": {
      "text/plain": [
       "torch.Size([9354, 52])"
      ]
     },
     "execution_count": 3,
     "metadata": {},
     "output_type": "execute_result"
    }
   ],
   "source": [
    "X_year_venue = for_train('year_venue', discard, no_label=True)\n",
    "X_year_venue.shape"
   ]
  },
  {
   "cell_type": "markdown",
   "metadata": {},
   "source": [
    "#### Split the train data index and test index and save the indexes to make sure each model have the same train set"
   ]
  },
  {
   "cell_type": "code",
   "execution_count": 4,
   "metadata": {},
   "outputs": [],
   "source": [
    "try:\n",
    "    f_train = open(\"data/train_index.json\", 'r')\n",
    "    train_index = json.load(f_train)['train_index']\n",
    "\n",
    "    f_test = open(\"data/test_index.json\", 'r')\n",
    "    test_index = json.load(f_test)['test_index']\n",
    "except:\n",
    "    \n",
    "    test_size = 0.33\n",
    "\n",
    "    test_index = random.sample(range(y.shape[0]), int(test_size * y.shape[0]))\n",
    "    train_index = [i for i in range(y.shape[0]) if i not in test_index]\n",
    "\n",
    "    train_dict = {\"train_index\": train_index}\n",
    "    with open('data/train_index.json', 'w') as fp:\n",
    "            json.dump(train_dict, fp)\n",
    "\n",
    "    test_dict = {\"test_index\": test_index}\n",
    "    with open('data/test_index.json', 'w') as fp:\n",
    "            json.dump(test_dict, fp)"
   ]
  },
  {
   "cell_type": "markdown",
   "metadata": {},
   "source": [
    "## Save the data"
   ]
  },
  {
   "cell_type": "code",
   "execution_count": 5,
   "metadata": {},
   "outputs": [],
   "source": [
    "torch.save(X_sentence[train_index, :], 'data/X_sentence_train.pt')\n",
    "torch.save(X_sentence[test_index, :], 'data/X_sentence_test.pt')\n",
    "\n",
    "torch.save(X_author[train_index, :], 'data/X_author_train.pt')\n",
    "torch.save(X_author[test_index, :], 'data/X_author_test.pt')\n",
    "\n",
    "torch.save(X_year_venue[train_index, :], 'data/X_year_venue_train.pt')\n",
    "torch.save(X_year_venue[test_index, :], 'data/X_year_venue_test.pt')\n",
    "\n",
    "torch.save(y[train_index, :], 'data/y_train.pt')\n",
    "torch.save(y[test_index, :], 'data/y_test.pt')"
   ]
  },
  {
   "cell_type": "code",
   "execution_count": null,
   "metadata": {},
   "outputs": [],
   "source": []
  },
  {
   "cell_type": "code",
   "execution_count": null,
   "metadata": {},
   "outputs": [],
   "source": []
  }
 ],
 "metadata": {
  "kernelspec": {
   "display_name": "Python 3.10.4 64-bit",
   "language": "python",
   "name": "python3"
  },
  "language_info": {
   "codemirror_mode": {
    "name": "ipython",
    "version": 3
   },
   "file_extension": ".py",
   "mimetype": "text/x-python",
   "name": "python",
   "nbconvert_exporter": "python",
   "pygments_lexer": "ipython3",
   "version": "3.10.4"
  },
  "orig_nbformat": 4,
  "vscode": {
   "interpreter": {
    "hash": "aee8b7b246df8f9039afb4144a1f6fd8d2ca17a180786b69acc140d282b71a49"
   }
  }
 },
 "nbformat": 4,
 "nbformat_minor": 2
}
