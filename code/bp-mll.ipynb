{
 "cells": [
  {
   "cell_type": "code",
   "execution_count": 6,
   "metadata": {},
   "outputs": [],
   "source": [
    "import numpy as np\n",
    "\n",
    "from numpy import mean\n",
    "import pandas as pd\n",
    "import json\n",
    "from numpy import std\n",
    "from sklearn.model_selection import RepeatedKFold\n",
    "from keras.models import Sequential\n",
    "from keras.layers import Dense\n",
    "from sklearn.metrics import accuracy_score\n",
    "import tensorflow as tf"
   ]
  },
  {
   "cell_type": "code",
   "execution_count": 3,
   "metadata": {},
   "outputs": [
    {
     "name": "stdout",
     "output_type": "stream",
     "text": [
      "Train:\n",
      "     X :  (25793, 26147)\n",
      "     y :  (25793, 100)\n",
      "Test:\n",
      "     X :  (800, 26147)\n"
     ]
    }
   ],
   "source": [
    "# read train data and test data\n",
    "f_train = open(\"../data/train.json\", 'r')\n",
    "train_data = json.load(f_train)\n",
    "\n",
    "f_test = open(\"../data/test.json\", 'r')\n",
    "test_data = json.load(f_test)\n",
    "\n",
    "def get_attr_matrix(data):\n",
    "    n_samples = len(data)\n",
    "    n_features = 5000 -1 \n",
    "\n",
    "    # get abstract & title feature\n",
    "    wmatrix = np.ndarray([n_samples, n_features])\n",
    "    wmatrix.fill(0)\n",
    "\n",
    "    for i in range(n_samples):\n",
    "        instance = data[i]\n",
    "        for title in instance['title']:\n",
    "            wmatrix[i, title-1] += 1\n",
    "        for abstract in instance['abstract']:\n",
    "            wmatrix[i, abstract-1] += 1\n",
    "\n",
    "    # get venue feature\n",
    "    vmatrix = np.ndarray([n_samples, 1])\n",
    "\n",
    "    for i in range(n_samples):\n",
    "        venue = data[i]['venue']\n",
    "        \n",
    "        if venue:\n",
    "            vmatrix[i, ] = venue\n",
    "        else:\n",
    "            vmatrix[i, ] = -1\n",
    "\n",
    "    # get year feature\n",
    "    ymatrix = np.ndarray([n_samples, 1])\n",
    "\n",
    "    for i in range(n_samples):\n",
    "        year = data[i]['year']\n",
    "        \n",
    "        if year:\n",
    "            ymatrix[i, ] = year\n",
    "        else:\n",
    "            ymatrix[i, ] = -1\n",
    "            \n",
    "    return np.concatenate((wmatrix, vmatrix, ymatrix), axis=1)\n",
    "\n",
    "attr_matrix = get_attr_matrix(train_data)\n",
    "attr_matrix_test = get_attr_matrix(test_data)\n",
    "\n",
    "def handle_authors(data, key=\"author\"):\n",
    "\n",
    "    n_samples = len(data)\n",
    "\n",
    "    # prolific authors \n",
    "    y = np.ndarray([n_samples, 100])\n",
    "    y.fill(0)\n",
    "\n",
    "    # get co-author matrix\n",
    "    amatrix = np.ndarray([n_samples, 21245 - 100 + 1])\n",
    "    amatrix.fill(0)\n",
    "\n",
    "    for i in range(n_samples):\n",
    "        authors = data[i][key]\n",
    "        \n",
    "        for au in authors:\n",
    "            if au < 100:\n",
    "                \n",
    "                y[i, au] += 1\n",
    "            else:\n",
    "                amatrix[i, au - 100] += 1\n",
    "\n",
    "    return amatrix, y\n",
    "\n",
    "amatrix, y = handle_authors(train_data, key=\"authors\")\n",
    "\n",
    "amatrix_test, _ = handle_authors(test_data, key=\"coauthors\")\n",
    "\n",
    "X = np.concatenate((attr_matrix, amatrix), axis=1)\n",
    "X_kaggle = np.concatenate((attr_matrix_test, amatrix_test), axis=1)\n",
    "\n",
    "print(\"Train:\")\n",
    "print(\"     X : \", X.shape)\n",
    "print(\"     y : \", y.shape)\n",
    "print(\"Test:\")\n",
    "print(\"     X : \", X_kaggle.shape)"
   ]
  },
  {
   "cell_type": "code",
   "execution_count": 4,
   "metadata": {},
   "outputs": [
    {
     "name": "stdout",
     "output_type": "stream",
     "text": [
      "Train:\n",
      "     X_train :  (17281, 26147)\n",
      "     y_train :  (17281, 100)\n",
      "Test:\n",
      "     X_test  :  (8512, 26147)\n",
      "     y_test  :  (8512, 100)\n"
     ]
    }
   ],
   "source": [
    "from sklearn.model_selection import train_test_split\n",
    "\n",
    "X_train, X_test, y_train, y_test = train_test_split(X, y, test_size=0.33, random_state=42) \n",
    "\n",
    "print(\"Train:\")\n",
    "print(\"     X_train : \", X_train.shape)\n",
    "print(\"     y_train : \", y_train.shape)\n",
    "print(\"Test:\")\n",
    "print(\"     X_test  : \", X_test.shape)\n",
    "print(\"     y_test  : \", y_test.shape)"
   ]
  },
  {
   "cell_type": "code",
   "execution_count": 44,
   "metadata": {},
   "outputs": [],
   "source": [
    "import os\n",
    "import torch\n",
    "from torch import nn\n",
    "from torch.utils.data import DataLoader\n",
    "from torchvision import datasets, transforms"
   ]
  },
  {
   "cell_type": "code",
   "execution_count": 47,
   "metadata": {},
   "outputs": [
    {
     "name": "stdout",
     "output_type": "stream",
     "text": [
      "Using cpu device\n"
     ]
    }
   ],
   "source": [
    "device = \"cuda\" if torch.cuda.is_available() else \"cpu\"\n",
    "print(f\"Using {device} device\")"
   ]
  },
  {
   "cell_type": "code",
   "execution_count": 45,
   "metadata": {},
   "outputs": [],
   "source": [
    "class NeuralNetwork(nn.Module):\n",
    "    def __init__(self):\n",
    "        super(NeuralNetwork, self).__init__()\n",
    "        self.flatten = nn.Flatten()\n",
    "        self.linear_relu_stack = nn.Sequential(\n",
    "            nn.Linear(28*28, 512),\n",
    "            nn.ReLU(),\n",
    "            nn.Linear(512, 512),\n",
    "            nn.ReLU(),\n",
    "            nn.Linear(512, 10),\n",
    "        )\n",
    "\n",
    "    def forward(self, x):\n",
    "        x = self.flatten(x)\n",
    "        logits = self.linear_relu_stack(x)\n",
    "        return logits"
   ]
  },
  {
   "cell_type": "code",
   "execution_count": 48,
   "metadata": {},
   "outputs": [
    {
     "name": "stdout",
     "output_type": "stream",
     "text": [
      "NeuralNetwork(\n",
      "  (flatten): Flatten(start_dim=1, end_dim=-1)\n",
      "  (linear_relu_stack): Sequential(\n",
      "    (0): Linear(in_features=784, out_features=512, bias=True)\n",
      "    (1): ReLU()\n",
      "    (2): Linear(in_features=512, out_features=512, bias=True)\n",
      "    (3): ReLU()\n",
      "    (4): Linear(in_features=512, out_features=10, bias=True)\n",
      "  )\n",
      ")\n"
     ]
    }
   ],
   "source": [
    "model = NeuralNetwork().to(device)\n",
    "print(model)"
   ]
  },
  {
   "cell_type": "code",
   "execution_count": 50,
   "metadata": {},
   "outputs": [
    {
     "name": "stdout",
     "output_type": "stream",
     "text": [
      "Predicted class: tensor([6])\n"
     ]
    }
   ],
   "source": [
    "X = torch.rand(1, 28, 28, device=device)\n",
    "logits = model(X)\n",
    "pred_probab = nn.Softmax(dim=1)(logits)\n",
    "y_pred = pred_probab.argmax(1)\n",
    "print(f\"Predicted class: {y_pred}\")"
   ]
  },
  {
   "cell_type": "code",
   "execution_count": null,
   "metadata": {},
   "outputs": [],
   "source": []
  },
  {
   "cell_type": "code",
   "execution_count": null,
   "metadata": {},
   "outputs": [],
   "source": []
  }
 ],
 "metadata": {
  "kernelspec": {
   "display_name": "Python 3.10.4 64-bit",
   "language": "python",
   "name": "python3"
  },
  "language_info": {
   "codemirror_mode": {
    "name": "ipython",
    "version": 3
   },
   "file_extension": ".py",
   "mimetype": "text/x-python",
   "name": "python",
   "nbconvert_exporter": "python",
   "pygments_lexer": "ipython3",
   "version": "3.10.4"
  },
  "orig_nbformat": 4,
  "vscode": {
   "interpreter": {
    "hash": "aee8b7b246df8f9039afb4144a1f6fd8d2ca17a180786b69acc140d282b71a49"
   }
  }
 },
 "nbformat": 4,
 "nbformat_minor": 2
}
