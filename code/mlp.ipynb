{
 "cells": [
  {
   "cell_type": "code",
   "execution_count": 16,
   "metadata": {},
   "outputs": [],
   "source": [
    "import torch\n",
    "from torch.utils import data\n",
    "import matplotlib.pyplot as plt\n",
    "import numpy as np\n",
    "\n",
    "from sklearn.metrics import confusion_matrix, accuracy_score, classification_report, recall_score, f1_score\n",
    "\n",
    "import pandas as pd\n",
    "import json\n",
    "\n",
    "import tqdm"
   ]
  },
  {
   "cell_type": "code",
   "execution_count": 2,
   "metadata": {},
   "outputs": [
    {
     "data": {
      "text/html": [
       "<div>\n",
       "<style scoped>\n",
       "    .dataframe tbody tr th:only-of-type {\n",
       "        vertical-align: middle;\n",
       "    }\n",
       "\n",
       "    .dataframe tbody tr th {\n",
       "        vertical-align: top;\n",
       "    }\n",
       "\n",
       "    .dataframe thead th {\n",
       "        text-align: right;\n",
       "    }\n",
       "</style>\n",
       "<table border=\"1\" class=\"dataframe\">\n",
       "  <thead>\n",
       "    <tr style=\"text-align: right;\">\n",
       "      <th></th>\n",
       "      <th>ID</th>\n",
       "      <th>Predict</th>\n",
       "    </tr>\n",
       "  </thead>\n",
       "  <tbody>\n",
       "    <tr>\n",
       "      <th>0</th>\n",
       "      <td>0</td>\n",
       "      <td>28</td>\n",
       "    </tr>\n",
       "    <tr>\n",
       "      <th>1</th>\n",
       "      <td>1</td>\n",
       "      <td>62 71</td>\n",
       "    </tr>\n",
       "    <tr>\n",
       "      <th>2</th>\n",
       "      <td>2</td>\n",
       "      <td>59</td>\n",
       "    </tr>\n",
       "    <tr>\n",
       "      <th>3</th>\n",
       "      <td>3</td>\n",
       "      <td>10</td>\n",
       "    </tr>\n",
       "    <tr>\n",
       "      <th>4</th>\n",
       "      <td>4</td>\n",
       "      <td>86</td>\n",
       "    </tr>\n",
       "  </tbody>\n",
       "</table>\n",
       "</div>"
      ],
      "text/plain": [
       "   ID Predict\n",
       "0   0      28\n",
       "1   1   62 71\n",
       "2   2      59\n",
       "3   3      10\n",
       "4   4      86"
      ]
     },
     "execution_count": 2,
     "metadata": {},
     "output_type": "execute_result"
    }
   ],
   "source": [
    "sample = pd.read_csv('../data/sample.csv')\n",
    "sample.head()"
   ]
  },
  {
   "cell_type": "code",
   "execution_count": 4,
   "metadata": {},
   "outputs": [
    {
     "name": "stdout",
     "output_type": "stream",
     "text": [
      "25793\n",
      "800\n"
     ]
    }
   ],
   "source": [
    "# read train data and test data\n",
    "f_train = open(\"../data/train.json\", 'r')\n",
    "raw_train_data = json.load(f_train)\n",
    "\n",
    "f_test = open(\"../data/test.json\", 'r')\n",
    "raw_test_data = json.load(f_test)\n",
    "\n",
    "print(len(raw_train_data))\n",
    "print(len(raw_test_data))"
   ]
  },
  {
   "cell_type": "code",
   "execution_count": 6,
   "metadata": {},
   "outputs": [],
   "source": [
    "def prolific_authors(authors):\n",
    "    count = 0\n",
    "    for i in authors:\n",
    "        if i < 100:\n",
    "            count += 1\n",
    "    return count\n",
    "\n",
    "train_data = raw_train_data.copy()\n",
    "test_data = raw_test_data.copy()"
   ]
  },
  {
   "cell_type": "code",
   "execution_count": 7,
   "metadata": {},
   "outputs": [
    {
     "name": "stdout",
     "output_type": "stream",
     "text": [
      "train : (25793, 5001)\n",
      "test  :  (25793, 5001)\n"
     ]
    }
   ],
   "source": [
    "def get_attr_matrix(data):\n",
    "    n_samples = len(data)\n",
    "    n_features = 5000 -1 \n",
    "\n",
    "    # get abstract & title feature\n",
    "    wmatrix = np.ndarray([n_samples, n_features])\n",
    "    wmatrix.fill(0)\n",
    "\n",
    "    for i in range(n_samples):\n",
    "        instance = data[i]\n",
    "        for title in instance['title']:\n",
    "            wmatrix[i, title-1] += 1\n",
    "        for abstract in instance['abstract']:\n",
    "            wmatrix[i, abstract-1] += 1\n",
    "\n",
    "    # get venue feature\n",
    "    vmatrix = np.ndarray([n_samples, 1])\n",
    "\n",
    "    for i in range(n_samples):\n",
    "        venue = data[i]['venue']\n",
    "        \n",
    "        if venue:\n",
    "            vmatrix[i, ] = venue\n",
    "        else:\n",
    "            vmatrix[i, ] = -1\n",
    "\n",
    "    # get year feature\n",
    "    ymatrix = np.ndarray([n_samples, 1])\n",
    "\n",
    "    for i in range(n_samples):\n",
    "        year = data[i]['year']\n",
    "        \n",
    "        if year:\n",
    "            ymatrix[i, ] = year\n",
    "        else:\n",
    "            ymatrix[i, ] = -1\n",
    "            \n",
    "    return np.concatenate((wmatrix, vmatrix, ymatrix), axis=1)\n",
    "\n",
    "attr_matrix = get_attr_matrix(train_data)\n",
    "print(\"train :\", attr_matrix.shape)\n",
    "\n",
    "attr_matrix_test = get_attr_matrix(test_data)\n",
    "print(\"test  : \", attr_matrix.shape)"
   ]
  },
  {
   "cell_type": "code",
   "execution_count": 8,
   "metadata": {},
   "outputs": [
    {
     "name": "stdout",
     "output_type": "stream",
     "text": [
      "Train:\n",
      "          amatrix :  (25793, 21146)\n",
      "                y :  (25793, 100)\n",
      "Test:\n",
      "     amatrix_test :  (800, 21146)\n"
     ]
    }
   ],
   "source": [
    "def handle_authors(data, key=\"author\"):\n",
    "\n",
    "    n_samples = len(data)\n",
    "\n",
    "    # prolific authors \n",
    "    y = np.ndarray([n_samples, 100])\n",
    "    y.fill(0)\n",
    "\n",
    "    # get co-author matrix\n",
    "    amatrix = np.ndarray([n_samples, 21245 - 100 + 1])\n",
    "    amatrix.fill(0)\n",
    "\n",
    "    for i in range(n_samples):\n",
    "        authors = data[i][key]\n",
    "        \n",
    "        for au in authors:\n",
    "            if au < 100:\n",
    "                \n",
    "                y[i, au] += 1\n",
    "            else:\n",
    "                amatrix[i, au - 100] += 1\n",
    "\n",
    "    return amatrix, y\n",
    "\n",
    "amatrix, y = handle_authors(train_data, key=\"authors\")\n",
    "print(\"Train:\")\n",
    "print(\"          amatrix : \", amatrix.shape)\n",
    "print(\"                y : \", y.shape)\n",
    "amatrix_test, _ = handle_authors(test_data, key=\"coauthors\")\n",
    "print(\"Test:\")\n",
    "print(\"     amatrix_test : \", amatrix_test.shape)"
   ]
  },
  {
   "cell_type": "code",
   "execution_count": 9,
   "metadata": {},
   "outputs": [],
   "source": [
    "X = np.concatenate((attr_matrix, amatrix), axis=1)\n",
    "X_kaggle = np.concatenate((attr_matrix_test, amatrix_test), axis=1)"
   ]
  },
  {
   "cell_type": "code",
   "execution_count": 10,
   "metadata": {},
   "outputs": [
    {
     "name": "stdout",
     "output_type": "stream",
     "text": [
      "Train:\n",
      "     X :  (25793, 26147)\n",
      "     y :  (25793, 100)\n",
      "Test:\n",
      "     X :  (800, 26147)\n"
     ]
    }
   ],
   "source": [
    "print(\"Train:\")\n",
    "print(\"     X : \", X.shape)\n",
    "print(\"     y : \", y.shape)\n",
    "print(\"Test:\")\n",
    "print(\"     X : \", X_kaggle.shape)"
   ]
  },
  {
   "cell_type": "code",
   "execution_count": 11,
   "metadata": {},
   "outputs": [
    {
     "data": {
      "text/plain": [
       "<25793x26147 sparse matrix of type '<class 'numpy.float64'>'\n",
       "\twith 3009689 stored elements in Compressed Sparse Row format>"
      ]
     },
     "execution_count": 11,
     "metadata": {},
     "output_type": "execute_result"
    }
   ],
   "source": [
    "from scipy import sparse\n",
    "X = sparse.csr_matrix(X)\n",
    "X_kaggle = sparse.csr_matrix(X_kaggle)\n",
    "X"
   ]
  },
  {
   "cell_type": "code",
   "execution_count": null,
   "metadata": {},
   "outputs": [],
   "source": []
  },
  {
   "cell_type": "code",
   "execution_count": 12,
   "metadata": {},
   "outputs": [],
   "source": [
    "from sklearn.model_selection import train_test_split\n",
    "\n",
    "X_train, X_test, y_train, y_test = train_test_split(X, y, test_size=0.33, random_state=42) "
   ]
  },
  {
   "cell_type": "code",
   "execution_count": 13,
   "metadata": {},
   "outputs": [
    {
     "name": "stdout",
     "output_type": "stream",
     "text": [
      "=========================Training results=========================\n",
      "The accuracy score of prediction is: 1.0\n",
      "The racall score of prediction is: 1.0\n",
      "The f1 score of prediction is: 1.0\n",
      "=========================Evaluation results=========================\n",
      "The accuracy score of prediction is: 0.7410714285714286\n",
      "The racall score of prediction is: 0.19356955380577429\n",
      "The f1 score of prediction is: 0.2967069318764589\n"
     ]
    }
   ],
   "source": [
    "from sklearn.ensemble import RandomForestClassifier\n",
    "from sklearn.neural_network import MLPClassifier\n",
    "\n",
    "model = MLPClassifier()\n",
    "model.fit(X_train, y_train)\n",
    "\n",
    "y_pred_train = model.predict(X_train)\n",
    "y_pred = model.predict(X_test)\n",
    "\n",
    "print('='*25 + 'Training results' + '='*25)\n",
    "print('The accuracy score of prediction is: {}'.format(accuracy_score(y_train, y_pred_train)))\n",
    "print('The racall score of prediction is: {}'.format(recall_score(y_train, y_pred_train, average='weighted')))\n",
    "print('The f1 score of prediction is: {}'.format(f1_score(y_train, y_pred_train, average='weighted'))) \n",
    "\n",
    "print('='*25 + 'Evaluation results' + '='*25)\n",
    "print('The accuracy score of prediction is: {}'.format(accuracy_score(y_test, y_pred)))\n",
    "print('The racall score of prediction is: {}'.format(recall_score(y_test, y_pred, average='weighted')))\n",
    "print('The f1 score of prediction is: {}'.format(f1_score(y_test, y_pred, average='weighted'))) "
   ]
  },
  {
   "cell_type": "code",
   "execution_count": null,
   "metadata": {},
   "outputs": [],
   "source": []
  },
  {
   "cell_type": "code",
   "execution_count": 14,
   "metadata": {},
   "outputs": [],
   "source": [
    "def kaggle_output(model, X=X_kaggle):\n",
    "    y_pred = model.predict(X)\n",
    "    output_df = pd.DataFrame(columns=[\"ID\", \"Predict\"])\n",
    "\n",
    "    for i in range(y_pred.shape[0]):\n",
    "        pred = \"\"\n",
    "        for j in range(y_pred.shape[1]):\n",
    "            if y_pred[i][j] > 0:\n",
    "                pred += str(j) + \" \"\n",
    "        if pred:\n",
    "            output_df.loc[i, 'Predict'] = pred[:-1]\n",
    "        else:\n",
    "            output_df.loc[i, 'Predict'] = \"-1\"\n",
    "\n",
    "    output_df['ID'] = output_df.index\n",
    "    output_df = output_df.set_index('ID')\n",
    "    return output_df"
   ]
  },
  {
   "cell_type": "code",
   "execution_count": 15,
   "metadata": {},
   "outputs": [],
   "source": [
    "# count / length\n",
    "kaggle = kaggle_output(model)\n",
    "kaggle.to_csv(\"../kaggle/predict1.csv\")"
   ]
  },
  {
   "cell_type": "code",
   "execution_count": null,
   "metadata": {},
   "outputs": [],
   "source": []
  }
 ],
 "metadata": {
  "kernelspec": {
   "display_name": "Python 3.10.4 64-bit",
   "language": "python",
   "name": "python3"
  },
  "language_info": {
   "codemirror_mode": {
    "name": "ipython",
    "version": 3
   },
   "file_extension": ".py",
   "mimetype": "text/x-python",
   "name": "python",
   "nbconvert_exporter": "python",
   "pygments_lexer": "ipython3",
   "version": "3.10.4"
  },
  "orig_nbformat": 4,
  "vscode": {
   "interpreter": {
    "hash": "aee8b7b246df8f9039afb4144a1f6fd8d2ca17a180786b69acc140d282b71a49"
   }
  }
 },
 "nbformat": 4,
 "nbformat_minor": 2
}
