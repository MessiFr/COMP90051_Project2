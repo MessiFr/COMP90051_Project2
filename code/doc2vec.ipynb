{
 "cells": [
  {
   "cell_type": "code",
   "execution_count": 10,
   "metadata": {},
   "outputs": [],
   "source": [
    "from gensim.models.doc2vec import Doc2Vec, TaggedDocument\n",
    "import json\n",
    "import pandas as pd\n",
    "from tqdm import tqdm"
   ]
  },
  {
   "cell_type": "code",
   "execution_count": 5,
   "metadata": {},
   "outputs": [],
   "source": [
    "with open('../../data/train.json', 'rb') as f:\n",
    "    train_data = json.load(f)\n",
    "\n",
    "with open('../../data/test.json', 'rb') as f:\n",
    "    test_data = json.load(f)"
   ]
  },
  {
   "cell_type": "code",
   "execution_count": 7,
   "metadata": {},
   "outputs": [],
   "source": [
    "# data = pd.\n",
    "abstract = []\n",
    "title = []\n",
    "\n",
    "for instance in train_data:\n",
    "    abstract.append([str(i) for i in instance['abstract']])\n",
    "    title.append([str(i) for i in instance['title']])\n",
    "\n",
    "for instance in test_data:\n",
    "    abstract.append([str(i) for i in instance['abstract']])\n",
    "    title.append([str(i) for i in instance['title']])"
   ]
  },
  {
   "cell_type": "code",
   "execution_count": 13,
   "metadata": {},
   "outputs": [
    {
     "data": {
      "text/html": [
       "<div>\n",
       "<style scoped>\n",
       "    .dataframe tbody tr th:only-of-type {\n",
       "        vertical-align: middle;\n",
       "    }\n",
       "\n",
       "    .dataframe tbody tr th {\n",
       "        vertical-align: top;\n",
       "    }\n",
       "\n",
       "    .dataframe thead th {\n",
       "        text-align: right;\n",
       "    }\n",
       "</style>\n",
       "<table border=\"1\" class=\"dataframe\">\n",
       "  <thead>\n",
       "    <tr style=\"text-align: right;\">\n",
       "      <th></th>\n",
       "      <th>abstract</th>\n",
       "      <th>title</th>\n",
       "      <th>id</th>\n",
       "    </tr>\n",
       "  </thead>\n",
       "  <tbody>\n",
       "    <tr>\n",
       "      <th>0</th>\n",
       "      <td>[2455, 1858, 2335, 1543, 1800, 1860, 2000, 286...</td>\n",
       "      <td>[41, 1550, 1563, 1594, 1544, 1919, 1644, 37, 1...</td>\n",
       "      <td>0</td>\n",
       "    </tr>\n",
       "    <tr>\n",
       "      <th>1</th>\n",
       "      <td>[40, 1542, 1691, 2449, 1535, 3616, 2206, 1904,...</td>\n",
       "      <td>[1731, 47, 11, 57, 4624, 1525, 1535, 47, 11, 3...</td>\n",
       "      <td>1</td>\n",
       "    </tr>\n",
       "  </tbody>\n",
       "</table>\n",
       "</div>"
      ],
      "text/plain": [
       "                                            abstract  \\\n",
       "0  [2455, 1858, 2335, 1543, 1800, 1860, 2000, 286...   \n",
       "1  [40, 1542, 1691, 2449, 1535, 3616, 2206, 1904,...   \n",
       "\n",
       "                                               title  id  \n",
       "0  [41, 1550, 1563, 1594, 1544, 1919, 1644, 37, 1...   0  \n",
       "1  [1731, 47, 11, 57, 4624, 1525, 1535, 47, 11, 3...   1  "
      ]
     },
     "execution_count": 13,
     "metadata": {},
     "output_type": "execute_result"
    }
   ],
   "source": [
    "data = pd.DataFrame(\n",
    "    {\n",
    "        'abstract': abstract,\n",
    "        'title': title\n",
    "    }\n",
    ")\n",
    "\n",
    "data['id'] = data.index\n",
    "data.head(2)"
   ]
  },
  {
   "cell_type": "code",
   "execution_count": 16,
   "metadata": {},
   "outputs": [],
   "source": [
    "def get_tagged_document(df, col):\n",
    "   return [TaggedDocument(words=doc, tags=[i]) for i, doc in zip(df.id, df[col])]\n",
    "   \n",
    "tagged_document = get_tagged_document(data, 'abstract')\n",
    "\n",
    "alpha = 0.025\n",
    "model_d2v = Doc2Vec(vector_size=128, min_count=1, alpha=alpha, min_alpha=0.00025, dm=1,window=5)\n",
    "model_d2v.build_vocab(tagged_document)\n",
    "\n",
    "model_d2v.train(tagged_document,\n",
    "               total_examples=model_d2v.corpus_count,\n",
    "               epochs=100)\n",
    "model_d2v.save('data/doc2vec_abstract.model')"
   ]
  },
  {
   "cell_type": "code",
   "execution_count": 17,
   "metadata": {},
   "outputs": [],
   "source": [
    "tagged_document = get_tagged_document(data, 'abstract')\n",
    "\n",
    "alpha = 0.025\n",
    "model_d2v = Doc2Vec(vector_size=128, min_count=1, alpha=alpha, min_alpha=0.00025, dm=1,window=5)\n",
    "model_d2v.build_vocab(tagged_document)\n",
    "\n",
    "model_d2v.train(tagged_document,\n",
    "            total_examples=model_d2v.corpus_count,\n",
    "            epochs=100)\n",
    "               \n",
    "model_d2v.save('data/doc2vec_title.model')"
   ]
  },
  {
   "cell_type": "code",
   "execution_count": null,
   "metadata": {},
   "outputs": [],
   "source": []
  }
 ],
 "metadata": {
  "kernelspec": {
   "display_name": "Python 3.10.4 64-bit",
   "language": "python",
   "name": "python3"
  },
  "language_info": {
   "codemirror_mode": {
    "name": "ipython",
    "version": 3
   },
   "file_extension": ".py",
   "mimetype": "text/x-python",
   "name": "python",
   "nbconvert_exporter": "python",
   "pygments_lexer": "ipython3",
   "version": "3.10.4"
  },
  "orig_nbformat": 4,
  "vscode": {
   "interpreter": {
    "hash": "aee8b7b246df8f9039afb4144a1f6fd8d2ca17a180786b69acc140d282b71a49"
   }
  }
 },
 "nbformat": 4,
 "nbformat_minor": 2
}
