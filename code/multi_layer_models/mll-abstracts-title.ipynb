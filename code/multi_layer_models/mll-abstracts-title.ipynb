{
 "cells": [
  {
   "cell_type": "code",
   "execution_count": 1,
   "metadata": {},
   "outputs": [
    {
     "name": "stderr",
     "output_type": "stream",
     "text": [
      "/Library/Frameworks/Python.framework/Versions/3.10/lib/python3.10/site-packages/tqdm/auto.py:22: TqdmWarning: IProgress not found. Please update jupyter and ipywidgets. See https://ipywidgets.readthedocs.io/en/stable/user_install.html\n",
      "  from .autonotebook import tqdm as notebook_tqdm\n"
     ]
    }
   ],
   "source": [
    "# from sklearn.datasets import make_multilabel_classification\n",
    "from torch.utils.data import Dataset\n",
    "import json\n",
    "import numpy as np\n",
    "import torch\n",
    "import time\n",
    "from tqdm import tqdm\n",
    "from NN_Models import *"
   ]
  },
  {
   "cell_type": "code",
   "execution_count": 2,
   "metadata": {},
   "outputs": [],
   "source": [
    "X_train = torch.load('data/X_sentence_train.pt')\n",
    "y_train = torch.load('data/y_train.pt')\n",
    "# X_train = torch.load('data/X_sentence_all.pt')\n",
    "# y_train = torch.load('data/y_all.pt')\n",
    "\n",
    "X_test = torch.load('data/X_sentence_test.pt')\n",
    "y_test = torch.load('data/y_test.pt')"
   ]
  },
  {
   "cell_type": "code",
   "execution_count": 3,
   "metadata": {},
   "outputs": [],
   "source": [
    "# train data loader\n",
    "train_dataset, train_dataloader = BinaryDataLoader(X_train, y_train, shuffle=True, batch_size=100)"
   ]
  },
  {
   "cell_type": "code",
   "execution_count": 4,
   "metadata": {},
   "outputs": [
    {
     "name": "stderr",
     "output_type": "stream",
     "text": [
      "100%|██████████| 100/100 [41:15<00:00, 24.76s/it] \n"
     ]
    },
    {
     "data": {
      "image/png": "[encoded data removed]",
      "text/plain": [
       "<Figure size 720x504 with 1 Axes>"
      ]
     },
     "metadata": {
      "needs_background": "light"
     },
     "output_type": "display_data"
    }
   ],
   "source": [
    "import torch.optim as optim\n",
    "\n",
    "model = Model()\n",
    "model.abstract_title()\n",
    "\n",
    "learning_rate = 0.001\n",
    "optimizer = optim.Adam(params=model.abstract_title().parameters(), lr=learning_rate) # 学习率衰减 / 学习率震荡\n",
    "epochs = 100\n",
    "model.train(train_dataloader, optimizer, epochs)\n",
    "model.save_status(\"abstract_title\")\n",
    "model.plot_loss()"
   ]
  },
  {
   "cell_type": "code",
   "execution_count": null,
   "metadata": {},
   "outputs": [],
   "source": []
  },
  {
   "cell_type": "markdown",
   "metadata": {},
   "source": [
    "### Test (ignore when submit kaggle)"
   ]
  },
  {
   "cell_type": "code",
   "execution_count": 5,
   "metadata": {},
   "outputs": [
    {
     "name": "stdout",
     "output_type": "stream",
     "text": [
      "[INFO]: Number of testing samples: 3086\n",
      "[INFO]: Number of testing features: 4999\n"
     ]
    },
    {
     "name": "stderr",
     "output_type": "stream",
     "text": [
      "100%|██████████| 9/9 [03:27<00:00, 23.07s/it]\n"
     ]
    }
   ],
   "source": [
    "from evaluation import evaluation\n",
    "\n",
    "# print some info\n",
    "print(f\"[INFO]: Number of testing samples: {X_test.shape[0]}\")\n",
    "print(f\"[INFO]: Number of testing features: {X_test.shape[1]}\")\n",
    "\n",
    "thresholds = [0.01, 0.02, 0.05, 0.1, 0.2, 0.3, 0.4, 0.5, 0.6]\n",
    "\n",
    "f1_scores = evaluation(model.model, X_test, y_test, thresholds)"
   ]
  },
  {
   "cell_type": "code",
   "execution_count": 7,
   "metadata": {},
   "outputs": [
    {
     "name": "stdout",
     "output_type": "stream",
     "text": [
      "0.1\n",
      "0.318651601023106\n"
     ]
    }
   ],
   "source": [
    "print(thresholds[f1_scores.index(max(f1_scores))])\n",
    "print(max(f1_scores))"
   ]
  },
  {
   "cell_type": "code",
   "execution_count": 8,
   "metadata": {},
   "outputs": [
    {
     "name": "stderr",
     "output_type": "stream",
     "text": [
      "100%|██████████| 6268/6268 [00:45<00:00, 139.12it/s]\n",
      "100%|██████████| 3086/3086 [00:12<00:00, 243.02it/s]\n"
     ]
    }
   ],
   "source": [
    "from preprocessing import for_kaggle\n",
    "from evaluation import kaggle_predict\n",
    "\n",
    "# X_kaggle = for_kaggle('year_venue')\n",
    "\n",
    "kaggle_predict(model.model, X_train, 'abstract_title_train', lstm=True)\n",
    "kaggle_predict(model.model, X_test, 'abstract_title_test', lstm=True)"
   ]
  },
  {
   "cell_type": "markdown",
   "metadata": {},
   "source": [
    "# Kaggle Predictions"
   ]
  },
  {
   "cell_type": "code",
   "execution_count": 17,
   "metadata": {},
   "outputs": [
    {
     "name": "stderr",
     "output_type": "stream",
     "text": [
      "title & abstract: 100%|██████████| 800/800 [00:02<00:00, 305.28it/s]\n",
      "100%|██████████| 9354/9354 [00:45<00:00, 205.97it/s]\n",
      "100%|██████████| 800/800 [00:02<00:00, 285.52it/s]\n"
     ]
    }
   ],
   "source": [
    "from preprocessing import for_kaggle\n",
    "from evaluation import kaggle_predict\n",
    "\n",
    "X_kaggle = for_kaggle('word')\n",
    "\n",
    "\n",
    "kaggle_predict(model.model, X_train, 'abstract_title_all', lstm=True)\n",
    "kaggle_predict(model.model, X_kaggle, 'abstract_title', lstm=True)"
   ]
  },
  {
   "cell_type": "code",
   "execution_count": null,
   "metadata": {},
   "outputs": [],
   "source": []
  }
 ],
 "metadata": {
  "kernelspec": {
   "display_name": "Python 3 (ipykernel)",
   "language": "python",
   "name": "python3"
  },
  "language_info": {
   "codemirror_mode": {
    "name": "ipython",
    "version": 3
   },
   "file_extension": ".py",
   "mimetype": "text/x-python",
   "name": "python",
   "nbconvert_exporter": "python",
   "pygments_lexer": "ipython3",
   "version": "3.10.4"
  },
  "vscode": {
   "interpreter": {
    "hash": "aee8b7b246df8f9039afb4144a1f6fd8d2ca17a180786b69acc140d282b71a49"
   }
  }
 },
 "nbformat": 4,
 "nbformat_minor": 2
}
