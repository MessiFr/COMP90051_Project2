{
 "cells": [
  {
   "cell_type": "code",
   "execution_count": 1,
   "metadata": {},
   "outputs": [
    {
     "name": "stderr",
     "output_type": "stream",
     "text": [
      "/Library/Frameworks/Python.framework/Versions/3.10/lib/python3.10/site-packages/tqdm/auto.py:22: TqdmWarning: IProgress not found. Please update jupyter and ipywidgets. See https://ipywidgets.readthedocs.io/en/stable/user_install.html\n",
      "  from .autonotebook import tqdm as notebook_tqdm\n"
     ]
    }
   ],
   "source": [
    "# from sklearn.datasets import make_multilabel_classification\n",
    "from torch.utils.data import Dataset\n",
    "import json\n",
    "import numpy as np\n",
    "import torch\n",
    "import time\n",
    "from tqdm import tqdm\n",
    "\n",
    "from preprocessing import for_train"
   ]
  },
  {
   "cell_type": "code",
   "execution_count": 2,
   "metadata": {},
   "outputs": [
    {
     "name": "stderr",
     "output_type": "stream",
     "text": [
      "delet some useless data: 100%|██████████| 25793/25793 [00:00<00:00, 236459.31it/s]\n"
     ]
    },
    {
     "name": "stdout",
     "output_type": "stream",
     "text": [
      "Number of instance with label :  7460\n",
      "Number of instance without label(remain) :  1894\n"
     ]
    },
    {
     "name": "stderr",
     "output_type": "stream",
     "text": [
      "title & abstract: 100%|██████████| 25793/25793 [00:27<00:00, 951.55it/s] \n",
      "authors: 100%|██████████| 25793/25793 [00:08<00:00, 3041.69it/s]\n"
     ]
    }
   ],
   "source": [
    "# X, y = for_train(\"word\", p=-1)\n",
    "X, y = for_train(\"word\", p=0.20250)"
   ]
  },
  {
   "cell_type": "code",
   "execution_count": 3,
   "metadata": {},
   "outputs": [
    {
     "name": "stdout",
     "output_type": "stream",
     "text": [
      "torch.Size([9354, 4999])\n"
     ]
    }
   ],
   "source": [
    "print(X.shape)\n",
    "\n",
    "N_FEATURES = X.shape[1]"
   ]
  },
  {
   "cell_type": "code",
   "execution_count": 4,
   "metadata": {},
   "outputs": [
    {
     "name": "stdout",
     "output_type": "stream",
     "text": [
      "Train:\n",
      "     X_train :  torch.Size([7483, 4999])\n",
      "     y_train :  torch.Size([7483, 100])\n",
      "Test_Kaggle:\n",
      "     X_test  :  torch.Size([1871, 4999])\n",
      "     y_test  :  torch.Size([1871, 100])\n"
     ]
    }
   ],
   "source": [
    "from sklearn.model_selection import train_test_split\n",
    "\n",
    "X_train, X_test, y_train, y_test = train_test_split(X, y, test_size=0.2, random_state=20)\n",
    "\n",
    "# X_train = X\n",
    "# X_test = X\n",
    "# y_train = y\n",
    "# y_test = y\n",
    "\n",
    "print(\"Train:\")\n",
    "print(\"     X_train : \", X_train.shape)\n",
    "print(\"     y_train : \", y_train.shape)\n",
    "print(\"Test_Kaggle:\")\n",
    "print(\"     X_test  : \", X_test.shape)\n",
    "print(\"     y_test  : \", y_test.shape)\n"
   ]
  },
  {
   "cell_type": "code",
   "execution_count": 5,
   "metadata": {},
   "outputs": [],
   "source": [
    "from NN_Models import *"
   ]
  },
  {
   "cell_type": "code",
   "execution_count": 6,
   "metadata": {},
   "outputs": [
    {
     "name": "stdout",
     "output_type": "stream",
     "text": [
      "[INFO]: Number of training samples: 7483\n",
      "[INFO]: Number of training features: 4999\n"
     ]
    }
   ],
   "source": [
    "print(f\"[INFO]: Number of training samples: {X_train.shape[0]}\")\n",
    "print(f\"[INFO]: Number of training features: {X_train.shape[1]}\")\n",
    "\n",
    "# train data loader\n",
    "train_dataset, train_dataloader = BinaryDataLoader(X_train, y_train, shuffle=True, batch_size=100)\n",
    "\n",
    "# initialize the model\n",
    "model = SentenceRNN()"
   ]
  },
  {
   "cell_type": "code",
   "execution_count": 7,
   "metadata": {},
   "outputs": [
    {
     "data": {
      "text/plain": [
       "SentenceRNN(\n",
       "  (lstm): LSTM(4999, 512, num_layers=2, batch_first=True)\n",
       "  (fc): Linear(in_features=512, out_features=100, bias=True)\n",
       ")"
      ]
     },
     "execution_count": 7,
     "metadata": {},
     "output_type": "execute_result"
    }
   ],
   "source": [
    "import torch.optim as optim\n",
    "\n",
    "learning_rate = 0.001\n",
    "loss_func = \"MSE\"\n",
    "\n",
    "# learning parameters\n",
    "optimizer = optim.Adam(params=model.parameters(), lr=learning_rate) # 学习率衰减 / 学习率震荡\n",
    "device = torch.device('cuda' if torch.cuda.is_available() else 'cpu')\n",
    "epochs = 100\n",
    "\n",
    "# load the model on to the computation device\n",
    "model.to(device)"
   ]
  },
  {
   "cell_type": "code",
   "execution_count": 8,
   "metadata": {},
   "outputs": [],
   "source": [
    "import torch\n",
    "\n",
    "# start the training\n",
    "start = time.time()\n",
    "train_loss = []\n",
    "print(f\"Epochs        : {epochs} \")\n",
    "print(f\"learning rate : {learning_rate}\")\n",
    "print(f\"loss function : {loss_func}\")\n",
    "\n",
    "for epoch in range(epochs):\n",
    "\n",
    "    # print(f\"Epoch {epoch+1} of {epochs}\")\n",
    "    train_epoch_loss = train(\n",
    "        model, train_dataloader, optimizer, loss_fn, train_dataset, device, lstm=True, loss_func=loss_func\n",
    "    )\n",
    "    train_loss.append(train_epoch_loss)\n",
    "    # print(f\"Train Loss: {train_epoch_loss:.4f}\")\n",
    "torch.save(model.state_dict(), 'status/model_words.pth')\n",
    "\n",
    "print(\"=\"*25)\n",
    "print(time.time()-start, 's')"
   ]
  },
  {
   "cell_type": "code",
   "execution_count": 54,
   "metadata": {},
   "outputs": [
    {
     "data": {
      "image/png": "[encoded data removed]",
      "text/plain": [
       "<Figure size 720x504 with 1 Axes>"
      ]
     },
     "metadata": {},
     "output_type": "display_data"
    }
   ],
   "source": [
    "import matplotlib.pyplot as plt\n",
    "import matplotlib\n",
    "matplotlib.style.use('ggplot')\n",
    "\n",
    "# plot and save the train loss graph\n",
    "plt.figure(figsize=(10, 7))\n",
    "plt.plot(train_loss, color='orange', label='train loss')\n",
    "plt.xlabel('Epochs')\n",
    "plt.ylabel('Loss')\n",
    "plt.legend()\n",
    "# plt.savefig('outputs/multi_head_binary_loss.png')\n",
    "plt.show()"
   ]
  },
  {
   "cell_type": "markdown",
   "metadata": {},
   "source": [
    "### Test (ignore when submit kaggle)"
   ]
  },
  {
   "cell_type": "code",
   "execution_count": 46,
   "metadata": {},
   "outputs": [
    {
     "name": "stdout",
     "output_type": "stream",
     "text": [
      "[INFO]: Number of testing samples: 9354\n",
      "[INFO]: Number of testing features: 4999\n"
     ]
    },
    {
     "name": "stderr",
     "output_type": "stream",
     "text": [
      "delet some useless data: 100%|██████████| 25793/25793 [00:00<00:00, 266939.61it/s]"
     ]
    },
    {
     "name": "stdout",
     "output_type": "stream",
     "text": [
      "Number of instance with label :  7460\n",
      "Number of instance without label(remain) :  1894\n"
     ]
    },
    {
     "name": "stderr",
     "output_type": "stream",
     "text": [
      "\n",
      "title & abstract: 100%|██████████| 25793/25793 [00:27<00:00, 946.38it/s] \n",
      "authors: 100%|██████████| 25793/25793 [00:07<00:00, 3582.33it/s]\n"
     ]
    }
   ],
   "source": [
    "# print some info\n",
    "print(f\"[INFO]: Number of testing samples: {X_test.shape[0]}\")\n",
    "print(f\"[INFO]: Number of testing features: {X_test.shape[1]}\")\n",
    "\n",
    "# test data loader\n",
    "X_test, y_test = for_train(\"word\", p=0.20250)\n",
    "\n",
    "test_dataset, test_dataloader = BinaryDataLoader(X_test, y_test, shuffle=False, batch_size=1)"
   ]
  },
  {
   "cell_type": "code",
   "execution_count": 47,
   "metadata": {},
   "outputs": [
    {
     "data": {
      "text/plain": [
       "SentenceRNN(\n",
       "  (lstm): LSTM(4999, 512, num_layers=2, batch_first=True)\n",
       "  (fc): Linear(in_features=512, out_features=100, bias=True)\n",
       ")"
      ]
     },
     "execution_count": 47,
     "metadata": {},
     "output_type": "execute_result"
    }
   ],
   "source": [
    "model = SentenceRNN()\n",
    "model.load_state_dict(torch.load('status/model_words.pth'))\n",
    "model.to(device)\n",
    "model.eval()"
   ]
  },
  {
   "cell_type": "code",
   "execution_count": 48,
   "metadata": {},
   "outputs": [],
   "source": [
    "from preprocessing import *\n",
    "\n",
    "target_list = transform_labels(y_test, threshold=1)"
   ]
  },
  {
   "cell_type": "code",
   "execution_count": 49,
   "metadata": {},
   "outputs": [],
   "source": [
    "from sklearn.metrics import accuracy_score, recall_score, f1_score\n",
    "\n",
    "def get_f1(threshold):\n",
    "    predict_list = []\n",
    "\n",
    "    for i, test_sample in enumerate(test_dataloader):\n",
    "        \n",
    "        features = test_sample['features']\n",
    "        \n",
    "        \n",
    "        features = torch.reshape(features, (features.shape[0], 1, features.shape[1])).to(device)\n",
    "        \n",
    "        outputs = model(features)\n",
    "        \n",
    "        outputs = outputs.squeeze()\n",
    "                \n",
    "        # get all the labels\n",
    "        predict_list.append(transform_to_label(outputs, threshold=threshold))\n",
    "\n",
    "    return predict_list, f1_score(target_list, predict_list, average='weighted')"
   ]
  },
  {
   "cell_type": "code",
   "execution_count": 50,
   "metadata": {},
   "outputs": [
    {
     "name": "stderr",
     "output_type": "stream",
     "text": [
      "100%|██████████| 9/9 [10:06<00:00, 67.37s/it]\n"
     ]
    }
   ],
   "source": [
    "thresholds = [0.01, 0.02, 0.05, 0.1, 0.2, 0.3, 0.4, 0.5, 0.6]\n",
    "f1_scores = []\n",
    "\n",
    "for i in tqdm(range(len(thresholds))):\n",
    "    threshold = thresholds[i]\n",
    "\n",
    "    predict_list, f1 = get_f1(threshold)\n",
    "\n",
    "    f1_scores.append(f1)"
   ]
  },
  {
   "cell_type": "code",
   "execution_count": 51,
   "metadata": {},
   "outputs": [
    {
     "data": {
      "text/plain": [
       "0.1"
      ]
     },
     "execution_count": 51,
     "metadata": {},
     "output_type": "execute_result"
    }
   ],
   "source": [
    "THRESHOLD = thresholds[f1_scores.index(max(f1_scores))]\n",
    "THRESHOLD"
   ]
  },
  {
   "cell_type": "code",
   "execution_count": 52,
   "metadata": {},
   "outputs": [
    {
     "data": {
      "text/plain": [
       "[0.799896334777076,\n",
       " 0.8763555816181507,\n",
       " 0.8795921527220626,\n",
       " 0.8807861738948699,\n",
       " 0.8791951923966211,\n",
       " 0.8769363930649806,\n",
       " 0.8729982482407432,\n",
       " 0.8695875018099826,\n",
       " 0.8669498145128807]"
      ]
     },
     "execution_count": 52,
     "metadata": {},
     "output_type": "execute_result"
    }
   ],
   "source": [
    "# max(f1_scores)\n",
    "f1_scores"
   ]
  },
  {
   "cell_type": "markdown",
   "metadata": {},
   "source": [
    "# Kaggle Predictions"
   ]
  },
  {
   "cell_type": "code",
   "execution_count": 53,
   "metadata": {},
   "outputs": [
    {
     "name": "stderr",
     "output_type": "stream",
     "text": [
      "title & abstract: 100%|██████████| 800/800 [00:02<00:00, 363.66it/s]\n"
     ]
    },
    {
     "name": "stdout",
     "output_type": "stream",
     "text": [
      "[INFO]: Number of testing samples: 800\n",
      "[INFO]: Number of testing features: 4999\n"
     ]
    },
    {
     "name": "stderr",
     "output_type": "stream",
     "text": [
      "100%|██████████| 800/800 [00:03<00:00, 251.08it/s]\n"
     ]
    }
   ],
   "source": [
    "from preprocessing import for_kaggle\n",
    "\n",
    "X_kaggle = for_kaggle('word')\n",
    "\n",
    "# print some info\n",
    "print(f\"[INFO]: Number of testing samples: {X_kaggle.shape[0]}\")\n",
    "print(f\"[INFO]: Number of testing features: {X_kaggle.shape[1]}\")\n",
    "\n",
    "# train data loader\n",
    "kaggle_dataloader = BinaryDataLoader(X_kaggle, None, shuffle=False, batch_size=1)\n",
    "\n",
    "predict_dict = {}\n",
    "\n",
    "# for i, test_sample in tqdm(enumerate(kaggle_dataloader), total=len(kaggle_dataloader)):\n",
    "key = 0\n",
    "for test_sample in tqdm(X_kaggle):\n",
    "    # print(f\"SAMPLE {i}\")\n",
    "    # extract the features and labels\n",
    "    features = test_sample\n",
    "    \n",
    "    features = torch.reshape(features, (1, 1, 4999))\n",
    "    \n",
    "    outputs = model(features)\n",
    "    outputs = outputs.squeeze()\n",
    "    tmp = {}\n",
    "    \n",
    "    for i in range(100):\n",
    "        tmp[i] = outputs[i].item()\n",
    "         \n",
    "    predict_dict[key] = tmp\n",
    "    \n",
    "    key += 1\n",
    "\n",
    "# with open('outputs/abstracts_title.json', 'w') as fp:\n",
    "#     json.dump(predict_dict, fp)\n",
    "\n",
    "with open('outputs/abstracts_title_all.json', 'w') as fp:\n",
    "    json.dump(predict_dict, fp)"
   ]
  },
  {
   "cell_type": "code",
   "execution_count": null,
   "metadata": {},
   "outputs": [],
   "source": []
  },
  {
   "cell_type": "code",
   "execution_count": null,
   "metadata": {},
   "outputs": [],
   "source": []
  }
 ],
 "metadata": {
  "kernelspec": {
   "display_name": "Python 3 (ipykernel)",
   "language": "python",
   "name": "python3"
  },
  "language_info": {
   "codemirror_mode": {
    "name": "ipython",
    "version": 3
   },
   "file_extension": ".py",
   "mimetype": "text/x-python",
   "name": "python",
   "nbconvert_exporter": "python",
   "pygments_lexer": "ipython3",
   "version": "3.10.4"
  },
  "vscode": {
   "interpreter": {
    "hash": "aee8b7b246df8f9039afb4144a1f6fd8d2ca17a180786b69acc140d282b71a49"
   }
  }
 },
 "nbformat": 4,
 "nbformat_minor": 2
}
