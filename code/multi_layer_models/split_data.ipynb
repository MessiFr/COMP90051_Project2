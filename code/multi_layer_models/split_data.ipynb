{
 "cells": [
  {
   "cell_type": "code",
   "execution_count": 1,
   "metadata": {},
   "outputs": [
    {
     "name": "stderr",
     "output_type": "stream",
     "text": [
      "/Library/Frameworks/Python.framework/Versions/3.10/lib/python3.10/site-packages/tqdm/auto.py:22: TqdmWarning: IProgress not found. Please update jupyter and ipywidgets. See https://ipywidgets.readthedocs.io/en/stable/user_install.html\n",
      "  from .autonotebook import tqdm as notebook_tqdm\n"
     ]
    }
   ],
   "source": [
    "from preprocessing import *\n",
    "import torch\n",
    "import numpy as np\n",
    "import random"
   ]
  },
  {
   "cell_type": "code",
   "execution_count": 2,
   "metadata": {},
   "outputs": [
    {
     "name": "stderr",
     "output_type": "stream",
     "text": [
      "delet some useless data: 100%|██████████| 25793/25793 [00:00<00:00, 390081.64it/s]\n"
     ]
    },
    {
     "name": "stdout",
     "output_type": "stream",
     "text": [
      "Number of instance with label :  7460\n",
      "Number of instance without label(remain) :  1894\n"
     ]
    },
    {
     "name": "stderr",
     "output_type": "stream",
     "text": [
      "title & abstract: 100%|██████████| 25793/25793 [00:22<00:00, 1143.68it/s]\n",
      "authors: 100%|██████████| 25793/25793 [00:04<00:00, 5615.64it/s]\n",
      "venue: 100%|██████████| 25793/25793 [00:04<00:00, 6109.85it/s]\n",
      "year: 100%|██████████| 25793/25793 [00:04<00:00, 6283.21it/s]\n"
     ]
    }
   ],
   "source": [
    "discard = get_discard(0.20250)\n",
    "X_sentence = for_train('word', discard, no_label=True)\n",
    "X_author, y = for_train('coauthor', discard)\n",
    "X_year_venue = for_train('year_venue', discard, no_label=True)"
   ]
  },
  {
   "cell_type": "code",
   "execution_count": 20,
   "metadata": {},
   "outputs": [],
   "source": [
    "f_train = open(\"data/train_index.json\", 'r')\n",
    "train_index = json.load(f_train)['train_index']\n",
    "\n",
    "f_test = open(\"data/test_index.json\", 'r')\n",
    "test_index = json.load(f_test)['test_index']"
   ]
  },
  {
   "cell_type": "code",
   "execution_count": 21,
   "metadata": {},
   "outputs": [],
   "source": [
    "torch.save(X_sentence[train_index, :], 'data/X_sentence5_train.pt')\n",
    "torch.save(X_sentence[test_index, :], 'data/X_sentence5_test.pt')"
   ]
  },
  {
   "cell_type": "code",
   "execution_count": 22,
   "metadata": {},
   "outputs": [],
   "source": [
    "torch.save(X_sentence[train_index, :], 'data/X_sentence_train.pt')\n",
    "torch.save(X_sentence[test_index, :], 'data/X_sentence_test.pt')\n",
    "torch.save(X_sentence, 'data/X_sentence_all.pt')\n",
    "\n",
    "torch.save(X_author[train_index, :], 'data/X_author_train.pt')\n",
    "torch.save(X_author[test_index, :], 'data/X_author_test.pt')\n",
    "torch.save(X_author, 'data/X_author_all.pt')\n",
    "\n",
    "torch.save(X_year_venue[train_index, :], 'data/X_year_venue_train.pt')\n",
    "torch.save(X_year_venue[test_index, :], 'data/X_year_venue_test.pt')\n",
    "torch.save(X_year_venue, 'data/X_year_venue_all.pt')\n",
    "\n",
    "torch.save(y[train_index, :], 'data/y_train.pt')\n",
    "torch.save(y[test_index, :], 'data/y_test.pt')\n",
    "torch.save(y, 'data/y_all.pt')"
   ]
  },
  {
   "cell_type": "code",
   "execution_count": null,
   "metadata": {},
   "outputs": [],
   "source": []
  },
  {
   "cell_type": "code",
   "execution_count": 14,
   "metadata": {},
   "outputs": [],
   "source": [
    "# import json\n",
    "# test_size = 0.33\n",
    "\n",
    "# test_index = random.sample(range(y.shape[0]), int(test_size * y.shape[0]))\n",
    "# train_index = [i for i in range(y.shape[0]) if i not in test_index]\n",
    "\n",
    "# train_dict = {\"train_index\": train_index}\n",
    "# with open('data/train_index.json', 'w') as fp:\n",
    "#         json.dump(train_dict, fp)\n",
    "\n",
    "# test_dict = {\"test_index\": test_index}\n",
    "# with open('data/test_index.json', 'w') as fp:\n",
    "#         json.dump(test_dict, fp)"
   ]
  },
  {
   "cell_type": "code",
   "execution_count": null,
   "metadata": {},
   "outputs": [],
   "source": []
  }
 ],
 "metadata": {
  "kernelspec": {
   "display_name": "Python 3.10.4 64-bit",
   "language": "python",
   "name": "python3"
  },
  "language_info": {
   "codemirror_mode": {
    "name": "ipython",
    "version": 3
   },
   "file_extension": ".py",
   "mimetype": "text/x-python",
   "name": "python",
   "nbconvert_exporter": "python",
   "pygments_lexer": "ipython3",
   "version": "3.10.4"
  },
  "orig_nbformat": 4,
  "vscode": {
   "interpreter": {
    "hash": "aee8b7b246df8f9039afb4144a1f6fd8d2ca17a180786b69acc140d282b71a49"
   }
  }
 },
 "nbformat": 4,
 "nbformat_minor": 2
}
