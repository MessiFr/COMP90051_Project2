{
 "cells": [
  {
   "cell_type": "code",
   "execution_count": 1,
   "metadata": {},
   "outputs": [
    {
     "name": "stderr",
     "output_type": "stream",
     "text": [
      "/Library/Frameworks/Python.framework/Versions/3.10/lib/python3.10/site-packages/tqdm/auto.py:22: TqdmWarning: IProgress not found. Please update jupyter and ipywidgets. See https://ipywidgets.readthedocs.io/en/stable/user_install.html\n",
      "  from .autonotebook import tqdm as notebook_tqdm\n"
     ]
    }
   ],
   "source": [
    "from preprocessing import *\n",
    "import torch\n",
    "import numpy as np\n",
    "import random"
   ]
  },
  {
   "cell_type": "code",
   "execution_count": 2,
   "metadata": {},
   "outputs": [
    {
     "name": "stderr",
     "output_type": "stream",
     "text": [
      "delet some useless data: 100%|██████████| 25793/25793 [00:00<00:00, 326039.09it/s]\n"
     ]
    },
    {
     "name": "stdout",
     "output_type": "stream",
     "text": [
      "Number of instance with label :  7460\n",
      "Number of instance without label(remain) :  1894\n"
     ]
    },
    {
     "name": "stderr",
     "output_type": "stream",
     "text": [
      "title & abstract: 100%|██████████| 25793/25793 [00:25<00:00, 1029.21it/s]\n",
      "authors: 100%|██████████| 25793/25793 [00:04<00:00, 5510.93it/s]\n",
      "venue: 100%|██████████| 25793/25793 [00:04<00:00, 6229.93it/s]\n",
      "year: 100%|██████████| 25793/25793 [00:04<00:00, 6210.60it/s]\n"
     ]
    }
   ],
   "source": [
    "discard = get_discard(0.20250)\n",
    "X_sentence = for_train('word', discard, no_label=True)\n",
    "X_author, y = for_train('coauthor', discard)\n",
    "X_year_venue = for_train('year_venue', discard, no_label=True)"
   ]
  },
  {
   "cell_type": "code",
   "execution_count": 3,
   "metadata": {},
   "outputs": [],
   "source": [
    "test_size = 0.33\n",
    "\n",
    "test_index = random.sample(range(y.shape[0]), int(test_size * y.shape[0]))\n",
    "train_index = [i for i in range(y.shape[0]) if i not in test_index]"
   ]
  },
  {
   "cell_type": "code",
   "execution_count": 4,
   "metadata": {},
   "outputs": [],
   "source": [
    "torch.save(X_sentence[train_index, :], 'data/X_sentence_train.pt')\n",
    "torch.save(X_sentence[test_index, :], 'data/X_sentence_test.pt')\n",
    "torch.save(X_sentence, 'data/X_sentence_all.pt')\n",
    "\n",
    "torch.save(X_author[train_index, :], 'data/X_author_train.pt')\n",
    "torch.save(X_author[test_index, :], 'data/X_author_test.pt')\n",
    "torch.save(X_author, 'data/X_author_all.pt')\n",
    "\n",
    "torch.save(X_year_venue[train_index, :], 'data/X_year_venue_train.pt')\n",
    "torch.save(X_year_venue[test_index, :], 'data/X_year_venue_test.pt')\n",
    "torch.save(X_year_venue, 'data/X_year_venue_all.pt')\n",
    "\n",
    "torch.save(y[train_index, :], 'data/y_train.pt')\n",
    "torch.save(y[test_index, :], 'data/y_test.pt')\n",
    "torch.save(y, 'data/y_all.pt')"
   ]
  },
  {
   "cell_type": "code",
   "execution_count": null,
   "metadata": {},
   "outputs": [],
   "source": []
  }
 ],
 "metadata": {
  "kernelspec": {
   "display_name": "Python 3.10.4 64-bit",
   "language": "python",
   "name": "python3"
  },
  "language_info": {
   "codemirror_mode": {
    "name": "ipython",
    "version": 3
   },
   "file_extension": ".py",
   "mimetype": "text/x-python",
   "name": "python",
   "nbconvert_exporter": "python",
   "pygments_lexer": "ipython3",
   "version": "3.10.4"
  },
  "orig_nbformat": 4,
  "vscode": {
   "interpreter": {
    "hash": "aee8b7b246df8f9039afb4144a1f6fd8d2ca17a180786b69acc140d282b71a49"
   }
  }
 },
 "nbformat": 4,
 "nbformat_minor": 2
}
