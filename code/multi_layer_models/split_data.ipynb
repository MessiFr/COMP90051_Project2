{
 "cells": [
  {
   "cell_type": "code",
   "execution_count": 1,
   "metadata": {},
   "outputs": [
    {
     "name": "stderr",
     "output_type": "stream",
     "text": [
      "/Library/Frameworks/Python.framework/Versions/3.10/lib/python3.10/site-packages/tqdm/auto.py:22: TqdmWarning: IProgress not found. Please update jupyter and ipywidgets. See https://ipywidgets.readthedocs.io/en/stable/user_install.html\n",
      "  from .autonotebook import tqdm as notebook_tqdm\n"
     ]
    }
   ],
   "source": [
    "from preprocessing import *\n",
    "import torch\n",
    "import numpy as np\n",
    "import random\n",
    "import json"
   ]
  },
  {
   "cell_type": "code",
   "execution_count": 7,
   "metadata": {},
   "outputs": [
    {
     "name": "stderr",
     "output_type": "stream",
     "text": [
      "100%|██████████| 25793/25793 [00:00<00:00, 900630.06it/s]\n"
     ]
    }
   ],
   "source": [
    "# a = [111, 120, 99]\n",
    "# a[a < 100] = 1\n",
    "# a\n",
    "f = open('../../data/train.json', 'rb')\n",
    "a = json.load(f)\n",
    "f.close()\n",
    "\n",
    "# a[0]\n",
    "discard = []\n",
    "for i in tqdm(range(len(a))):\n",
    "    pau = 0\n",
    "    for j in a[i]['authors']:\n",
    "        if j < 100:\n",
    "            pau += 1\n",
    "    if pau == 0:\n",
    "        discard.append(i)\n"
   ]
  },
  {
   "cell_type": "code",
   "execution_count": 7,
   "metadata": {},
   "outputs": [
    {
     "data": {
      "text/plain": [
       "16439"
      ]
     },
     "execution_count": 7,
     "metadata": {},
     "output_type": "execute_result"
    }
   ],
   "source": [
    "len(discard)"
   ]
  },
  {
   "cell_type": "code",
   "execution_count": 6,
   "metadata": {},
   "outputs": [
    {
     "name": "stderr",
     "output_type": "stream",
     "text": [
      "delet some useless data: 100%|██████████| 25793/25793 [00:00<00:00, 143076.64it/s]\n"
     ]
    },
    {
     "name": "stdout",
     "output_type": "stream",
     "text": [
      "Number of instance with label :  7460\n",
      "Number of instance without label(remain) :  1894\n"
     ]
    },
    {
     "name": "stderr",
     "output_type": "stream",
     "text": [
      "title & abstract: 100%|██████████| 25793/25793 [00:23<00:00, 1101.49it/s]\n",
      "authors: 100%|██████████| 25793/25793 [00:04<00:00, 5814.85it/s]\n",
      "venue: 100%|██████████| 25793/25793 [00:04<00:00, 6264.67it/s]\n",
      "year: 100%|██████████| 25793/25793 [00:04<00:00, 6372.46it/s]\n"
     ]
    }
   ],
   "source": [
    "discard = get_discard(0.20250)\n",
    "# f_train = open(\"data/discard_index.json\", 'r')\n",
    "# discard = json.load(f_train)['discard_index']\n",
    "\n",
    "X_sentence = for_train('word', discard, no_label=True)\n",
    "X_author, y = for_train('coauthor', discard)\n",
    "X_year_venue = for_train('year_venue', discard, no_label=True)"
   ]
  },
  {
   "cell_type": "code",
   "execution_count": 9,
   "metadata": {},
   "outputs": [],
   "source": [
    "try:\n",
    "    f_train = open(\"data/train_index.json\", 'r')\n",
    "    train_index = json.load(f_train)['train_index']\n",
    "\n",
    "    f_test = open(\"data/test_index.json\", 'r')\n",
    "    test_index = json.load(f_test)['test_index']\n",
    "except:\n",
    "    \n",
    "    test_size = 0.33\n",
    "\n",
    "    test_index = random.sample(range(y.shape[0]), int(test_size * y.shape[0]))\n",
    "    train_index = [i for i in range(y.shape[0]) if i not in test_index]\n",
    "\n",
    "    train_dict = {\"train_index\": train_index}\n",
    "    with open('data/train_index.json', 'w') as fp:\n",
    "            json.dump(train_dict, fp)\n",
    "\n",
    "    test_dict = {\"test_index\": test_index}\n",
    "    with open('data/test_index.json', 'w') as fp:\n",
    "            json.dump(test_dict, fp)"
   ]
  },
  {
   "cell_type": "code",
   "execution_count": 14,
   "metadata": {},
   "outputs": [],
   "source": [
    "doc2vec_index_all = get_remain_index(discard)\n",
    "doc2vec_index_train = []\n",
    "for i in train_index:\n",
    "    doc2vec_index_train.append(doc2vec_index_all[i])\n",
    "\n",
    "doc2vec_index_test = []\n",
    "for i in test_index:\n",
    "    doc2vec_index_test.append(doc2vec_index_all[i])"
   ]
  },
  {
   "cell_type": "code",
   "execution_count": 15,
   "metadata": {},
   "outputs": [],
   "source": [
    "doc2vec_index_train_dic = {'index': doc2vec_index_train}\n",
    "with open('data/doc2vec_train_index.json', 'w') as fp:\n",
    "        json.dump(doc2vec_index_train_dic, fp)\n",
    "\n",
    "doc2vec_index_test_dic = {'index': doc2vec_index_test}\n",
    "test_dict = {\"test_index\": test_index}\n",
    "with open('data/doc2vec_test_index.json', 'w') as fp:\n",
    "        json.dump(doc2vec_index_test_dic, fp)"
   ]
  },
  {
   "cell_type": "code",
   "execution_count": 10,
   "metadata": {},
   "outputs": [
    {
     "ename": "NameError",
     "evalue": "name 'doc2vec_index_train' is not defined",
     "output_type": "error",
     "traceback": [
      "\u001b[0;31m---------------------------------------------------------------------------\u001b[0m",
      "\u001b[0;31mNameError\u001b[0m                                 Traceback (most recent call last)",
      "\u001b[1;32m/Users/messifr/Desktop/Messi/MasterY1S2/sml/gnn/COMP90051_Project2/code/multi_layer_models/split_data.ipynb Cell 8\u001b[0m in \u001b[0;36m<cell line: 1>\u001b[0;34m()\u001b[0m\n\u001b[0;32m----> <a href='vscode-notebook-cell:/Users/messifr/Desktop/Messi/MasterY1S2/sml/gnn/COMP90051_Project2/code/multi_layer_models/split_data.ipynb#X10sZmlsZQ%3D%3D?line=0'>1</a>\u001b[0m torch\u001b[39m.\u001b[39msave(get_sentence_matrix(doc2vec_index_train), \u001b[39m'\u001b[39m\u001b[39mdata/X_doc2vec_train.pt\u001b[39m\u001b[39m'\u001b[39m)\n\u001b[1;32m      <a href='vscode-notebook-cell:/Users/messifr/Desktop/Messi/MasterY1S2/sml/gnn/COMP90051_Project2/code/multi_layer_models/split_data.ipynb#X10sZmlsZQ%3D%3D?line=1'>2</a>\u001b[0m torch\u001b[39m.\u001b[39msave(get_sentence_matrix(doc2vec_index_test), \u001b[39m'\u001b[39m\u001b[39mdata/X_doc2vec_test.pt\u001b[39m\u001b[39m'\u001b[39m)\n\u001b[1;32m      <a href='vscode-notebook-cell:/Users/messifr/Desktop/Messi/MasterY1S2/sml/gnn/COMP90051_Project2/code/multi_layer_models/split_data.ipynb#X10sZmlsZQ%3D%3D?line=2'>3</a>\u001b[0m torch\u001b[39m.\u001b[39msave(get_sentence_matrix(doc2vec_index_all), \u001b[39m'\u001b[39m\u001b[39mdata/X_doc2vec_all.pt\u001b[39m\u001b[39m'\u001b[39m)\n",
      "\u001b[0;31mNameError\u001b[0m: name 'doc2vec_index_train' is not defined"
     ]
    }
   ],
   "source": [
    "torch.save(get_sentence_matrix(doc2vec_index_train), 'data/X_doc2vec_train.pt')\n",
    "torch.save(get_sentence_matrix(doc2vec_index_test), 'data/X_doc2vec_test.pt')\n",
    "torch.save(get_sentence_matrix(doc2vec_index_all), 'data/X_doc2vec_all.pt')\n",
    "\n",
    "torch.save(get_sentence_matrix(type='for_kaggle'), 'data/X_doc2vec_kaggle.pt')"
   ]
  },
  {
   "cell_type": "code",
   "execution_count": 11,
   "metadata": {},
   "outputs": [],
   "source": [
    "torch.save(y[train_index, :], 'data/y_train.pt')\n",
    "torch.save(y[test_index, :], 'data/y_test.pt')\n",
    "torch.save(y, 'data/y_all.pt')"
   ]
  },
  {
   "cell_type": "code",
   "execution_count": 12,
   "metadata": {},
   "outputs": [],
   "source": [
    "torch.save(X_sentence[train_index, :], 'data/X_sentence_train.pt')\n",
    "torch.save(X_sentence[test_index, :], 'data/X_sentence_test.pt')\n",
    "torch.save(X_sentence, 'data/X_sentence_all.pt')\n",
    "\n",
    "torch.save(X_author[train_index, :], 'data/X_author_train.pt')\n",
    "torch.save(X_author[test_index, :], 'data/X_author_test.pt')\n",
    "torch.save(X_author, 'data/X_author_all.pt')\n",
    "\n",
    "torch.save(X_year_venue[train_index, :], 'data/X_year_venue_train.pt')\n",
    "torch.save(X_year_venue[test_index, :], 'data/X_year_venue_test.pt')\n",
    "torch.save(X_year_venue, 'data/X_year_venue_all.pt')"
   ]
  },
  {
   "cell_type": "code",
   "execution_count": null,
   "metadata": {},
   "outputs": [],
   "source": []
  },
  {
   "cell_type": "code",
   "execution_count": null,
   "metadata": {},
   "outputs": [],
   "source": []
  },
  {
   "cell_type": "code",
   "execution_count": 13,
   "metadata": {},
   "outputs": [],
   "source": [
    "f_train = open(\"data/discard_index.json\", 'r')\n",
    "discard = json.load(f_train)['discard_index']"
   ]
  },
  {
   "cell_type": "code",
   "execution_count": 8,
   "metadata": {},
   "outputs": [],
   "source": [
    "import json\n",
    "test_size = 0.33\n",
    "\n",
    "test_index = random.sample(range(y.shape[0]), int(test_size * y.shape[0]))\n",
    "train_index = [i for i in range(y.shape[0]) if i not in test_index]\n",
    "\n",
    "train_dict = {\"train_index\": train_index}\n",
    "with open('data/train_index.json', 'w') as fp:\n",
    "        json.dump(train_dict, fp)\n",
    "\n",
    "test_dict = {\"test_index\": test_index}\n",
    "with open('data/test_index.json', 'w') as fp:\n",
    "        json.dump(test_dict, fp)"
   ]
  },
  {
   "cell_type": "code",
   "execution_count": null,
   "metadata": {},
   "outputs": [],
   "source": []
  }
 ],
 "metadata": {
  "kernelspec": {
   "display_name": "Python 3.10.4 64-bit",
   "language": "python",
   "name": "python3"
  },
  "language_info": {
   "codemirror_mode": {
    "name": "ipython",
    "version": 3
   },
   "file_extension": ".py",
   "mimetype": "text/x-python",
   "name": "python",
   "nbconvert_exporter": "python",
   "pygments_lexer": "ipython3",
   "version": "3.10.4"
  },
  "orig_nbformat": 4,
  "vscode": {
   "interpreter": {
    "hash": "aee8b7b246df8f9039afb4144a1f6fd8d2ca17a180786b69acc140d282b71a49"
   }
  }
 },
 "nbformat": 4,
 "nbformat_minor": 2
}
