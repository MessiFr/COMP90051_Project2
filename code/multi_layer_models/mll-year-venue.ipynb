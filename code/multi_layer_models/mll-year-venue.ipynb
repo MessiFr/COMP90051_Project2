{
 "cells": [
  {
   "cell_type": "code",
   "execution_count": 14,
   "metadata": {},
   "outputs": [],
   "source": [
    "# from sklearn.datasets import make_multilabel_classification\n",
    "from torch.utils.data import Dataset\n",
    "import json\n",
    "import numpy as np\n",
    "import torch\n",
    "import time\n",
    "from tqdm import tqdm\n",
    "from NN_Models import *"
   ]
  },
  {
   "cell_type": "code",
   "execution_count": 15,
   "metadata": {},
   "outputs": [],
   "source": [
    "X_train = torch.load('data/X_year_venue_train.pt')\n",
    "X_test = torch.load('data/X_year_venue_test.pt')\n",
    "y_train = torch.load('data/y_train.pt')\n",
    "y_test = torch.load('data/y_test.pt')"
   ]
  },
  {
   "cell_type": "code",
   "execution_count": 16,
   "metadata": {},
   "outputs": [],
   "source": [
    "# train data loader\n",
    "train_dataset, train_dataloader = BinaryDataLoader(X_train, y_train, shuffle=True, batch_size=100)"
   ]
  },
  {
   "cell_type": "code",
   "execution_count": 17,
   "metadata": {},
   "outputs": [
    {
     "name": "stderr",
     "output_type": "stream",
     "text": [
      "100%|██████████| 100/100 [10:27<00:00,  6.28s/it]\n"
     ]
    },
    {
     "data": {
      "image/png": "[encoded data removed]",
      "text/plain": [
       "<Figure size 720x504 with 1 Axes>"
      ]
     },
     "metadata": {
      "needs_background": "light"
     },
     "output_type": "display_data"
    }
   ],
   "source": [
    "import torch.optim as optim\n",
    "EMBEDDING = True\n",
    "model = Model()\n",
    "model.year_venue_model(embedding=EMBEDDING)\n",
    "\n",
    "learning_rate = 0.001\n",
    "optimizer = optim.Adam(params=model.year_venue_model(embedding=EMBEDDING).parameters(), lr=learning_rate) # 学习率衰减 / 学习率震荡\n",
    "epochs = 100\n",
    "model.train(train_dataloader, optimizer, epochs)\n",
    "model.save_status(\"year_venue\")\n",
    "model.plot_loss()"
   ]
  },
  {
   "cell_type": "markdown",
   "metadata": {},
   "source": [
    "### Test (ignore when submit kaggle)"
   ]
  },
  {
   "cell_type": "code",
   "execution_count": 19,
   "metadata": {},
   "outputs": [
    {
     "name": "stdout",
     "output_type": "stream",
     "text": [
      "[INFO]: Number of testing samples: 3086\n",
      "[INFO]: Number of testing features: 486\n"
     ]
    },
    {
     "name": "stderr",
     "output_type": "stream",
     "text": [
      "100%|██████████| 9/9 [01:24<00:00,  9.40s/it]\n"
     ]
    }
   ],
   "source": [
    "from evaluation import evaluation\n",
    "\n",
    "# print some info\n",
    "print(f\"[INFO]: Number of testing samples: {X_test.shape[0]}\")\n",
    "print(f\"[INFO]: Number of testing features: {X_test.shape[1]}\")\n",
    "\n",
    "thresholds = [0.01, 0.02, 0.05, 0.1, 0.2, 0.3, 0.4, 0.5, 0.6]\n",
    "\n",
    "f1_scores = evaluation(model.model, X_test, y_test, thresholds)"
   ]
  },
  {
   "cell_type": "code",
   "execution_count": 20,
   "metadata": {},
   "outputs": [
    {
     "name": "stdout",
     "output_type": "stream",
     "text": [
      "0.1\n",
      "0.09287086258899986\n"
     ]
    }
   ],
   "source": [
    "print(thresholds[f1_scores.index(max(f1_scores))])\n",
    "print(max(f1_scores))"
   ]
  },
  {
   "cell_type": "markdown",
   "metadata": {},
   "source": [
    "#### 04/10/2022\n",
    "- 0.3\n",
    "- 0.08649579642027334"
   ]
  },
  {
   "cell_type": "code",
   "execution_count": 21,
   "metadata": {},
   "outputs": [
    {
     "name": "stderr",
     "output_type": "stream",
     "text": [
      "100%|██████████| 6268/6268 [00:05<00:00, 1132.41it/s]\n",
      "100%|██████████| 3086/3086 [00:01<00:00, 1568.85it/s]\n"
     ]
    }
   ],
   "source": [
    "from preprocessing import for_kaggle\n",
    "from evaluation import kaggle_predict\n",
    "\n",
    "# X_kaggle = for_kaggle('year_venue')\n",
    "\n",
    "kaggle_predict(model.model, X_train, 'year_venue_train')\n",
    "kaggle_predict(model.model, X_test, 'year_venue_test')"
   ]
  },
  {
   "cell_type": "markdown",
   "metadata": {},
   "source": [
    "# Kaggle Predictions"
   ]
  },
  {
   "cell_type": "code",
   "execution_count": 13,
   "metadata": {},
   "outputs": [
    {
     "name": "stderr",
     "output_type": "stream",
     "text": [
      "venue: 100%|██████████| 800/800 [00:00<00:00, 82186.87it/s]\n",
      "year: 100%|██████████| 800/800 [00:00<00:00, 88522.44it/s]\n",
      "100%|██████████| 800/800 [00:00<00:00, 1545.80it/s]\n"
     ]
    }
   ],
   "source": [
    "from preprocessing import for_kaggle\n",
    "from evaluation import kaggle_predict\n",
    "\n",
    "X_kaggle = for_kaggle('year_venue')\n",
    "\n",
    "kaggle_predict(model.model, X_kaggle, 'year_venue')"
   ]
  },
  {
   "cell_type": "code",
   "execution_count": null,
   "metadata": {},
   "outputs": [],
   "source": []
  }
 ],
 "metadata": {
  "kernelspec": {
   "display_name": "Python 3 (ipykernel)",
   "language": "python",
   "name": "python3"
  },
  "language_info": {
   "codemirror_mode": {
    "name": "ipython",
    "version": 3
   },
   "file_extension": ".py",
   "mimetype": "text/x-python",
   "name": "python",
   "nbconvert_exporter": "python",
   "pygments_lexer": "ipython3",
   "version": "3.10.4"
  },
  "vscode": {
   "interpreter": {
    "hash": "aee8b7b246df8f9039afb4144a1f6fd8d2ca17a180786b69acc140d282b71a49"
   }
  }
 },
 "nbformat": 4,
 "nbformat_minor": 2
}
