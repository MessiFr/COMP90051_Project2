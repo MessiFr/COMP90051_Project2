{
 "cells": [
  {
   "cell_type": "code",
   "execution_count": 82,
   "metadata": {},
   "outputs": [],
   "source": [
    "import json\n",
    "import numpy as np\n",
    "import pandas as pd\n",
    "from tqdm import tqdm"
   ]
  },
  {
   "cell_type": "code",
   "execution_count": 2,
   "metadata": {},
   "outputs": [],
   "source": [
    "f_train = open(\"../../data/train.json\", 'r')\n",
    "train_data = json.load(f_train)"
   ]
  },
  {
   "cell_type": "code",
   "execution_count": 3,
   "metadata": {},
   "outputs": [],
   "source": [
    "def get_year_venue_matrix(data):\n",
    "    n_samples = len(data)\n",
    "\n",
    "    # vmatrix = np.zeros([n_samples, 466])\n",
    "    matrix = []\n",
    "\n",
    "    y = []\n",
    "\n",
    "    for i in tqdm(range(n_samples), desc=\"venue\"):\n",
    "        \n",
    "        for au in data[i]['authors']:\n",
    "            if au < 100:\n",
    "\n",
    "                venue = data[i]['venue']\n",
    "                year = data[i]['year']\n",
    "                y.append(au)\n",
    "                \n",
    "                ### Embedding\n",
    "                # tmp = [0 for _ in range(486)]\n",
    "                # if venue:\n",
    "                #     tmp[venue] += 1\n",
    "                # else:\n",
    "                #     tmp[465] += 1\n",
    "                # year += 466\n",
    "                # tmp[year] += 1\n",
    "\n",
    "                ## \n",
    "                if not venue:\n",
    "                    venue = 465\n",
    "                tmp = [year, venue]\n",
    "                \n",
    "                matrix.append(tmp)\n",
    "\n",
    "    return np.array(matrix), np.array(y)"
   ]
  },
  {
   "cell_type": "code",
   "execution_count": 4,
   "metadata": {},
   "outputs": [
    {
     "name": "stderr",
     "output_type": "stream",
     "text": [
      "venue: 100%|██████████| 25793/25793 [00:00<00:00, 325849.56it/s]"
     ]
    },
    {
     "name": "stdout",
     "output_type": "stream",
     "text": [
      "X_train :  (7150, 2)\n",
      "y_train :  (7150,)\n",
      "X_test  :  (1788, 2)\n",
      "y_test  :  (1788,)\n"
     ]
    },
    {
     "name": "stderr",
     "output_type": "stream",
     "text": [
      "\n"
     ]
    }
   ],
   "source": [
    "from sklearn.model_selection import train_test_split\n",
    "\n",
    "X, y = get_year_venue_matrix(train_data)\n",
    "\n",
    "X_train, X_test, y_train, y_test = train_test_split(X, y, test_size=0.2, random_state=20)\n",
    "\n",
    "print(\"X_train : \", X_train.shape)\n",
    "print(\"y_train : \", y_train.shape)\n",
    "print(\"X_test  : \", X_test.shape)\n",
    "print(\"y_test  : \", y_test.shape)"
   ]
  },
  {
   "cell_type": "code",
   "execution_count": 5,
   "metadata": {},
   "outputs": [
    {
     "data": {
      "text/plain": [
       "323"
      ]
     },
     "execution_count": 5,
     "metadata": {},
     "output_type": "execute_result"
    }
   ],
   "source": [
    "len(set(X[:, 1]))"
   ]
  },
  {
   "cell_type": "code",
   "execution_count": 6,
   "metadata": {},
   "outputs": [],
   "source": [
    "from collections import Counter\n",
    "\n",
    "def train(X, y):\n",
    "\n",
    "    # prior probability of authors\n",
    "    prior = {}                               # prior probabilities \n",
    "    counts = Counter(y)\n",
    "    n_features = len(X[0])\n",
    "    total = len(y)\n",
    "    for label in counts.keys():\n",
    "        if label not in prior:\n",
    "            prior[label] = counts[label] / total\n",
    "    \n",
    "    # likelihood probability for year\n",
    "    likelihood_year = {}                         # likelihood probabilities \n",
    "    for label in set(y):\n",
    "\n",
    "        column = []\n",
    "    \n",
    "        for i in range(total):\n",
    "            if label == y[i]:\n",
    "                column.append(X[i][0])              \n",
    "                \n",
    "        likelihood_year[label] = gaussian_params(column)\n",
    "\n",
    "    # likelihood probability for venue\n",
    "    likelihood_venue = {}\n",
    "    n_venue = 466\n",
    "    for i in range(n_venue):                        \n",
    "        likelihood_venue[i] = [0 for _ in range(100)]\n",
    "\n",
    "    for venue in range(n_venue):\n",
    "        sum_ = 0\n",
    "        for i in range(total):\n",
    "            \n",
    "            if X[i][1] == venue:\n",
    "                likelihood_venue[venue][y[i]] += 1\n",
    "                sum_ +=  1\n",
    "\n",
    "        if sum_ > 0:\n",
    "            likelihood_venue[venue] = [i/sum_ for i in likelihood_venue[venue]]\n",
    "        \n",
    "        \n",
    "    return prior, likelihood_year, likelihood_venue\n",
    "\n",
    "def gaussian_params(array):                 # param with array, return the mean and sigma of gaussian distribution\n",
    "    mean = np.mean(array)\n",
    "    sigma = np.std(array)\n",
    "    return [mean, sigma]"
   ]
  },
  {
   "cell_type": "code",
   "execution_count": 47,
   "metadata": {},
   "outputs": [],
   "source": [
    "import scipy.stats as st\n",
    "\n",
    "def my_predict(data, prior, likelihood_year, likelihood_venue):               # predict the class by adding the missing score \n",
    "    \n",
    "    result = []\n",
    "\n",
    "    for label in range(100):\n",
    "\n",
    "        # prior_prob = prior[label] \n",
    "        prior_prob = 0\n",
    "\n",
    "        mu = likelihood_year[label][0]\n",
    "        sigma = likelihood_year[label][1]\n",
    "        \n",
    "        likelihood_prob_year = st.norm.pdf(data[0], mu, sigma)\n",
    "\n",
    "        likelihood_prob_venue = likelihood_venue[data[1]][label]\n",
    "                \n",
    "        result.append(prior_prob + (likelihood_prob_year + likelihood_prob_venue))\n",
    "\n",
    "    return result"
   ]
  },
  {
   "cell_type": "code",
   "execution_count": 48,
   "metadata": {},
   "outputs": [],
   "source": [
    "def my_evaluate(X, prior, likelihood_year, likelihood_venue):                # evaluate the accuracy with the effect by missing values  \n",
    "    \n",
    "    predicts = []\n",
    "        \n",
    "    for i in tqdm(range(len(X))):                       # the list of predicted pose for each instance\n",
    "        predicts.append(my_predict(X[i], prior, likelihood_year, likelihood_venue))\n",
    "\n",
    "        # pred = my_predict(X[i], y, prior, likelihood_year, likelihood_venue)\n",
    "        # predicts.append(pred.index(max(pred)))\n",
    "\n",
    "    return np.array(predicts)"
   ]
  },
  {
   "cell_type": "code",
   "execution_count": 49,
   "metadata": {},
   "outputs": [],
   "source": [
    "from sklearn.naive_bayes import GaussianNB\n",
    "from sklearn.metrics import accuracy_score, recall_score, f1_score\n",
    "from sklearn.linear_model import SGDClassifier\n",
    "from sklearn.preprocessing import StandardScaler\n",
    "from sklearn.pipeline import make_pipeline\n",
    "\n",
    "\n",
    "# gnb = GaussianNB()\n",
    "\n",
    "def print_scores(y1, y2):\n",
    "    print(\"accuracy : \", accuracy_score(y1, y2))\n",
    "    print(\"recall   : \", recall_score(y1, y2, average='weighted'))\n",
    "    print(\"f1       : \", f1_score(y1, y2, average='weighted'))"
   ]
  },
  {
   "cell_type": "code",
   "execution_count": 45,
   "metadata": {},
   "outputs": [],
   "source": [
    "# y_pred = my_evaluate(X_test, y_test, prior, likelihood_year, likelihood_venue)\n",
    "# prior, likelihood_year, likelihood_venue = train(X_train, y_train)\n",
    "\n",
    "prior, likelihood_year, likelihood_venue = train(X, y)"
   ]
  },
  {
   "cell_type": "code",
   "execution_count": 50,
   "metadata": {},
   "outputs": [
    {
     "name": "stderr",
     "output_type": "stream",
     "text": [
      "100%|██████████| 1788/1788 [00:24<00:00, 73.17it/s]\n"
     ]
    },
    {
     "name": "stdout",
     "output_type": "stream",
     "text": [
      "accuracy :  0.10514541387024609\n",
      "recall   :  0.10514541387024609\n",
      "f1       :  0.11757201740118793\n"
     ]
    }
   ],
   "source": [
    "y_pred_prob_matrix = my_evaluate(X_test, prior, likelihood_year, likelihood_venue)\n",
    "\n",
    "y_pred = []\n",
    "for instance in y_pred_prob_matrix:\n",
    "    instance = list(instance)\n",
    "    y_pred.append(instance.index(max(instance)))\n",
    "print_scores(y_test, y_pred)"
   ]
  },
  {
   "cell_type": "code",
   "execution_count": 51,
   "metadata": {},
   "outputs": [
    {
     "name": "stderr",
     "output_type": "stream",
     "text": [
      "100%|██████████| 7150/7150 [01:37<00:00, 73.68it/s]\n"
     ]
    },
    {
     "name": "stdout",
     "output_type": "stream",
     "text": [
      "accuracy :  0.10741258741258741\n",
      "recall   :  0.10741258741258741\n",
      "f1       :  0.11214356122216847\n"
     ]
    }
   ],
   "source": [
    "y_pred_prob_matrix = my_evaluate(X_train, prior, likelihood_year, likelihood_venue)\n",
    "\n",
    "y_pred = []\n",
    "for instance in y_pred_prob_matrix:\n",
    "    instance = list(instance)\n",
    "    y_pred.append(instance.index(max(instance)))\n",
    "    \n",
    "print_scores(y_train, y_pred)"
   ]
  },
  {
   "cell_type": "code",
   "execution_count": 62,
   "metadata": {},
   "outputs": [
    {
     "name": "stderr",
     "output_type": "stream",
     "text": [
      "delet some useless data: 100%|██████████| 25793/25793 [00:00<00:00, 1022955.51it/s]\n"
     ]
    },
    {
     "name": "stdout",
     "output_type": "stream",
     "text": [
      "Number of instance with label :  7460\n",
      "Number of instance without label(remain) :  1894\n"
     ]
    },
    {
     "name": "stderr",
     "output_type": "stream",
     "text": [
      "venue: 100%|██████████| 25793/25793 [00:04<00:00, 5983.68it/s]\n",
      "year: 100%|██████████| 25793/25793 [00:04<00:00, 5798.58it/s]\n",
      "authors: 100%|██████████| 25793/25793 [00:04<00:00, 5587.35it/s]\n"
     ]
    }
   ],
   "source": [
    "from preprocessing import for_train\n",
    "\n",
    "X, y = for_train('year_venue', p=0.20250, embedding=False)"
   ]
  },
  {
   "cell_type": "code",
   "execution_count": 72,
   "metadata": {},
   "outputs": [],
   "source": [
    "y_test_1 = []\n",
    "for instance in y:\n",
    "    au = \"\"\n",
    "    for j in range(100):\n",
    "        if instance[j] > 0:\n",
    "            au += str(j) + ' '\n",
    "    if au:\n",
    "        y_test_1.append(au[:-1])\n",
    "    else:\n",
    "        y_test_1.append('-1')"
   ]
  },
  {
   "cell_type": "code",
   "execution_count": 103,
   "metadata": {},
   "outputs": [
    {
     "name": "stderr",
     "output_type": "stream",
     "text": [
      "100%|██████████| 9354/9354 [02:29<00:00, 62.67it/s]\n"
     ]
    }
   ],
   "source": [
    "y_pred_1 = []\n",
    "MY_THRESHOLD = 0.01\n",
    "max_ = 0\n",
    "for idx in tqdm(range(len(X))):\n",
    "    instance = X[idx]\n",
    "    au = \"\"\n",
    "    probs = []\n",
    "    for label in range(100):\n",
    "        \n",
    "        prior_prob = prior[label]\n",
    "\n",
    "        mu = likelihood_year[label][0]\n",
    "        sigma = likelihood_year[label][1]\n",
    "        \n",
    "        likelihood_prob_year = st.norm.pdf(instance[0].item(), mu, sigma)\n",
    "\n",
    "        likelihood_prob_venue = likelihood_venue[instance[1].item()][label]\n",
    "\n",
    "        # print(likelihood_prob_venue, likelihood_prob_year)\n",
    "        p = prior_prob * (likelihood_prob_year + likelihood_prob_venue)\n",
    "        if p > max_:\n",
    "            max_ = p\n",
    "        probs.append(p)\n",
    "\n",
    "    for i in range(100):\n",
    "        if probs[i] >= MY_THRESHOLD:\n",
    "            au += str(i) + ' '\n",
    "    \n",
    "    if au:\n",
    "        y_pred_1.append(au[:-1])\n",
    "    else:\n",
    "        y_pred_1.append('-1')\n",
    "    "
   ]
  },
  {
   "cell_type": "code",
   "execution_count": 105,
   "metadata": {},
   "outputs": [
    {
     "data": {
      "text/plain": [
       "0.0032450491095911142"
      ]
     },
     "execution_count": 105,
     "metadata": {},
     "output_type": "execute_result"
    }
   ],
   "source": [
    "max_"
   ]
  },
  {
   "cell_type": "code",
   "execution_count": null,
   "metadata": {},
   "outputs": [],
   "source": []
  },
  {
   "cell_type": "code",
   "execution_count": null,
   "metadata": {},
   "outputs": [],
   "source": []
  },
  {
   "cell_type": "markdown",
   "metadata": {},
   "source": [
    "### Kaggle Predictions"
   ]
  },
  {
   "cell_type": "code",
   "execution_count": 52,
   "metadata": {},
   "outputs": [],
   "source": [
    "f_test = open(\"../../data/test.json\", 'r')\n",
    "test_data = json.load(f_test)"
   ]
  },
  {
   "cell_type": "code",
   "execution_count": 53,
   "metadata": {},
   "outputs": [
    {
     "name": "stderr",
     "output_type": "stream",
     "text": [
      "100%|██████████| 800/800 [00:00<00:00, 320788.07it/s]\n"
     ]
    }
   ],
   "source": [
    "n_samples = len(test_data)\n",
    "matrix = []\n",
    "\n",
    "for i in tqdm(range(n_samples)):\n",
    "\n",
    "    venue = test_data[i]['venue']\n",
    "    year = test_data[i]['year']\n",
    "    \n",
    "    if not venue:\n",
    "        venue = 465\n",
    "    tmp = [year, venue]\n",
    "    \n",
    "    matrix.append(tmp)"
   ]
  },
  {
   "cell_type": "code",
   "execution_count": 54,
   "metadata": {},
   "outputs": [
    {
     "name": "stderr",
     "output_type": "stream",
     "text": [
      "100%|██████████| 800/800 [00:10<00:00, 74.69it/s]\n"
     ]
    }
   ],
   "source": [
    "predict_dict = {}\n",
    "for i in tqdm(range(800)):\n",
    "    tmp = {}\n",
    "    pred_ = my_predict(matrix[i], prior, likelihood_year, likelihood_venue)\n",
    "\n",
    "    for j in range(100):\n",
    "        tmp[j] = pred_[j]\n",
    "\n",
    "    predict_dict[i] = tmp"
   ]
  },
  {
   "cell_type": "code",
   "execution_count": 55,
   "metadata": {},
   "outputs": [],
   "source": [
    "with open('outputs/year_venue_naive_bayes.json', 'w') as fp:\n",
    "    json.dump(predict_dict, fp)"
   ]
  },
  {
   "cell_type": "code",
   "execution_count": 61,
   "metadata": {},
   "outputs": [],
   "source": [
    "# predict_dict[0]"
   ]
  },
  {
   "cell_type": "code",
   "execution_count": null,
   "metadata": {},
   "outputs": [],
   "source": []
  }
 ],
 "metadata": {
  "kernelspec": {
   "display_name": "Python 3.10.4 64-bit",
   "language": "python",
   "name": "python3"
  },
  "language_info": {
   "codemirror_mode": {
    "name": "ipython",
    "version": 3
   },
   "file_extension": ".py",
   "mimetype": "text/x-python",
   "name": "python",
   "nbconvert_exporter": "python",
   "pygments_lexer": "ipython3",
   "version": "3.10.4"
  },
  "orig_nbformat": 4,
  "vscode": {
   "interpreter": {
    "hash": "aee8b7b246df8f9039afb4144a1f6fd8d2ca17a180786b69acc140d282b71a49"
   }
  }
 },
 "nbformat": 4,
 "nbformat_minor": 2
}
