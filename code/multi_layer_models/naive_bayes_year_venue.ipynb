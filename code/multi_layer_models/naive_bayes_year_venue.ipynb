{
 "cells": [
  {
   "cell_type": "code",
   "execution_count": 1,
   "metadata": {},
   "outputs": [],
   "source": [
    "import json\n",
    "import numpy as np\n",
    "import pandas as pd\n",
    "from tqdm import tqdm"
   ]
  },
  {
   "cell_type": "code",
   "execution_count": 2,
   "metadata": {},
   "outputs": [],
   "source": [
    "f_train = open(\"../../data/train.json\", 'r')\n",
    "train_data = json.load(f_train)"
   ]
  },
  {
   "cell_type": "code",
   "execution_count": 84,
   "metadata": {},
   "outputs": [],
   "source": [
    "def get_year_venue_matrix(data):\n",
    "    n_samples = len(data)\n",
    "\n",
    "    # vmatrix = np.zeros([n_samples, 466])\n",
    "    matrix = []\n",
    "\n",
    "    y = []\n",
    "\n",
    "    for i in tqdm(range(n_samples), desc=\"venue\"):\n",
    "        \n",
    "        for au in data[i]['authors']:\n",
    "            if au < 100:\n",
    "\n",
    "                venue = data[i]['venue']\n",
    "                year = data[i]['year']\n",
    "                y.append(au)\n",
    "                \n",
    "                ### Embedding\n",
    "                # tmp = [0 for _ in range(486)]\n",
    "                # if venue:\n",
    "                #     tmp[venue] += 1\n",
    "                # else:\n",
    "                #     tmp[465] += 1\n",
    "                # year += 466\n",
    "                # tmp[year] += 1\n",
    "\n",
    "                ## \n",
    "                if not venue:\n",
    "                    venue = -1\n",
    "                tmp = [year, venue]\n",
    "                \n",
    "                matrix.append(tmp)\n",
    "\n",
    "    return np.array(matrix), np.array(y)"
   ]
  },
  {
   "cell_type": "code",
   "execution_count": 85,
   "metadata": {},
   "outputs": [
    {
     "name": "stderr",
     "output_type": "stream",
     "text": [
      "venue: 100%|██████████| 25793/25793 [00:01<00:00, 22018.82it/s]\n"
     ]
    },
    {
     "name": "stdout",
     "output_type": "stream",
     "text": [
      "(8938, 2)\n"
     ]
    }
   ],
   "source": [
    "from sklearn.model_selection import train_test_split\n",
    "\n",
    "X, y = get_year_venue_matrix(train_data)\n",
    "\n",
    "X_train, X_test, y_train, y_test = train_test_split(X, y, test_size=0.2, random_state=20)\n",
    "\n",
    "print(X.shape)"
   ]
  },
  {
   "cell_type": "code",
   "execution_count": 65,
   "metadata": {},
   "outputs": [
    {
     "name": "stdout",
     "output_type": "stream",
     "text": [
      "accuracy :  0.053131991051454136\n",
      "recall   :  0.053131991051454136\n",
      "f1       :  0.04576998656156419\n"
     ]
    }
   ],
   "source": [
    "from sklearn.naive_bayes import GaussianNB\n",
    "from sklearn.metrics import accuracy_score, recall_score, f1_score\n",
    "from sklearn.linear_model import SGDClassifier\n",
    "from sklearn.preprocessing import StandardScaler\n",
    "from sklearn.pipeline import make_pipeline\n",
    "\n",
    "\n",
    "# gnb = GaussianNB()\n",
    "clf = make_pipeline(StandardScaler(), SGDClassifier(max_iter=1000, tol=1e-3))\n",
    "y_pred = clf.fit(X_train, y_train).predict(X_test)\n",
    "\n",
    "print(\"accuracy : \", accuracy_score(y_test, y_pred))\n",
    "print(\"recall   : \", recall_score(y_test, y_pred, average='weighted'))\n",
    "print(\"f1       : \", f1_score(y_test, y_pred, average='weighted'))"
   ]
  },
  {
   "cell_type": "code",
   "execution_count": null,
   "metadata": {},
   "outputs": [],
   "source": []
  },
  {
   "cell_type": "code",
   "execution_count": 86,
   "metadata": {},
   "outputs": [],
   "source": [
    "from collections import Counter\n",
    "\n",
    "def train(X, y):\n",
    "    prior = {}                               # prior probabilities of each pose\n",
    "    counts = Counter(y)\n",
    "    n_features = len(X[0])\n",
    "    total = len(y)\n",
    "    for label in counts.keys():\n",
    "        if label not in prior:\n",
    "            prior[label] = counts[label] / total\n",
    "    \n",
    "    likelihood = {}                         # likelihood probabilities of each pose\n",
    "    for label in set(y):\n",
    "        if not label in likelihood:\n",
    "            likelihood[label] = []\n",
    "\n",
    "        data = []\n",
    "\n",
    "        for j in range(n_features):\n",
    "\n",
    "            column = []\n",
    "        \n",
    "            for i in range(total):\n",
    "                if label == y[i]:\n",
    "                    column.append(X[i][j])              # and add the elements to a list in order to get parameters of gaussian\n",
    "            \n",
    "            data.append(column)\n",
    "            \n",
    "        for i in range(len(data)):\n",
    "            likelihood[label].append(gaussian_params(data[i]))\n",
    "        \n",
    "    return prior, likelihood \n",
    "\n",
    "def gaussian_params(array):                 # param with array, return the mean and sigma of gaussian distribution\n",
    "    mean = np.mean(array)\n",
    "    sigma = np.std(array)\n",
    "    return [mean, sigma]"
   ]
  },
  {
   "cell_type": "code",
   "execution_count": 87,
   "metadata": {},
   "outputs": [],
   "source": [
    "prior, likelihood = train(X_train, y_train)"
   ]
  },
  {
   "cell_type": "code",
   "execution_count": 100,
   "metadata": {},
   "outputs": [],
   "source": [
    "import scipy.stats as st\n",
    "\n",
    "def my_predict(data, y, prior, likelihood):               # predict the class by adding the missing score \n",
    "    \n",
    "    result = []\n",
    "\n",
    "    for label in set(y):\n",
    "        \n",
    "        prior_prob = prior[label] * 0.1\n",
    "\n",
    "        sum_ = 0\n",
    "        \n",
    "        for i in range(len(data)):    \n",
    "\n",
    "            mu = likelihood[label][i][0]\n",
    "            sigma = likelihood[label][i][1]\n",
    "\n",
    "            if mu == 0 and sigma == 0 :\n",
    "                likelihood_prob = 0\n",
    "            \n",
    "            else:      \n",
    "                likelihood_prob = st.norm.pdf(data[i], mu, sigma)\n",
    "            \n",
    "            sum_ += likelihood_prob     # use np.log() function with likelihood probabilities\n",
    "                \n",
    "        result.append(prior_prob + sum_)\n",
    "\n",
    "    return result"
   ]
  },
  {
   "cell_type": "code",
   "execution_count": 89,
   "metadata": {},
   "outputs": [],
   "source": [
    "def my_evaluate(X, y, prior, likelihood):                # evaluate the accuracy with the effect by missing values  \n",
    "    \n",
    "    predicts = []\n",
    "        \n",
    "    for i in tqdm(range(len(X))):                       # the list of predicted pose for each instance\n",
    "        predicts.append(my_predict(X[i], y, prior, likelihood))\n",
    "    \n",
    "    return np.array(predicts)"
   ]
  },
  {
   "cell_type": "code",
   "execution_count": 90,
   "metadata": {},
   "outputs": [
    {
     "name": "stderr",
     "output_type": "stream",
     "text": [
      "100%|██████████| 1788/1788 [00:51<00:00, 34.83it/s]\n"
     ]
    }
   ],
   "source": [
    "predicts = my_evaluate(X_test, y_test, prior, likelihood)"
   ]
  },
  {
   "cell_type": "code",
   "execution_count": 101,
   "metadata": {},
   "outputs": [
    {
     "data": {
      "text/plain": [
       "40"
      ]
     },
     "execution_count": 101,
     "metadata": {},
     "output_type": "execute_result"
    }
   ],
   "source": [
    "l = my_predict(X_test[0], y, prior, likelihood)\n",
    "l.index(max(l))"
   ]
  },
  {
   "cell_type": "code",
   "execution_count": 103,
   "metadata": {},
   "outputs": [
    {
     "data": {
      "text/plain": [
       "[0.03019577802192385,\n",
       " 0.0072389740535143,\n",
       " 0.031925904769104556,\n",
       " 0.0018620134601592202,\n",
       " 0.04058531475856653,\n",
       " 0.03609510321061575,\n",
       " 0.018577355840466853,\n",
       " 0.013752285635829368,\n",
       " 0.016275935620782778,\n",
       " 0.00812956432683716,\n",
       " 0.008507850548292029,\n",
       " 0.019146915872570804,\n",
       " 0.007431815668093956,\n",
       " 0.005733969000292837,\n",
       " 0.011050404910773842,\n",
       " 0.04724343939907517,\n",
       " 0.02230581595676122,\n",
       " 0.033162062811790585,\n",
       " 0.00497744093926355,\n",
       " 0.010358674372418684,\n",
       " 0.002580196141381412,\n",
       " 0.010998298929233574,\n",
       " 0.01990299389385374,\n",
       " 0.00591997933062686,\n",
       " 0.0293841656556474,\n",
       " 0.0372772307223642,\n",
       " 0.021740449360902678,\n",
       " 0.04208065626374888,\n",
       " 0.03075215770543327,\n",
       " 0.004400089167551947,\n",
       " 0.014030946484343481,\n",
       " 0.0092037447093423,\n",
       " 0.014470719441639248,\n",
       " 0.032423668154348564,\n",
       " 0.016887888151446803,\n",
       " 0.020813110617435994,\n",
       " 0.0018735990868219941,\n",
       " 0.00519461866298445,\n",
       " 0.00600540421331284,\n",
       " 0.014271979350571017,\n",
       " 0.10289431523663482,\n",
       " 0.03288147284049067,\n",
       " 0.003281229679365902,\n",
       " 0.0011853296763104505,\n",
       " 0.0008971307980589415,\n",
       " 0.021861682030041865,\n",
       " 0.029773502249080867,\n",
       " 0.007359474751824155,\n",
       " 0.03562820119903676,\n",
       " 0.027920997763979525,\n",
       " 0.01566944633991296,\n",
       " 0.030272848503386574,\n",
       " 0.02918422710520707,\n",
       " 0.024753038055128376,\n",
       " 0.0016568821993907666,\n",
       " 0.03948139929549722,\n",
       " 0.03605180414844356,\n",
       " 0.016115428187673114,\n",
       " 0.024118621937110733,\n",
       " 0.010216485706424529,\n",
       " 0.0014298310056407382,\n",
       " 0.04426426939115067,\n",
       " 0.03262997324645393,\n",
       " 0.0044348117273297835,\n",
       " 0.033055831162162,\n",
       " 0.02818064290332544,\n",
       " 0.02859156591371442,\n",
       " 0.034781693335904966,\n",
       " 0.03180041246619796,\n",
       " 0.0064571622791474055,\n",
       " 0.03370253012458499,\n",
       " 0.00916836965175344,\n",
       " 0.021494416007279395,\n",
       " 0.029125353026137533,\n",
       " 0.01661313104251274,\n",
       " 0.036337328300294056,\n",
       " 0.016308263719789034,\n",
       " 0.003944347475243572,\n",
       " 0.04330323940620876,\n",
       " 0.0058621738623031265,\n",
       " 0.006621244535949209,\n",
       " 0.002761920179815143,\n",
       " 0.010391405499045686,\n",
       " 0.024973836180339222,\n",
       " 0.021468996201440087,\n",
       " 0.010349504504385933,\n",
       " 0.0039220067535508255,\n",
       " 0.04591400589512534,\n",
       " 0.0027763304826942934,\n",
       " 0.00785295415335298,\n",
       " 0.013988721898119384,\n",
       " 0.005652843021812316,\n",
       " 0.017152406324445667,\n",
       " 0.0006080112202871857,\n",
       " 0.01785674013630081,\n",
       " 0.006104574411132177,\n",
       " 0.008243777526947348,\n",
       " 0.00577260818077865,\n",
       " 0.009280419138866583,\n",
       " 0.076902562127841]"
      ]
     },
     "execution_count": 103,
     "metadata": {},
     "output_type": "execute_result"
    }
   ],
   "source": [
    "l"
   ]
  },
  {
   "cell_type": "code",
   "execution_count": null,
   "metadata": {},
   "outputs": [],
   "source": []
  }
 ],
 "metadata": {
  "kernelspec": {
   "display_name": "Python 3.10.4 64-bit",
   "language": "python",
   "name": "python3"
  },
  "language_info": {
   "codemirror_mode": {
    "name": "ipython",
    "version": 3
   },
   "file_extension": ".py",
   "mimetype": "text/x-python",
   "name": "python",
   "nbconvert_exporter": "python",
   "pygments_lexer": "ipython3",
   "version": "3.10.4"
  },
  "orig_nbformat": 4,
  "vscode": {
   "interpreter": {
    "hash": "aee8b7b246df8f9039afb4144a1f6fd8d2ca17a180786b69acc140d282b71a49"
   }
  }
 },
 "nbformat": 4,
 "nbformat_minor": 2
}
