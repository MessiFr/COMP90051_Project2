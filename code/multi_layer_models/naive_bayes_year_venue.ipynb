{
 "cells": [
  {
   "cell_type": "code",
   "execution_count": 9,
   "metadata": {},
   "outputs": [],
   "source": [
    "import json\n",
    "import numpy as np\n",
    "import pandas as pd\n",
    "from tqdm import tqdm"
   ]
  },
  {
   "cell_type": "code",
   "execution_count": 2,
   "metadata": {},
   "outputs": [],
   "source": [
    "f_train = open(\"../../data/train.json\", 'r')\n",
    "train_data = json.load(f_train)"
   ]
  },
  {
   "cell_type": "code",
   "execution_count": 62,
   "metadata": {},
   "outputs": [],
   "source": [
    "def get_year_venue_matrix(data):\n",
    "    n_samples = len(data)\n",
    "\n",
    "    # vmatrix = np.zeros([n_samples, 466])\n",
    "    matrix = []\n",
    "\n",
    "    y = []\n",
    "\n",
    "    for i in tqdm(range(n_samples), desc=\"venue\"):\n",
    "        \n",
    "        for au in data[i]['authors']:\n",
    "            if au < 100:\n",
    "\n",
    "                venue = data[i]['venue']\n",
    "                year = data[i]['year']\n",
    "                y.append(au)\n",
    "                \n",
    "                tmp = [0 for _ in range(486)]\n",
    "                if venue:\n",
    "                    tmp[venue] += 1\n",
    "                else:\n",
    "                    tmp[465] += 1\n",
    "                year += 466\n",
    "                tmp[year] += 1\n",
    "\n",
    "                # if not venue:\n",
    "                #     venue = -1\n",
    "                # tmp = [year, venue]\n",
    "                \n",
    "                matrix.append(tmp)\n",
    "\n",
    "    return np.array(matrix), np.array(y)"
   ]
  },
  {
   "cell_type": "code",
   "execution_count": 63,
   "metadata": {},
   "outputs": [
    {
     "name": "stderr",
     "output_type": "stream",
     "text": [
      "venue: 100%|██████████| 25793/25793 [00:00<00:00, 43242.53it/s]\n"
     ]
    }
   ],
   "source": [
    "from sklearn.model_selection import train_test_split\n",
    "\n",
    "X, y = get_year_venue_matrix(train_data)\n",
    "\n",
    "X_train, X_test, y_train, y_test = train_test_split(X, y, test_size=0.2, random_state=20)\n",
    "\n",
    "print(X.shape)"
   ]
  },
  {
   "cell_type": "code",
   "execution_count": 65,
   "metadata": {},
   "outputs": [
    {
     "name": "stdout",
     "output_type": "stream",
     "text": [
      "accuracy :  0.053131991051454136\n",
      "recall   :  0.053131991051454136\n",
      "f1       :  0.04576998656156419\n"
     ]
    }
   ],
   "source": [
    "from sklearn.naive_bayes import GaussianNB\n",
    "from sklearn.metrics import accuracy_score, recall_score, f1_score\n",
    "from sklearn.linear_model import SGDClassifier\n",
    "from sklearn.preprocessing import StandardScaler\n",
    "from sklearn.pipeline import make_pipeline\n",
    "\n",
    "\n",
    "# gnb = GaussianNB()\n",
    "clf = make_pipeline(StandardScaler(), SGDClassifier(max_iter=1000, tol=1e-3))\n",
    "y_pred = clf.fit(X_train, y_train).predict(X_test)\n",
    "\n",
    "print(\"accuracy : \", accuracy_score(y_test, y_pred))\n",
    "print(\"recall   : \", recall_score(y_test, y_pred, average='weighted'))\n",
    "print(\"f1       : \", f1_score(y_test, y_pred, average='weighted'))"
   ]
  },
  {
   "cell_type": "code",
   "execution_count": null,
   "metadata": {},
   "outputs": [],
   "source": []
  },
  {
   "cell_type": "code",
   "execution_count": null,
   "metadata": {},
   "outputs": [],
   "source": []
  },
  {
   "cell_type": "code",
   "execution_count": null,
   "metadata": {},
   "outputs": [],
   "source": []
  },
  {
   "cell_type": "code",
   "execution_count": null,
   "metadata": {},
   "outputs": [],
   "source": []
  },
  {
   "cell_type": "code",
   "execution_count": 58,
   "metadata": {},
   "outputs": [],
   "source": [
    "from collections import Counter\n",
    "\n",
    "def train(X, y):\n",
    "    prior = {}                               # prior probabilities of each pose\n",
    "    counts = Counter(y)\n",
    "    n_features = len(X[0])\n",
    "    total = len(y)\n",
    "    for label in counts.keys():\n",
    "        if label not in prior:\n",
    "            prior[label] = counts[label] / total\n",
    "    \n",
    "    likelihood = {}                         # likelihood probabilities of each pose\n",
    "    for laebl in set(y):\n",
    "        if not label in likelihood:\n",
    "            likelihood[label] = []\n",
    "\n",
    "        data = []\n",
    "\n",
    "        for j in range(n_features):\n",
    "\n",
    "            column = []\n",
    "        \n",
    "            for i in range(total):\n",
    "                if label == y[i]:\n",
    "                    column.append(X[i][j])              # and add the elements to a list in order to get parameters of gaussian\n",
    "            \n",
    "            data.append(column)\n",
    "            \n",
    "        for i in range(len(data)):\n",
    "            likelihood[label].append(gaussian_params(data[i]))\n",
    "        \n",
    "    return prior, likelihood \n",
    "\n",
    "def gaussian_params(array):                 # param with array, return the mean and sigma of gaussian distribution\n",
    "    mean = np.mean(array)\n",
    "    sigma = np.std(array)\n",
    "    return [mean, sigma]"
   ]
  },
  {
   "cell_type": "code",
   "execution_count": 59,
   "metadata": {},
   "outputs": [],
   "source": [
    "prior, likelihood = train(X_train, y_train)"
   ]
  },
  {
   "cell_type": "code",
   "execution_count": 47,
   "metadata": {},
   "outputs": [],
   "source": [
    "import scipy.stats as st\n",
    "from collections import Counter\n",
    "def get_mprob(X, y):           # get the prior probability and likelihood probabilities of each attributes with missing values\n",
    "    mprior = {}                # prior probabilities of missing value of each attribute\n",
    "    count = Counter(y)\n",
    "    attrs = len(X[0])\n",
    "    total = len(y)\n",
    "    alpha = 1                  # the coefficient that smooth the probability\n",
    "    \n",
    "    for name in count.keys():\n",
    "        if name not in mprior:\n",
    "            mprior[name] = count[name] / total\n",
    "    \n",
    "    mlikelihood = {}\n",
    "    for name in set(y):\n",
    "        if not name in mlikelihood:\n",
    "            mlikelihood[name] = []\n",
    "        data = []\n",
    "        for j in range(attrs):\n",
    "            missing = 0\n",
    "            for i in range(total):\n",
    "                if name == y[i] and X[i][j] == 9999:    \n",
    "                    missing += 1\n",
    "            \n",
    "            mlikelihood[name].append((missing+alpha)/(count[name]+alpha*attrs))   # laplace smoothing\n",
    "        \n",
    "    return [mprior, mlikelihood] \n",
    "    \n",
    "\n",
    "def get_mscore(data, pred_class, miss_probs):\n",
    "    mprior, mlikelihood = miss_probs\n",
    "    \n",
    "    sum = 0\n",
    "    for i in range(len(data)):\n",
    "        if data[i] == 9999:\n",
    "            sum += np.log(mlikelihood[pred_class][i])\n",
    "        else:\n",
    "            sum += np.log(1-mlikelihood[pred_class][i])\n",
    "        \n",
    "    score = np.log(mprior[pred_class]) + sum\n",
    "    return score\n",
    "\n",
    "    \n",
    "    \n",
    "def my_predict(data, y, miss_probs):               # predict the class by adding the missing score \n",
    "    result = {}\n",
    "    for pose in set(y):\n",
    "        if not pose in result:\n",
    "            result[pose] = 0\n",
    "        prior_prob = prior[pose]\n",
    "        sum = 0\n",
    "        for i in range(len(data)):\n",
    "            \n",
    "            if data[i] == 9999:                 \n",
    "                sum += 0                           # add 0 to the sum when meet 9999\n",
    "            else:\n",
    "                likelihood_prob = st.norm.pdf(data[i], likelihood[pose][i][0], likelihood[pose][i][1])\n",
    "                sum += np.log(likelihood_prob)     # use np.log() function with likelihood probabilities\n",
    "                \n",
    "        result[pose] = np.log(prior_prob) + sum\n",
    "        result[pose] += get_mscore(data, pose, miss_prob)     # add the missing score\n",
    "    \n",
    "    pred_class = 0\n",
    "    value = -999999\n",
    "    for i in result.keys():        # find out the class with highest score, and that's the predicted class\n",
    "        if result[i] > value:\n",
    "            value = result[i]\n",
    "            pred_class = i\n",
    "    \n",
    "    \n",
    "    \n",
    "    return pred_class\n",
    "\n",
    "\n",
    "def my_evaluate(X, y, miss_prob):                # evaluate the accuracy with the effect by missing values  \n",
    "    \n",
    "    total = len(y)\n",
    "    correct = 0\n",
    "    predict_dict = {}\n",
    "    pred_pose = []\n",
    "    \n",
    "    \n",
    "    for i in range(len(y)):                       # the list of predicted pose for each instance\n",
    "        pred_pose.append(my_predict(X[i], y, miss_prob))\n",
    "    \n",
    "    for pose in set(y):\n",
    "        predict_dict[pose] = [0, 0, 0, 0]         # truth table, with the order of [tp,fn,fp,tn]\n",
    "        \n",
    "        for i in range(len(y)):\n",
    "            pred_class = pred_pose[i]\n",
    "            if y[i] == pose:                      # collect the data and fill the table\n",
    "                if pred_class == pose:\n",
    "                    predict_dict[pose][0] += 1\n",
    "                else:\n",
    "                    predict_dict[pose][1] += 1\n",
    "            else:\n",
    "                if pred_class == pose:\n",
    "                    predict_dict[pose][2] += 1\n",
    "                else:\n",
    "                    predict_dict[pose][3] += 1\n",
    "        correct += predict_dict[pose][0]\n",
    "    \n",
    "    accuracy = correct/total                      # accuracy = tp / (tp+fn+fp+tn)\n",
    "    return accuracy, predict_dict                 # return accuracy and the table"
   ]
  },
  {
   "cell_type": "code",
   "execution_count": null,
   "metadata": {},
   "outputs": [],
   "source": []
  }
 ],
 "metadata": {
  "kernelspec": {
   "display_name": "Python 3.10.4 64-bit",
   "language": "python",
   "name": "python3"
  },
  "language_info": {
   "codemirror_mode": {
    "name": "ipython",
    "version": 3
   },
   "file_extension": ".py",
   "mimetype": "text/x-python",
   "name": "python",
   "nbconvert_exporter": "python",
   "pygments_lexer": "ipython3",
   "version": "3.10.4"
  },
  "orig_nbformat": 4,
  "vscode": {
   "interpreter": {
    "hash": "aee8b7b246df8f9039afb4144a1f6fd8d2ca17a180786b69acc140d282b71a49"
   }
  }
 },
 "nbformat": 4,
 "nbformat_minor": 2
}
