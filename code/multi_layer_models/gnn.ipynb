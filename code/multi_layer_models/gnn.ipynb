{
 "cells": [
  {
   "cell_type": "code",
   "execution_count": 1,
   "metadata": {},
   "outputs": [
    {
     "name": "stderr",
     "output_type": "stream",
     "text": [
      "/Library/Frameworks/Python.framework/Versions/3.10/lib/python3.10/site-packages/tqdm/auto.py:22: TqdmWarning: IProgress not found. Please update jupyter and ipywidgets. See https://ipywidgets.readthedocs.io/en/stable/user_install.html\n",
      "  from .autonotebook import tqdm as notebook_tqdm\n"
     ]
    }
   ],
   "source": [
    "import torch\n",
    "import networkx as nx\n",
    "import matplotlib.pyplot as plt\n",
    "from tqdm import tqdm\n",
    "from sklearn.metrics import accuracy_score, recall_score, f1_score\n",
    "from NN_Models import *\n",
    "import json\n",
    "import numpy as np\n",
    "\n",
    "\n",
    "def print_scores(y_test, y_pred):\n",
    "    print('='*25 + 'Evaluation results' + '='*25)\n",
    "    print('The accuracy score of prediction is : {}'.format(accuracy_score(y_test, y_pred)))\n",
    "    print('The recall   score of prediction is : {}'.format(recall_score(y_test, y_pred, average='weighted')))\n",
    "    print('The f1       score of prediction is : {}'.format(f1_score(y_test, y_pred, average='weighted')))\n"
   ]
  },
  {
   "cell_type": "code",
   "execution_count": 2,
   "metadata": {},
   "outputs": [],
   "source": [
    "X_train = torch.load('data/X_author_train.pt')\n",
    "y_train = torch.load('data/y_train.pt')\n",
    "\n",
    "# X_train = torch.load('data/X_author_all.pt')\n",
    "# y_train = torch.load('data/y_all.pt')\n",
    "\n",
    "X_test = torch.load('data/X_author_test.pt')\n",
    "y_test = torch.load('data/y_test.pt')"
   ]
  },
  {
   "cell_type": "code",
   "execution_count": 3,
   "metadata": {},
   "outputs": [
    {
     "data": {
      "text/plain": [
       "torch.Size([6268, 21146])"
      ]
     },
     "execution_count": 3,
     "metadata": {},
     "output_type": "execute_result"
    }
   ],
   "source": [
    "X_train.shape"
   ]
  },
  {
   "cell_type": "code",
   "execution_count": 4,
   "metadata": {},
   "outputs": [
    {
     "data": {
      "text/plain": [
       "torch.Size([3086, 21146])"
      ]
     },
     "execution_count": 4,
     "metadata": {},
     "output_type": "execute_result"
    }
   ],
   "source": [
    "X_test.shape"
   ]
  },
  {
   "cell_type": "code",
   "execution_count": 5,
   "metadata": {},
   "outputs": [],
   "source": [
    "X = torch.concat((X_train, X_test), axis=0)\n",
    "y = torch.concat((y_train, y_test), axis=0)"
   ]
  },
  {
   "cell_type": "code",
   "execution_count": 6,
   "metadata": {},
   "outputs": [],
   "source": [
    "# from itertools import combinations\n",
    "\n",
    "# edges = []\n",
    "\n",
    "# for au in tqdm(range(y.shape[1])):\n",
    "#     col = []\n",
    "#     for i in range(y.shape[0]):\n",
    "#         if y[i, au] == 1:\n",
    "#             col.append(i)\n",
    "    \n",
    "#     for i, j in combinations(col, 2):\n",
    "#         if [i, j] not in edges:\n",
    "#             edges.append([i, j])\n",
    "            \n",
    "# edges = torch.tensor(np.array(edges).T)\n",
    "# print(edges.shape)"
   ]
  },
  {
   "cell_type": "code",
   "execution_count": 7,
   "metadata": {},
   "outputs": [
    {
     "data": {
      "text/plain": [
       "tensor([[  28,   28,   28,  ..., 9260, 9260, 9295],\n",
       "        [  58,   79,  158,  ..., 9295, 9352, 9352]])"
      ]
     },
     "execution_count": 7,
     "metadata": {},
     "output_type": "execute_result"
    }
   ],
   "source": [
    "# torch.save(edges, 'data/edges.pt')\n",
    "\n",
    "edges = torch.load('data/edges.pt')\n",
    "edges"
   ]
  },
  {
   "cell_type": "code",
   "execution_count": 8,
   "metadata": {},
   "outputs": [],
   "source": [
    "# torch.save(edges, 'data/edges.pt')"
   ]
  },
  {
   "cell_type": "code",
   "execution_count": 9,
   "metadata": {},
   "outputs": [],
   "source": [
    "# import torch_geometric\n",
    "# from torch_geometric.utils import to_networkx\n",
    "\n",
    "# dataset = torch_geometric.datasets.KarateClub()\n",
    "# data = dataset.data"
   ]
  },
  {
   "cell_type": "code",
   "execution_count": 10,
   "metadata": {},
   "outputs": [],
   "source": [
    "mask = []\n",
    "for i in range(X.shape[0]):\n",
    "    if i >= 6268:\n",
    "        mask.append(False)\n",
    "    else:\n",
    "        mask.append(True)\n",
    "mask = torch.tensor(mask)"
   ]
  },
  {
   "cell_type": "code",
   "execution_count": 11,
   "metadata": {},
   "outputs": [
    {
     "data": {
      "text/plain": [
       "tensor([ True,  True,  True,  ..., False, False, False])"
      ]
     },
     "execution_count": 11,
     "metadata": {},
     "output_type": "execute_result"
    }
   ],
   "source": [
    "mask"
   ]
  },
  {
   "cell_type": "code",
   "execution_count": 12,
   "metadata": {},
   "outputs": [],
   "source": [
    "model = GraphNeuralNetwork()\n",
    "model.fit(X, edges, y, mask)"
   ]
  },
  {
   "cell_type": "code",
   "execution_count": 13,
   "metadata": {},
   "outputs": [
    {
     "name": "stderr",
     "output_type": "stream",
     "text": [
      "100%|██████████| 10/10 [03:54<00:00, 23.43s/it]\n"
     ]
    }
   ],
   "source": [
    "model.train(epochs=10)"
   ]
  },
  {
   "cell_type": "code",
   "execution_count": 25,
   "metadata": {},
   "outputs": [],
   "source": [
    "# logits = model.model(X_test, edges)\n",
    "# edges.shape\n",
    "\n",
    "logits = model.model(X, edges)[0][~mask]"
   ]
  },
  {
   "cell_type": "code",
   "execution_count": 15,
   "metadata": {},
   "outputs": [
    {
     "data": {
      "text/plain": [
       "torch.Size([3086, 100])"
      ]
     },
     "execution_count": 15,
     "metadata": {},
     "output_type": "execute_result"
    }
   ],
   "source": [
    "logits.shape"
   ]
  },
  {
   "cell_type": "code",
   "execution_count": 16,
   "metadata": {},
   "outputs": [],
   "source": [
    "def get_author(matrix, threshold):\n",
    "    result = []\n",
    "    for i in tqdm(range(matrix.shape[0])):\n",
    "        au = \"\"\n",
    "        for j in range(100):\n",
    "            if matrix[i, j] >= threshold:\n",
    "                au += str(j) + \" \"\n",
    "        if au:\n",
    "            result.append(au[:-1])\n",
    "        else:\n",
    "            result.append(\"-1\")\n",
    "    return result"
   ]
  },
  {
   "cell_type": "code",
   "execution_count": 17,
   "metadata": {},
   "outputs": [
    {
     "name": "stderr",
     "output_type": "stream",
     "text": [
      "100%|██████████| 3086/3086 [00:02<00:00, 1109.74it/s]\n"
     ]
    }
   ],
   "source": [
    "test_list = get_author(y_test, threshold=1)"
   ]
  },
  {
   "cell_type": "code",
   "execution_count": 18,
   "metadata": {},
   "outputs": [
    {
     "name": "stderr",
     "output_type": "stream",
     "text": [
      "100%|██████████| 3086/3086 [00:03<00:00, 870.27it/s]\n"
     ]
    }
   ],
   "source": [
    "threshold = 7\n",
    "pred_list = get_author(logits, threshold=threshold)"
   ]
  },
  {
   "cell_type": "code",
   "execution_count": 19,
   "metadata": {},
   "outputs": [
    {
     "name": "stdout",
     "output_type": "stream",
     "text": [
      "=========================Evaluation results=========================\n",
      "The accuracy score of prediction is : 0.1966947504860661\n",
      "The recall   score of prediction is : 0.1966947504860661\n",
      "The f1       score of prediction is : 0.06465947118605044\n"
     ]
    }
   ],
   "source": [
    "print_scores(test_list, pred_list)"
   ]
  },
  {
   "cell_type": "code",
   "execution_count": 94,
   "metadata": {},
   "outputs": [
    {
     "name": "stdout",
     "output_type": "stream",
     "text": [
      "36 42\n",
      "36 42\n"
     ]
    }
   ],
   "source": [
    "n = 0\n",
    "\n",
    "print(train_list[n])\n",
    "print(pred_list[n])"
   ]
  },
  {
   "cell_type": "code",
   "execution_count": 97,
   "metadata": {},
   "outputs": [
    {
     "data": {
      "text/plain": [
       "tensor(7.2446, grad_fn=<SelectBackward0>)"
      ]
     },
     "execution_count": 97,
     "metadata": {},
     "output_type": "execute_result"
    }
   ],
   "source": [
    "logits[0][0][42]"
   ]
  },
  {
   "cell_type": "code",
   "execution_count": 93,
   "metadata": {},
   "outputs": [
    {
     "name": "stdout",
     "output_type": "stream",
     "text": [
      "tensor(8.9808, grad_fn=<SelectBackward0>) --- 83\n",
      "tensor(6.5715, grad_fn=<SelectBackward0>) --- 99\n"
     ]
    }
   ],
   "source": []
  },
  {
   "cell_type": "code",
   "execution_count": null,
   "metadata": {},
   "outputs": [],
   "source": []
  }
 ],
 "metadata": {
  "kernelspec": {
   "display_name": "Python 3.10.4 64-bit",
   "language": "python",
   "name": "python3"
  },
  "language_info": {
   "codemirror_mode": {
    "name": "ipython",
    "version": 3
   },
   "file_extension": ".py",
   "mimetype": "text/x-python",
   "name": "python",
   "nbconvert_exporter": "python",
   "pygments_lexer": "ipython3",
   "version": "3.10.4"
  },
  "orig_nbformat": 4,
  "vscode": {
   "interpreter": {
    "hash": "aee8b7b246df8f9039afb4144a1f6fd8d2ca17a180786b69acc140d282b71a49"
   }
  }
 },
 "nbformat": 4,
 "nbformat_minor": 2
}
