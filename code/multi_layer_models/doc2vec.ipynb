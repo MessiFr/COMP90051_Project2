{
 "cells": [
  {
   "cell_type": "code",
   "execution_count": 1,
   "metadata": {},
   "outputs": [],
   "source": [
    "from gensim.models.doc2vec import Doc2Vec, TaggedDocument\n",
    "# from gensim.test.utils import common_texts\n",
    "# from gensim.models.doc2vec import Doc2Vec, TaggedDocument\n",
    "from nltk.tokenize import word_tokenize\n",
    "from gensim.parsing.preprocessing import preprocess_string\n",
    "import nltk\n",
    "import json\n",
    "import numpy as np\n",
    "import gensim\n",
    "from tqdm import tqdm\n",
    "import pandas as pd\n",
    "from sklearn import utils"
   ]
  },
  {
   "cell_type": "code",
   "execution_count": 2,
   "metadata": {},
   "outputs": [],
   "source": [
    "f = open('../../data/train.json', 'rb')\n",
    "train_data = json.load(f)\n",
    "\n",
    "f = open('../../data/test.json', 'rb')\n",
    "test_data = json.load(f)"
   ]
  },
  {
   "cell_type": "code",
   "execution_count": 3,
   "metadata": {},
   "outputs": [],
   "source": [
    "train_sentence = []\n",
    "train_label = []\n",
    "\n",
    "test_sentence = []\n",
    "\n",
    "for instance in train_data:\n",
    "    sentence = []\n",
    "    for i in instance['abstract']:\n",
    "        sentence.append(str(i))\n",
    "    for j in instance['title']:\n",
    "        sentence.append(str(j))\n",
    "    train_sentence.append(sentence)\n",
    "\n",
    "    prolific_authors = [0 for _ in range(100)]\n",
    "    for i in instance['authors']:\n",
    "        if i < 100:\n",
    "            prolific_authors[i] = 1\n",
    "    train_label.append(prolific_authors)\n",
    "    \n",
    "\n",
    "for instance in test_data:\n",
    "    sentence = []\n",
    "    for i in instance['abstract']:\n",
    "        sentence.append(str(i))\n",
    "    for j in instance['title']:\n",
    "        sentence.append(str(j))\n",
    "    test_sentence.append(sentence)"
   ]
  },
  {
   "cell_type": "code",
   "execution_count": 4,
   "metadata": {},
   "outputs": [],
   "source": [
    "train_df_all = pd.DataFrame({'text': train_sentence, 'label': train_label})"
   ]
  },
  {
   "cell_type": "code",
   "execution_count": 5,
   "metadata": {},
   "outputs": [
    {
     "data": {
      "text/html": [
       "<div>\n",
       "<style scoped>\n",
       "    .dataframe tbody tr th:only-of-type {\n",
       "        vertical-align: middle;\n",
       "    }\n",
       "\n",
       "    .dataframe tbody tr th {\n",
       "        vertical-align: top;\n",
       "    }\n",
       "\n",
       "    .dataframe thead th {\n",
       "        text-align: right;\n",
       "    }\n",
       "</style>\n",
       "<table border=\"1\" class=\"dataframe\">\n",
       "  <thead>\n",
       "    <tr style=\"text-align: right;\">\n",
       "      <th></th>\n",
       "      <th>text</th>\n",
       "      <th>label</th>\n",
       "    </tr>\n",
       "  </thead>\n",
       "  <tbody>\n",
       "    <tr>\n",
       "      <th>0</th>\n",
       "      <td>[2455, 1858, 2335, 1543, 1800, 1860, 2000, 286...</td>\n",
       "      <td>[0, 0, 0, 0, 0, 0, 0, 0, 0, 0, 0, 0, 0, 0, 0, ...</td>\n",
       "    </tr>\n",
       "    <tr>\n",
       "      <th>1</th>\n",
       "      <td>[40, 1542, 1691, 2449, 1535, 3616, 2206, 1904,...</td>\n",
       "      <td>[0, 0, 0, 0, 0, 0, 0, 0, 0, 0, 0, 0, 0, 0, 0, ...</td>\n",
       "    </tr>\n",
       "    <tr>\n",
       "      <th>2</th>\n",
       "      <td>[40, 1542, 1691, 2449, 1535, 2610, 1543, 1535,...</td>\n",
       "      <td>[0, 0, 0, 0, 0, 0, 0, 0, 0, 0, 0, 0, 0, 0, 0, ...</td>\n",
       "    </tr>\n",
       "    <tr>\n",
       "      <th>3</th>\n",
       "      <td>[46, 1624, 1547, 56, 1687, 1644, 6, 7, 3386, 1...</td>\n",
       "      <td>[0, 0, 0, 0, 0, 0, 0, 0, 0, 0, 0, 0, 0, 0, 0, ...</td>\n",
       "    </tr>\n",
       "    <tr>\n",
       "      <th>4</th>\n",
       "      <td>[37, 3709, 3836, 1586, 2151, 1727, 3021, 1860,...</td>\n",
       "      <td>[0, 0, 1, 0, 0, 0, 0, 0, 0, 0, 0, 0, 0, 0, 0, ...</td>\n",
       "    </tr>\n",
       "  </tbody>\n",
       "</table>\n",
       "</div>"
      ],
      "text/plain": [
       "                                                text  \\\n",
       "0  [2455, 1858, 2335, 1543, 1800, 1860, 2000, 286...   \n",
       "1  [40, 1542, 1691, 2449, 1535, 3616, 2206, 1904,...   \n",
       "2  [40, 1542, 1691, 2449, 1535, 2610, 1543, 1535,...   \n",
       "3  [46, 1624, 1547, 56, 1687, 1644, 6, 7, 3386, 1...   \n",
       "4  [37, 3709, 3836, 1586, 2151, 1727, 3021, 1860,...   \n",
       "\n",
       "                                               label  \n",
       "0  [0, 0, 0, 0, 0, 0, 0, 0, 0, 0, 0, 0, 0, 0, 0, ...  \n",
       "1  [0, 0, 0, 0, 0, 0, 0, 0, 0, 0, 0, 0, 0, 0, 0, ...  \n",
       "2  [0, 0, 0, 0, 0, 0, 0, 0, 0, 0, 0, 0, 0, 0, 0, ...  \n",
       "3  [0, 0, 0, 0, 0, 0, 0, 0, 0, 0, 0, 0, 0, 0, 0, ...  \n",
       "4  [0, 0, 1, 0, 0, 0, 0, 0, 0, 0, 0, 0, 0, 0, 0, ...  "
      ]
     },
     "execution_count": 5,
     "metadata": {},
     "output_type": "execute_result"
    }
   ],
   "source": [
    "train_df_all.head()"
   ]
  },
  {
   "cell_type": "code",
   "execution_count": 6,
   "metadata": {},
   "outputs": [],
   "source": [
    "f_train = open(\"data/doc2vec_train_index.json\", 'r')\n",
    "train_index = json.load(f_train)['index']\n",
    "\n",
    "f_test = open(\"data/doc2vec_test_index.json\", 'r')\n",
    "test_index = json.load(f_test)['index']"
   ]
  },
  {
   "cell_type": "code",
   "execution_count": null,
   "metadata": {},
   "outputs": [],
   "source": []
  },
  {
   "cell_type": "code",
   "execution_count": 7,
   "metadata": {},
   "outputs": [],
   "source": [
    "# def tagged_document(list_of_list_of_words):\n",
    "#    for i, list_of_words in enumerate(list_of_list_of_words):\n",
    "#       yield TaggedDocument(list_of_words, [i])\n",
    "\n",
    "# train_documents = list(tagged_document(train_sentence))\n",
    "# test_documents = list(tagged_document(test_sentence))\n",
    "\n",
    "\n",
    "def get_tagged_document(df):\n",
    "   return [TaggedDocument(words=doc, tags=[i]) for i, doc in zip(df.index, df.text)]\n",
    "\n",
    "tagged_document = get_tagged_document(train_df_all)\n",
    "\n",
    "# train_df = train_df_all.loc[train_index, :]\n",
    "# test_df = train_df_all.loc[test_index, :]\n",
    "\n",
    "# train_documents = tagged_document(train_df)\n",
    "# test_documents = tagged_document(test_df)"
   ]
  },
  {
   "cell_type": "code",
   "execution_count": 8,
   "metadata": {},
   "outputs": [],
   "source": [
    "# a.words\n",
    "# train_documents"
   ]
  },
  {
   "cell_type": "code",
   "execution_count": 9,
   "metadata": {},
   "outputs": [],
   "source": [
    "model_d2v = Doc2Vec(vector_size=300, min_count=10,epochs=100,dm=1,window=5)\n",
    "model_d2v.build_vocab(tagged_document)"
   ]
  },
  {
   "cell_type": "code",
   "execution_count": 10,
   "metadata": {},
   "outputs": [],
   "source": [
    "model_d2v.train(tagged_document,\n",
    "              total_examples=model_d2v.corpus_count,\n",
    "              epochs=model_d2v.epochs)\n",
    "\n",
    "#path = './mdl_epoch_{}.d2v'.format(epoch)\n",
    "# model_d2v.wv.save(path)\n",
    "\n",
    "# document_embeddings=np.zeros((train_df_all.shape[0],300))\n",
    "\n",
    "# for i,value in enumerate(train_df_all.index.values):\n",
    "#     document_embeddings[i]=model_d2v.docvecs[value]"
   ]
  },
  {
   "cell_type": "code",
   "execution_count": null,
   "metadata": {},
   "outputs": [],
   "source": []
  },
  {
   "cell_type": "code",
   "execution_count": 11,
   "metadata": {},
   "outputs": [],
   "source": [
    "train_df = train_df_all.loc[train_index, :]\n",
    "test_df = train_df_all.loc[test_index, :]"
   ]
  },
  {
   "cell_type": "code",
   "execution_count": 12,
   "metadata": {},
   "outputs": [
    {
     "name": "stderr",
     "output_type": "stream",
     "text": [
      "/var/folders/v7/wxn3bxmn2018mjps58z5d3hw0000gn/T/ipykernel_44402/958081094.py:1: DeprecationWarning: Call to deprecated `docvecs` (The `docvecs` property has been renamed `dv`.).\n",
      "  X_train = np.array([model_d2v.docvecs[x] for x in train_df.index])\n",
      "/var/folders/v7/wxn3bxmn2018mjps58z5d3hw0000gn/T/ipykernel_44402/958081094.py:2: DeprecationWarning: Call to deprecated `docvecs` (The `docvecs` property has been renamed `dv`.).\n",
      "  X_test = np.array([model_d2v.docvecs[x] for x in test_df.index])\n"
     ]
    }
   ],
   "source": [
    "X_train = np.array([model_d2v.docvecs[x] for x in train_df.index])\n",
    "X_test = np.array([model_d2v.docvecs[x] for x in test_df.index])"
   ]
  },
  {
   "cell_type": "code",
   "execution_count": 13,
   "metadata": {},
   "outputs": [
    {
     "data": {
      "text/plain": [
       "(6268, 300)"
      ]
     },
     "execution_count": 13,
     "metadata": {},
     "output_type": "execute_result"
    }
   ],
   "source": [
    "X_train.shape"
   ]
  },
  {
   "cell_type": "code",
   "execution_count": 14,
   "metadata": {},
   "outputs": [],
   "source": [
    "y_train = np.array(list(train_df.label))\n",
    "y_test = np.array(list(test_df.label))"
   ]
  },
  {
   "cell_type": "code",
   "execution_count": 15,
   "metadata": {},
   "outputs": [
    {
     "name": "stderr",
     "output_type": "stream",
     "text": [
      "2022-10-10 13:11:34.906171: I tensorflow/core/platform/cpu_feature_guard.cc:193] This TensorFlow binary is optimized with oneAPI Deep Neural Network Library (oneDNN) to use the following CPU instructions in performance-critical operations:  AVX2 FMA\n",
      "To enable them in other operations, rebuild TensorFlow with the appropriate compiler flags.\n"
     ]
    }
   ],
   "source": [
    "from gensim.models.doc2vec import Doc2Vec, TaggedDocument\n",
    "from gensim.parsing.preprocessing import preprocess_string\n",
    "from keras import optimizers\n",
    "from sklearn.metrics import accuracy_score, hamming_loss\n",
    "from keras.models import Sequential\n",
    "from keras.layers import Dense,LSTM\n",
    "from keras.optimizers import SGD\n",
    "from sklearn.metrics import accuracy_score, hamming_loss\n",
    "from keras import backend as K\n",
    "from keras.metrics import CategoricalAccuracy\n",
    "# from keras.metrics import multilabel_accuracy\n",
    "import matplotlib.pyplot as plt"
   ]
  },
  {
   "cell_type": "code",
   "execution_count": 16,
   "metadata": {},
   "outputs": [],
   "source": [
    "def hamming_score(y_true, y_pred, normalize=True, sample_weight=None):\n",
    "    '''\n",
    "    Compute the Hamming score (a.k.a. label-based accuracy) for the multi-label case\n",
    "    http://stackoverflow.com/q/32239577/395857\n",
    "    '''\n",
    "    acc_list = []\n",
    "    for i in range(y_true.shape[0]):\n",
    "        set_true = set( np.where(y_true[i])[0] )\n",
    "        set_pred = set( np.where(y_pred[i])[0] )\n",
    "        #print('\\nset_true: {0}'.format(set_true))\n",
    "        #print('set_pred: {0}'.format(set_pred))\n",
    "        tmp_a = None\n",
    "        if len(set_true) == 0 and len(set_pred) == 0:\n",
    "            tmp_a = 1\n",
    "        else:\n",
    "            tmp_a = len(set_true.intersection(set_pred))/\\\n",
    "                    float( len(set_true.union(set_pred)) )\n",
    "        #print('tmp_a: {0}'.format(tmp_a))\n",
    "        acc_list.append(tmp_a)\n",
    "    return np.mean(acc_list)\n",
    "    \n",
    "def predict_using_model(model, threshold=0.5):\n",
    "  preds = model.predict(X_test)\n",
    "  print(preds)\n",
    "  preds[preds>=threshold] = 1\n",
    "  preds[preds<threshold] = 0\n",
    "  return preds\n",
    "  \n",
    "def multilabel_accuracy(y_true,y_pred):\n",
    "  comp = K.equal(y_true, K.round(y_pred))\n",
    "  return K.cast(K.all(comp, axis=-1), K.floatx())\n",
    "\n",
    "def plot_loss(history):\n",
    "  plt.plot(history.history['loss'], label='MAE (training data)')\n",
    "  plt.title('MAE')\n",
    "  plt.ylabel('MAE value')\n",
    "  plt.xlabel('No. epoch')\n",
    "  plt.legend(loc=\"upper left\")\n",
    "  plt.show()\n",
    "  plt.plot(history.history['multilabel_accuracy'])\n",
    "  plt.title('Multilabel accuracy')\n",
    "  plt.ylabel('Value')\n",
    "  plt.xlabel('No. epoch')\n",
    "  plt.legend(loc=\"upper left\")\n",
    "  plt.show()"
   ]
  },
  {
   "cell_type": "code",
   "execution_count": 17,
   "metadata": {},
   "outputs": [],
   "source": [
    "def baseline_model_d2v():\n",
    "\t# create model\n",
    "  model = Sequential()\n",
    "  model.add(Dense(150,activation='relu',input_shape=(300,)))\n",
    "  model.add(Dense(150,activation='relu'))\n",
    "  model.add(Dense(150,activation='relu'))\n",
    "  model.add(Dense(128,activation='relu'))\n",
    "  \n",
    "  model.add(Dense(100, activation='sigmoid'))\n",
    "  opt = optimizers.Adam(learning_rate=0.001)\n",
    "  model.compile(loss='binary_crossentropy', optimizer=opt, metrics=['accuracy', multilabel_accuracy])\n",
    "  return model"
   ]
  },
  {
   "cell_type": "code",
   "execution_count": 18,
   "metadata": {},
   "outputs": [
    {
     "name": "stderr",
     "output_type": "stream",
     "text": [
      "2022-10-10 13:11:51.435334: I tensorflow/core/platform/cpu_feature_guard.cc:193] This TensorFlow binary is optimized with oneAPI Deep Neural Network Library (oneDNN) to use the following CPU instructions in performance-critical operations:  AVX2 FMA\n",
      "To enable them in other operations, rebuild TensorFlow with the appropriate compiler flags.\n"
     ]
    },
    {
     "name": "stdout",
     "output_type": "stream",
     "text": [
      "Epoch 1/100\n",
      "49/49 [==============================] - 1s 9ms/step - loss: 0.1823 - accuracy: 0.0115 - multilabel_accuracy: 0.1399 - val_loss: 0.0558 - val_accuracy: 0.0191 - val_multilabel_accuracy: 0.2006\n",
      "Epoch 2/100\n",
      "49/49 [==============================] - 0s 5ms/step - loss: 0.0550 - accuracy: 0.0247 - multilabel_accuracy: 0.2034 - val_loss: 0.0540 - val_accuracy: 0.0259 - val_multilabel_accuracy: 0.2006\n",
      "Epoch 3/100\n",
      "49/49 [==============================] - 0s 5ms/step - loss: 0.0536 - accuracy: 0.0330 - multilabel_accuracy: 0.2034 - val_loss: 0.0535 - val_accuracy: 0.0308 - val_multilabel_accuracy: 0.2006\n",
      "Epoch 4/100\n",
      "49/49 [==============================] - 0s 4ms/step - loss: 0.0527 - accuracy: 0.0392 - multilabel_accuracy: 0.2034 - val_loss: 0.0532 - val_accuracy: 0.0395 - val_multilabel_accuracy: 0.2006\n",
      "Epoch 5/100\n",
      "49/49 [==============================] - 0s 4ms/step - loss: 0.0518 - accuracy: 0.0560 - multilabel_accuracy: 0.2034 - val_loss: 0.0526 - val_accuracy: 0.0379 - val_multilabel_accuracy: 0.2006\n",
      "Epoch 6/100\n",
      "49/49 [==============================] - 0s 4ms/step - loss: 0.0504 - accuracy: 0.0681 - multilabel_accuracy: 0.2034 - val_loss: 0.0517 - val_accuracy: 0.0463 - val_multilabel_accuracy: 0.2006\n",
      "Epoch 7/100\n",
      "49/49 [==============================] - 0s 4ms/step - loss: 0.0485 - accuracy: 0.0885 - multilabel_accuracy: 0.2034 - val_loss: 0.0505 - val_accuracy: 0.0648 - val_multilabel_accuracy: 0.2009\n",
      "Epoch 8/100\n",
      "49/49 [==============================] - 0s 4ms/step - loss: 0.0460 - accuracy: 0.1195 - multilabel_accuracy: 0.2039 - val_loss: 0.0493 - val_accuracy: 0.0687 - val_multilabel_accuracy: 0.2019\n",
      "Epoch 9/100\n",
      "49/49 [==============================] - 0s 4ms/step - loss: 0.0436 - accuracy: 0.1485 - multilabel_accuracy: 0.2071 - val_loss: 0.0489 - val_accuracy: 0.0817 - val_multilabel_accuracy: 0.2022\n",
      "Epoch 10/100\n",
      "49/49 [==============================] - 0s 4ms/step - loss: 0.0409 - accuracy: 0.1824 - multilabel_accuracy: 0.2123 - val_loss: 0.0482 - val_accuracy: 0.1008 - val_multilabel_accuracy: 0.2045\n",
      "Epoch 11/100\n",
      "49/49 [==============================] - 0s 4ms/step - loss: 0.0382 - accuracy: 0.2192 - multilabel_accuracy: 0.2237 - val_loss: 0.0478 - val_accuracy: 0.1089 - val_multilabel_accuracy: 0.2048\n",
      "Epoch 12/100\n",
      "49/49 [==============================] - 0s 4ms/step - loss: 0.0356 - accuracy: 0.2575 - multilabel_accuracy: 0.2390 - val_loss: 0.0482 - val_accuracy: 0.1069 - val_multilabel_accuracy: 0.2084\n",
      "Epoch 13/100\n",
      "49/49 [==============================] - 0s 4ms/step - loss: 0.0328 - accuracy: 0.2980 - multilabel_accuracy: 0.2636 - val_loss: 0.0488 - val_accuracy: 0.1066 - val_multilabel_accuracy: 0.2090\n",
      "Epoch 14/100\n",
      "49/49 [==============================] - 0s 4ms/step - loss: 0.0300 - accuracy: 0.3489 - multilabel_accuracy: 0.2896 - val_loss: 0.0492 - val_accuracy: 0.1131 - val_multilabel_accuracy: 0.2100\n",
      "Epoch 15/100\n",
      "49/49 [==============================] - 0s 4ms/step - loss: 0.0275 - accuracy: 0.3885 - multilabel_accuracy: 0.3309 - val_loss: 0.0514 - val_accuracy: 0.1124 - val_multilabel_accuracy: 0.2113\n",
      "Epoch 16/100\n",
      "49/49 [==============================] - 0s 4ms/step - loss: 0.0248 - accuracy: 0.4376 - multilabel_accuracy: 0.3714 - val_loss: 0.0527 - val_accuracy: 0.1073 - val_multilabel_accuracy: 0.2097\n",
      "Epoch 17/100\n",
      "49/49 [==============================] - 0s 4ms/step - loss: 0.0221 - accuracy: 0.4695 - multilabel_accuracy: 0.4182 - val_loss: 0.0547 - val_accuracy: 0.1108 - val_multilabel_accuracy: 0.2142\n",
      "Epoch 18/100\n",
      "49/49 [==============================] - 0s 4ms/step - loss: 0.0195 - accuracy: 0.5199 - multilabel_accuracy: 0.4675 - val_loss: 0.0574 - val_accuracy: 0.1160 - val_multilabel_accuracy: 0.2084\n",
      "Epoch 19/100\n",
      "49/49 [==============================] - 0s 4ms/step - loss: 0.0174 - accuracy: 0.5565 - multilabel_accuracy: 0.5121 - val_loss: 0.0601 - val_accuracy: 0.1124 - val_multilabel_accuracy: 0.2032\n",
      "Epoch 20/100\n",
      "49/49 [==============================] - 0s 5ms/step - loss: 0.0151 - accuracy: 0.5919 - multilabel_accuracy: 0.5721 - val_loss: 0.0628 - val_accuracy: 0.1124 - val_multilabel_accuracy: 0.1918\n",
      "Epoch 21/100\n",
      "49/49 [==============================] - 0s 4ms/step - loss: 0.0129 - accuracy: 0.6276 - multilabel_accuracy: 0.6350 - val_loss: 0.0678 - val_accuracy: 0.1053 - val_multilabel_accuracy: 0.1957\n",
      "Epoch 22/100\n",
      "49/49 [==============================] - 0s 4ms/step - loss: 0.0111 - accuracy: 0.6560 - multilabel_accuracy: 0.6867 - val_loss: 0.0710 - val_accuracy: 0.1060 - val_multilabel_accuracy: 0.1948\n",
      "Epoch 23/100\n",
      "49/49 [==============================] - 0s 5ms/step - loss: 0.0092 - accuracy: 0.6790 - multilabel_accuracy: 0.7439 - val_loss: 0.0761 - val_accuracy: 0.1011 - val_multilabel_accuracy: 0.1818\n",
      "Epoch 24/100\n",
      "49/49 [==============================] - 0s 4ms/step - loss: 0.0079 - accuracy: 0.6910 - multilabel_accuracy: 0.7944 - val_loss: 0.0801 - val_accuracy: 0.1050 - val_multilabel_accuracy: 0.1808\n",
      "Epoch 25/100\n",
      "49/49 [==============================] - 0s 4ms/step - loss: 0.0065 - accuracy: 0.7037 - multilabel_accuracy: 0.8384 - val_loss: 0.0845 - val_accuracy: 0.1043 - val_multilabel_accuracy: 0.1847\n",
      "Epoch 26/100\n",
      "49/49 [==============================] - 0s 4ms/step - loss: 0.0053 - accuracy: 0.7146 - multilabel_accuracy: 0.8784 - val_loss: 0.0895 - val_accuracy: 0.1043 - val_multilabel_accuracy: 0.1756\n",
      "Epoch 27/100\n",
      "49/49 [==============================] - 0s 4ms/step - loss: 0.0043 - accuracy: 0.7245 - multilabel_accuracy: 0.9158 - val_loss: 0.0950 - val_accuracy: 0.1037 - val_multilabel_accuracy: 0.1789\n",
      "Epoch 28/100\n",
      "49/49 [==============================] - 0s 5ms/step - loss: 0.0035 - accuracy: 0.7256 - multilabel_accuracy: 0.9381 - val_loss: 0.1004 - val_accuracy: 0.1008 - val_multilabel_accuracy: 0.1711\n",
      "Epoch 29/100\n",
      "49/49 [==============================] - 0s 5ms/step - loss: 0.0029 - accuracy: 0.7288 - multilabel_accuracy: 0.9590 - val_loss: 0.1050 - val_accuracy: 0.1027 - val_multilabel_accuracy: 0.1773\n",
      "Epoch 30/100\n",
      "49/49 [==============================] - 0s 4ms/step - loss: 0.0024 - accuracy: 0.7315 - multilabel_accuracy: 0.9718 - val_loss: 0.1109 - val_accuracy: 0.1056 - val_multilabel_accuracy: 0.1766\n",
      "Epoch 31/100\n",
      "49/49 [==============================] - 0s 4ms/step - loss: 0.0019 - accuracy: 0.7326 - multilabel_accuracy: 0.9842 - val_loss: 0.1151 - val_accuracy: 0.1053 - val_multilabel_accuracy: 0.1685\n",
      "Epoch 32/100\n",
      "49/49 [==============================] - 0s 4ms/step - loss: 0.0015 - accuracy: 0.7313 - multilabel_accuracy: 0.9892 - val_loss: 0.1194 - val_accuracy: 0.1005 - val_multilabel_accuracy: 0.1769\n",
      "Epoch 33/100\n",
      "49/49 [==============================] - 0s 4ms/step - loss: 0.0012 - accuracy: 0.7331 - multilabel_accuracy: 0.9962 - val_loss: 0.1256 - val_accuracy: 0.1053 - val_multilabel_accuracy: 0.1753\n",
      "Epoch 34/100\n",
      "49/49 [==============================] - 0s 5ms/step - loss: 9.4887e-04 - accuracy: 0.7315 - multilabel_accuracy: 0.9979 - val_loss: 0.1294 - val_accuracy: 0.1017 - val_multilabel_accuracy: 0.1708\n",
      "Epoch 35/100\n",
      "49/49 [==============================] - 0s 4ms/step - loss: 8.1189e-04 - accuracy: 0.7307 - multilabel_accuracy: 0.9981 - val_loss: 0.1337 - val_accuracy: 0.1047 - val_multilabel_accuracy: 0.1737\n",
      "Epoch 36/100\n",
      "49/49 [==============================] - 0s 5ms/step - loss: 7.1707e-04 - accuracy: 0.7345 - multilabel_accuracy: 0.9984 - val_loss: 0.1369 - val_accuracy: 0.1030 - val_multilabel_accuracy: 0.1776\n",
      "Epoch 37/100\n",
      "49/49 [==============================] - 0s 4ms/step - loss: 6.3932e-04 - accuracy: 0.7353 - multilabel_accuracy: 0.9986 - val_loss: 0.1405 - val_accuracy: 0.1060 - val_multilabel_accuracy: 0.1727\n",
      "Epoch 38/100\n",
      "49/49 [==============================] - 0s 4ms/step - loss: 5.5874e-04 - accuracy: 0.7317 - multilabel_accuracy: 0.9989 - val_loss: 0.1438 - val_accuracy: 0.1047 - val_multilabel_accuracy: 0.1747\n",
      "Epoch 39/100\n",
      "49/49 [==============================] - 0s 4ms/step - loss: 5.0667e-04 - accuracy: 0.7325 - multilabel_accuracy: 0.9989 - val_loss: 0.1475 - val_accuracy: 0.1063 - val_multilabel_accuracy: 0.1769\n",
      "Epoch 40/100\n",
      "49/49 [==============================] - 0s 4ms/step - loss: 4.7105e-04 - accuracy: 0.7318 - multilabel_accuracy: 0.9989 - val_loss: 0.1493 - val_accuracy: 0.1060 - val_multilabel_accuracy: 0.1747\n",
      "Epoch 41/100\n",
      "49/49 [==============================] - 0s 4ms/step - loss: 4.1605e-04 - accuracy: 0.7323 - multilabel_accuracy: 0.9990 - val_loss: 0.1522 - val_accuracy: 0.1030 - val_multilabel_accuracy: 0.1724\n",
      "Epoch 42/100\n",
      "49/49 [==============================] - 0s 5ms/step - loss: 3.5804e-04 - accuracy: 0.7320 - multilabel_accuracy: 0.9990 - val_loss: 0.1551 - val_accuracy: 0.1043 - val_multilabel_accuracy: 0.1714\n",
      "Epoch 43/100\n",
      "49/49 [==============================] - 0s 5ms/step - loss: 3.2904e-04 - accuracy: 0.7323 - multilabel_accuracy: 0.9990 - val_loss: 0.1576 - val_accuracy: 0.1040 - val_multilabel_accuracy: 0.1714\n",
      "Epoch 44/100\n",
      "49/49 [==============================] - 0s 4ms/step - loss: 2.9714e-04 - accuracy: 0.7328 - multilabel_accuracy: 0.9990 - val_loss: 0.1607 - val_accuracy: 0.1056 - val_multilabel_accuracy: 0.1721\n",
      "Epoch 45/100\n",
      "49/49 [==============================] - 0s 4ms/step - loss: 2.7682e-04 - accuracy: 0.7325 - multilabel_accuracy: 0.9992 - val_loss: 0.1630 - val_accuracy: 0.1030 - val_multilabel_accuracy: 0.1730\n",
      "Epoch 46/100\n",
      "49/49 [==============================] - 0s 4ms/step - loss: 2.6970e-04 - accuracy: 0.7325 - multilabel_accuracy: 0.9992 - val_loss: 0.1651 - val_accuracy: 0.1030 - val_multilabel_accuracy: 0.1740\n",
      "Epoch 47/100\n",
      "49/49 [==============================] - 0s 4ms/step - loss: 3.0782e-04 - accuracy: 0.7304 - multilabel_accuracy: 0.9992 - val_loss: 0.1668 - val_accuracy: 0.1053 - val_multilabel_accuracy: 0.1721\n",
      "Epoch 48/100\n",
      "49/49 [==============================] - 0s 4ms/step - loss: 2.5814e-04 - accuracy: 0.7340 - multilabel_accuracy: 0.9992 - val_loss: 0.1685 - val_accuracy: 0.1027 - val_multilabel_accuracy: 0.1743\n",
      "Epoch 49/100\n",
      "49/49 [==============================] - 0s 4ms/step - loss: 2.1556e-04 - accuracy: 0.7321 - multilabel_accuracy: 0.9992 - val_loss: 0.1706 - val_accuracy: 0.1043 - val_multilabel_accuracy: 0.1747\n",
      "Epoch 50/100\n",
      "49/49 [==============================] - 0s 4ms/step - loss: 2.0191e-04 - accuracy: 0.7317 - multilabel_accuracy: 0.9992 - val_loss: 0.1737 - val_accuracy: 0.1030 - val_multilabel_accuracy: 0.1737\n",
      "Epoch 51/100\n",
      "49/49 [==============================] - 0s 4ms/step - loss: 1.7817e-04 - accuracy: 0.7318 - multilabel_accuracy: 0.9992 - val_loss: 0.1755 - val_accuracy: 0.1043 - val_multilabel_accuracy: 0.1730\n",
      "Epoch 52/100\n",
      "49/49 [==============================] - 0s 4ms/step - loss: 1.6917e-04 - accuracy: 0.7325 - multilabel_accuracy: 0.9994 - val_loss: 0.1774 - val_accuracy: 0.1030 - val_multilabel_accuracy: 0.1704\n",
      "Epoch 53/100\n",
      "49/49 [==============================] - 0s 4ms/step - loss: 1.6250e-04 - accuracy: 0.7301 - multilabel_accuracy: 0.9992 - val_loss: 0.1795 - val_accuracy: 0.1043 - val_multilabel_accuracy: 0.1724\n",
      "Epoch 54/100\n",
      "49/49 [==============================] - 0s 4ms/step - loss: 1.7364e-04 - accuracy: 0.7317 - multilabel_accuracy: 0.9994 - val_loss: 0.1809 - val_accuracy: 0.1021 - val_multilabel_accuracy: 0.1727\n",
      "Epoch 55/100\n",
      "49/49 [==============================] - 0s 4ms/step - loss: 1.6329e-04 - accuracy: 0.7317 - multilabel_accuracy: 0.9992 - val_loss: 0.1819 - val_accuracy: 0.1047 - val_multilabel_accuracy: 0.1743\n",
      "Epoch 56/100\n",
      "49/49 [==============================] - 0s 4ms/step - loss: 1.3323e-04 - accuracy: 0.7312 - multilabel_accuracy: 0.9995 - val_loss: 0.1847 - val_accuracy: 0.1037 - val_multilabel_accuracy: 0.1711\n",
      "Epoch 57/100\n",
      "49/49 [==============================] - 0s 4ms/step - loss: 1.1542e-04 - accuracy: 0.7310 - multilabel_accuracy: 0.9994 - val_loss: 0.1870 - val_accuracy: 0.1027 - val_multilabel_accuracy: 0.1734\n",
      "Epoch 58/100\n",
      "49/49 [==============================] - 0s 4ms/step - loss: 1.2671e-04 - accuracy: 0.7301 - multilabel_accuracy: 0.9992 - val_loss: 0.1882 - val_accuracy: 0.1053 - val_multilabel_accuracy: 0.1750\n",
      "Epoch 59/100\n",
      "49/49 [==============================] - 0s 4ms/step - loss: 1.0114e-04 - accuracy: 0.7313 - multilabel_accuracy: 0.9994 - val_loss: 0.1898 - val_accuracy: 0.1043 - val_multilabel_accuracy: 0.1760\n",
      "Epoch 60/100\n",
      "49/49 [==============================] - 0s 4ms/step - loss: 8.3771e-05 - accuracy: 0.7320 - multilabel_accuracy: 0.9997 - val_loss: 0.1917 - val_accuracy: 0.1050 - val_multilabel_accuracy: 0.1747\n",
      "Epoch 61/100\n",
      "49/49 [==============================] - 0s 5ms/step - loss: 7.6927e-05 - accuracy: 0.7328 - multilabel_accuracy: 0.9997 - val_loss: 0.1936 - val_accuracy: 0.1034 - val_multilabel_accuracy: 0.1760\n",
      "Epoch 62/100\n",
      "49/49 [==============================] - 0s 4ms/step - loss: 6.5924e-05 - accuracy: 0.7321 - multilabel_accuracy: 0.9998 - val_loss: 0.1955 - val_accuracy: 0.1001 - val_multilabel_accuracy: 0.1750\n",
      "Epoch 63/100\n",
      "49/49 [==============================] - 0s 4ms/step - loss: 7.2148e-05 - accuracy: 0.7310 - multilabel_accuracy: 0.9995 - val_loss: 0.1969 - val_accuracy: 0.1030 - val_multilabel_accuracy: 0.1747\n",
      "Epoch 64/100\n",
      "49/49 [==============================] - 0s 4ms/step - loss: 2.3841e-04 - accuracy: 0.7305 - multilabel_accuracy: 0.9992 - val_loss: 0.1961 - val_accuracy: 0.1034 - val_multilabel_accuracy: 0.1711\n",
      "Epoch 65/100\n",
      "49/49 [==============================] - 0s 4ms/step - loss: 0.0021 - accuracy: 0.7257 - multilabel_accuracy: 0.9397 - val_loss: 0.1857 - val_accuracy: 0.0979 - val_multilabel_accuracy: 0.1653\n",
      "Epoch 66/100\n",
      "49/49 [==============================] - 0s 4ms/step - loss: 0.0161 - accuracy: 0.5965 - multilabel_accuracy: 0.5764 - val_loss: 0.1125 - val_accuracy: 0.0868 - val_multilabel_accuracy: 0.1465\n",
      "Epoch 67/100\n",
      "49/49 [==============================] - 0s 4ms/step - loss: 0.0078 - accuracy: 0.6768 - multilabel_accuracy: 0.7484 - val_loss: 0.1278 - val_accuracy: 0.0946 - val_multilabel_accuracy: 0.1643\n",
      "Epoch 68/100\n",
      "49/49 [==============================] - 0s 4ms/step - loss: 0.0030 - accuracy: 0.7291 - multilabel_accuracy: 0.8982 - val_loss: 0.1401 - val_accuracy: 0.0911 - val_multilabel_accuracy: 0.1717\n",
      "Epoch 69/100\n",
      "49/49 [==============================] - 0s 4ms/step - loss: 0.0014 - accuracy: 0.7326 - multilabel_accuracy: 0.9689 - val_loss: 0.1483 - val_accuracy: 0.0998 - val_multilabel_accuracy: 0.1730\n",
      "Epoch 70/100\n",
      "49/49 [==============================] - 0s 4ms/step - loss: 6.5531e-04 - accuracy: 0.7337 - multilabel_accuracy: 0.9920 - val_loss: 0.1570 - val_accuracy: 0.0982 - val_multilabel_accuracy: 0.1766\n",
      "Epoch 71/100\n",
      "49/49 [==============================] - 0s 4ms/step - loss: 3.6028e-04 - accuracy: 0.7353 - multilabel_accuracy: 0.9976 - val_loss: 0.1644 - val_accuracy: 0.1027 - val_multilabel_accuracy: 0.1805\n",
      "Epoch 72/100\n",
      "49/49 [==============================] - 0s 4ms/step - loss: 1.8846e-04 - accuracy: 0.7352 - multilabel_accuracy: 0.9997 - val_loss: 0.1691 - val_accuracy: 0.1008 - val_multilabel_accuracy: 0.1805\n",
      "Epoch 73/100\n",
      "49/49 [==============================] - 0s 4ms/step - loss: 1.2844e-04 - accuracy: 0.7332 - multilabel_accuracy: 1.0000 - val_loss: 0.1730 - val_accuracy: 0.1047 - val_multilabel_accuracy: 0.1808\n",
      "Epoch 74/100\n",
      "49/49 [==============================] - 0s 4ms/step - loss: 1.0380e-04 - accuracy: 0.7355 - multilabel_accuracy: 1.0000 - val_loss: 0.1758 - val_accuracy: 0.1030 - val_multilabel_accuracy: 0.1792\n",
      "Epoch 75/100\n",
      "49/49 [==============================] - 0s 4ms/step - loss: 8.9633e-05 - accuracy: 0.7337 - multilabel_accuracy: 1.0000 - val_loss: 0.1789 - val_accuracy: 0.1021 - val_multilabel_accuracy: 0.1795\n",
      "Epoch 76/100\n",
      "49/49 [==============================] - 0s 4ms/step - loss: 7.9021e-05 - accuracy: 0.7342 - multilabel_accuracy: 1.0000 - val_loss: 0.1810 - val_accuracy: 0.1034 - val_multilabel_accuracy: 0.1789\n",
      "Epoch 77/100\n",
      "49/49 [==============================] - 0s 4ms/step - loss: 7.1382e-05 - accuracy: 0.7331 - multilabel_accuracy: 1.0000 - val_loss: 0.1833 - val_accuracy: 0.1024 - val_multilabel_accuracy: 0.1789\n",
      "Epoch 78/100\n",
      "49/49 [==============================] - 0s 4ms/step - loss: 6.4786e-05 - accuracy: 0.7342 - multilabel_accuracy: 1.0000 - val_loss: 0.1850 - val_accuracy: 0.1027 - val_multilabel_accuracy: 0.1795\n",
      "Epoch 79/100\n",
      "49/49 [==============================] - 0s 4ms/step - loss: 5.9028e-05 - accuracy: 0.7345 - multilabel_accuracy: 1.0000 - val_loss: 0.1871 - val_accuracy: 0.1037 - val_multilabel_accuracy: 0.1795\n",
      "Epoch 80/100\n",
      "49/49 [==============================] - 0s 4ms/step - loss: 5.4286e-05 - accuracy: 0.7331 - multilabel_accuracy: 1.0000 - val_loss: 0.1885 - val_accuracy: 0.1024 - val_multilabel_accuracy: 0.1811\n",
      "Epoch 81/100\n",
      "49/49 [==============================] - 0s 4ms/step - loss: 5.0252e-05 - accuracy: 0.7340 - multilabel_accuracy: 1.0000 - val_loss: 0.1901 - val_accuracy: 0.1027 - val_multilabel_accuracy: 0.1811\n",
      "Epoch 82/100\n",
      "49/49 [==============================] - 0s 4ms/step - loss: 4.6660e-05 - accuracy: 0.7331 - multilabel_accuracy: 1.0000 - val_loss: 0.1917 - val_accuracy: 0.1034 - val_multilabel_accuracy: 0.1802\n",
      "Epoch 83/100\n",
      "49/49 [==============================] - 0s 4ms/step - loss: 4.3689e-05 - accuracy: 0.7329 - multilabel_accuracy: 1.0000 - val_loss: 0.1932 - val_accuracy: 0.1030 - val_multilabel_accuracy: 0.1798\n",
      "Epoch 84/100\n",
      "49/49 [==============================] - 0s 4ms/step - loss: 4.0728e-05 - accuracy: 0.7332 - multilabel_accuracy: 1.0000 - val_loss: 0.1946 - val_accuracy: 0.1024 - val_multilabel_accuracy: 0.1805\n",
      "Epoch 85/100\n",
      "49/49 [==============================] - 0s 4ms/step - loss: 3.8275e-05 - accuracy: 0.7323 - multilabel_accuracy: 1.0000 - val_loss: 0.1960 - val_accuracy: 0.1034 - val_multilabel_accuracy: 0.1805\n",
      "Epoch 86/100\n",
      "49/49 [==============================] - 0s 4ms/step - loss: 3.5975e-05 - accuracy: 0.7331 - multilabel_accuracy: 1.0000 - val_loss: 0.1972 - val_accuracy: 0.1043 - val_multilabel_accuracy: 0.1808\n",
      "Epoch 87/100\n",
      "49/49 [==============================] - 0s 4ms/step - loss: 3.3956e-05 - accuracy: 0.7332 - multilabel_accuracy: 1.0000 - val_loss: 0.1982 - val_accuracy: 0.1037 - val_multilabel_accuracy: 0.1798\n",
      "Epoch 88/100\n",
      "49/49 [==============================] - 0s 4ms/step - loss: 3.2123e-05 - accuracy: 0.7315 - multilabel_accuracy: 1.0000 - val_loss: 0.1995 - val_accuracy: 0.1030 - val_multilabel_accuracy: 0.1818\n",
      "Epoch 89/100\n",
      "49/49 [==============================] - 0s 4ms/step - loss: 3.0487e-05 - accuracy: 0.7336 - multilabel_accuracy: 1.0000 - val_loss: 0.2008 - val_accuracy: 0.1034 - val_multilabel_accuracy: 0.1802\n",
      "Epoch 90/100\n",
      "49/49 [==============================] - 0s 4ms/step - loss: 2.8782e-05 - accuracy: 0.7321 - multilabel_accuracy: 1.0000 - val_loss: 0.2018 - val_accuracy: 0.1030 - val_multilabel_accuracy: 0.1818\n",
      "Epoch 91/100\n",
      "49/49 [==============================] - 0s 4ms/step - loss: 2.7302e-05 - accuracy: 0.7334 - multilabel_accuracy: 1.0000 - val_loss: 0.2029 - val_accuracy: 0.1034 - val_multilabel_accuracy: 0.1811\n",
      "Epoch 92/100\n",
      "49/49 [==============================] - 0s 4ms/step - loss: 2.5992e-05 - accuracy: 0.7332 - multilabel_accuracy: 1.0000 - val_loss: 0.2040 - val_accuracy: 0.1030 - val_multilabel_accuracy: 0.1818\n",
      "Epoch 93/100\n",
      "49/49 [==============================] - 0s 4ms/step - loss: 2.4708e-05 - accuracy: 0.7323 - multilabel_accuracy: 1.0000 - val_loss: 0.2052 - val_accuracy: 0.1027 - val_multilabel_accuracy: 0.1811\n",
      "Epoch 94/100\n",
      "49/49 [==============================] - 0s 4ms/step - loss: 2.3625e-05 - accuracy: 0.7326 - multilabel_accuracy: 1.0000 - val_loss: 0.2059 - val_accuracy: 0.1030 - val_multilabel_accuracy: 0.1815\n",
      "Epoch 95/100\n",
      "49/49 [==============================] - 0s 4ms/step - loss: 2.2489e-05 - accuracy: 0.7334 - multilabel_accuracy: 1.0000 - val_loss: 0.2069 - val_accuracy: 0.1021 - val_multilabel_accuracy: 0.1811\n",
      "Epoch 96/100\n",
      "49/49 [==============================] - 0s 4ms/step - loss: 2.1452e-05 - accuracy: 0.7339 - multilabel_accuracy: 1.0000 - val_loss: 0.2080 - val_accuracy: 0.1034 - val_multilabel_accuracy: 0.1818\n",
      "Epoch 97/100\n",
      "49/49 [==============================] - 0s 4ms/step - loss: 2.0558e-05 - accuracy: 0.7331 - multilabel_accuracy: 1.0000 - val_loss: 0.2090 - val_accuracy: 0.1024 - val_multilabel_accuracy: 0.1821\n",
      "Epoch 98/100\n",
      "49/49 [==============================] - 0s 4ms/step - loss: 1.9650e-05 - accuracy: 0.7328 - multilabel_accuracy: 1.0000 - val_loss: 0.2099 - val_accuracy: 0.1027 - val_multilabel_accuracy: 0.1811\n",
      "Epoch 99/100\n",
      "49/49 [==============================] - 0s 4ms/step - loss: 1.8814e-05 - accuracy: 0.7342 - multilabel_accuracy: 1.0000 - val_loss: 0.2109 - val_accuracy: 0.1021 - val_multilabel_accuracy: 0.1821\n",
      "Epoch 100/100\n",
      "49/49 [==============================] - 0s 4ms/step - loss: 1.8008e-05 - accuracy: 0.7329 - multilabel_accuracy: 1.0000 - val_loss: 0.2120 - val_accuracy: 0.1034 - val_multilabel_accuracy: 0.1815\n"
     ]
    }
   ],
   "source": [
    "model = baseline_model_d2v()\n",
    "history = model.fit(X_train,y_train,epochs=100,batch_size=128,validation_data=(X_test,y_test))"
   ]
  },
  {
   "cell_type": "code",
   "execution_count": 19,
   "metadata": {},
   "outputs": [
    {
     "name": "stdout",
     "output_type": "stream",
     "text": [
      "97/97 [==============================] - 0s 1ms/step\n",
      "[[1.6652490e-09 2.5741414e-05 2.7522048e-21 ... 3.8742130e-13\n",
      "  1.5946420e-09 1.7333152e-18]\n",
      " [5.2616028e-13 4.8939547e-16 1.0800480e-07 ... 6.7515486e-13\n",
      "  1.5242810e-10 1.3231743e-06]\n",
      " [3.6116201e-12 5.2600635e-26 4.4186711e-13 ... 3.1419122e-17\n",
      "  8.4860843e-15 1.5236083e-08]\n",
      " ...\n",
      " [7.1785804e-19 9.7195019e-10 1.3323002e-23 ... 2.7453115e-09\n",
      "  5.4394383e-23 3.2427275e-22]\n",
      " [1.0136170e-26 0.0000000e+00 1.9154405e-16 ... 3.1062762e-19\n",
      "  3.8508047e-22 3.3832519e-04]\n",
      " [1.2274430e-30 7.1935915e-22 6.3909980e-12 ... 2.3905563e-20\n",
      "  2.9082038e-22 2.0842315e-18]]\n",
      "Hamming loss : 0.009481529488010369\n",
      "Accuracy : 0.20382372002592353\n"
     ]
    },
    {
     "data": {
      "image/png": "[encoded data removed]",
      "text/plain": [
       "<Figure size 432x288 with 1 Axes>"
      ]
     },
     "metadata": {
      "needs_background": "light"
     },
     "output_type": "display_data"
    },
    {
     "name": "stderr",
     "output_type": "stream",
     "text": [
      "No artists with labels found to put in legend.  Note that artists whose label start with an underscore are ignored when legend() is called with no argument.\n"
     ]
    },
    {
     "data": {
      "image/png": "[encoded data removed]",
      "text/plain": [
       "<Figure size 432x288 with 1 Axes>"
      ]
     },
     "metadata": {
      "needs_background": "light"
     },
     "output_type": "display_data"
    },
    {
     "data": {
      "image/png": "[encoded data removed]",
      "text/plain": [
       "<Figure size 432x288 with 1 Axes>"
      ]
     },
     "metadata": {
      "needs_background": "light"
     },
     "output_type": "display_data"
    },
    {
     "data": {
      "image/png": "[encoded data removed]",
      "text/plain": [
       "<Figure size 432x288 with 1 Axes>"
      ]
     },
     "metadata": {
      "needs_background": "light"
     },
     "output_type": "display_data"
    }
   ],
   "source": [
    "y_pred = predict_using_model(model,threshold=1)\n",
    "\n",
    "print('Hamming loss : {}'.format(hamming_loss(y_test,y_pred)))\n",
    "print('Accuracy : {}'.format(accuracy_score(y_test,y_pred)))\n",
    "\n",
    "plot_loss(history)\n",
    "plt.title(\"Val Multilabel accuracy\")\n",
    "plt.plot(history.history['val_multilabel_accuracy'])\n",
    "plt.show()\n",
    "\n",
    "plt.title(\"Val Multilabel loss\")\n",
    "plt.plot(history.history['val_loss'])\n",
    "plt.show()"
   ]
  },
  {
   "cell_type": "code",
   "execution_count": null,
   "metadata": {},
   "outputs": [],
   "source": []
  }
 ],
 "metadata": {
  "kernelspec": {
   "display_name": "Python 3.10.4 64-bit",
   "language": "python",
   "name": "python3"
  },
  "language_info": {
   "codemirror_mode": {
    "name": "ipython",
    "version": 3
   },
   "file_extension": ".py",
   "mimetype": "text/x-python",
   "name": "python",
   "nbconvert_exporter": "python",
   "pygments_lexer": "ipython3",
   "version": "3.10.4"
  },
  "orig_nbformat": 4,
  "vscode": {
   "interpreter": {
    "hash": "aee8b7b246df8f9039afb4144a1f6fd8d2ca17a180786b69acc140d282b71a49"
   }
  }
 },
 "nbformat": 4,
 "nbformat_minor": 2
}
