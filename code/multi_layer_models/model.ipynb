{
 "cells": [
  {
   "cell_type": "code",
   "execution_count": 1,
   "metadata": {},
   "outputs": [
    {
     "name": "stderr",
     "output_type": "stream",
     "text": [
      "/Library/Frameworks/Python.framework/Versions/3.10/lib/python3.10/site-packages/tqdm/auto.py:22: TqdmWarning: IProgress not found. Please update jupyter and ipywidgets. See https://ipywidgets.readthedocs.io/en/stable/user_install.html\n",
      "  from .autonotebook import tqdm as notebook_tqdm\n"
     ]
    }
   ],
   "source": [
    "# from sklearn.datasets import make_multilabel_classification\n",
    "from torch.utils.data import Dataset\n",
    "from NN_Models import LogisticRegressionSplit\n",
    "from preprocessing import for_kaggle\n",
    "from evaluation import predict, LogisticRegressionPredictModel\n",
    "\n",
    "import json\n",
    "import numpy as np\n",
    "import pandas as pd\n",
    "import torch\n",
    "import time\n",
    "from tqdm import tqdm"
   ]
  },
  {
   "cell_type": "code",
   "execution_count": 2,
   "metadata": {},
   "outputs": [],
   "source": [
    "# year & venue\n",
    "f = open(\"outputs/year_venue.json\", 'r')\n",
    "year_venue = json.load(f)\n",
    "\n",
    "f = open(\"outputs/year_venue_all.json\", 'r')\n",
    "year_venue_all = json.load(f)\n",
    "\n",
    "# abstract & title\n",
    "f = open(\"outputs/abstract_title.json\", 'r')\n",
    "abstracts_title = json.load(f)\n",
    "\n",
    "f = open(\"outputs/abstract_title_all.json\", 'r')\n",
    "abstracts_title_all = json.load(f)\n",
    "\n",
    "# coauthor\n",
    "f = open(\"outputs/author.json\", 'r')\n",
    "author = json.load(f)\n",
    "\n",
    "f = open(\"outputs/author_all.json\", 'r')\n",
    "author_all = json.load(f)\n",
    "\n",
    "# label\n",
    "y_all = torch.load('data/y_all.pt')"
   ]
  },
  {
   "cell_type": "markdown",
   "metadata": {},
   "source": [
    "## Weighted"
   ]
  },
  {
   "cell_type": "code",
   "execution_count": 10,
   "metadata": {},
   "outputs": [],
   "source": [
    "#################################\n",
    "# weight_sentence = 0.31982275074419797  # abstracts - title\n",
    "# weight_author = 0.6143938170885868  # authors\n",
    "# weight_year_venue = 0.09287086258899986  # year - venue\n",
    "\n",
    "# sum_ = weight_author + weight_sentence + weight_year_venue\n",
    "#################################\n",
    "\n",
    "# YEAR_VENUE_WEIGHT = weight_year_venue/sum_\n",
    "# COAUTHOR_WEIGHT = weight_author/sum_\n",
    "# SENTENCE_WEIGHT = weight_sentence/sum_    \n",
    "\n",
    "COAUTHOR_WEIGHT = 0.4736842105\n",
    "YEAR_VENUE_WEIGHT = 0.0526315789\n",
    "SENTENCE_WEIGHT = 0.4736842105"
   ]
  },
  {
   "cell_type": "code",
   "execution_count": 22,
   "metadata": {},
   "outputs": [],
   "source": [
    "THRESHOLD = 0.2\n",
    "\n",
    "kaggle_predict = predict(\n",
    "            author=author,\n",
    "            year_venue=year_venue,\n",
    "            abstracts_title=abstracts_title,\n",
    "            YEAR_VENUE_WEIGHT=YEAR_VENUE_WEIGHT,\n",
    "            COAUTHOR_WEIGHT=COAUTHOR_WEIGHT,\n",
    "            SENTENCE_WEIGHT=SENTENCE_WEIGHT,\n",
    "            THRESHOLD=THRESHOLD\n",
    "        )"
   ]
  },
  {
   "cell_type": "code",
   "execution_count": 23,
   "metadata": {},
   "outputs": [],
   "source": [
    "kaggle = pd.DataFrame(columns=[\"ID\", \"Predict\"])\n",
    "kaggle['Predict'] = kaggle_predict\n",
    "kaggle['ID'] = kaggle.index\n",
    "kaggle = kaggle.set_index('ID')\n",
    "kaggle.to_csv(\"../../kaggle/predict_weighted_hhh.csv\")"
   ]
  },
  {
   "cell_type": "markdown",
   "metadata": {},
   "source": [
    "## Logistic Regression Model"
   ]
  },
  {
   "cell_type": "code",
   "execution_count": 11,
   "metadata": {},
   "outputs": [
    {
     "name": "stderr",
     "output_type": "stream",
     "text": [
      "100%|██████████| 9354/9354 [00:05<00:00, 1729.99it/s]\n"
     ]
    },
    {
     "name": "stdout",
     "output_type": "stream",
     "text": [
      "Score :  1.0\n"
     ]
    },
    {
     "data": {
      "text/html": [
       "<style>#sk-container-id-1 {color: black;background-color: white;}#sk-container-id-1 pre{padding: 0;}#sk-container-id-1 div.sk-toggleable {background-color: white;}#sk-container-id-1 label.sk-toggleable__label {cursor: pointer;display: block;width: 100%;margin-bottom: 0;padding: 0.3em;box-sizing: border-box;text-align: center;}#sk-container-id-1 label.sk-toggleable__label-arrow:before {content: \"▸\";float: left;margin-right: 0.25em;color: #696969;}#sk-container-id-1 label.sk-toggleable__label-arrow:hover:before {color: black;}#sk-container-id-1 div.sk-estimator:hover label.sk-toggleable__label-arrow:before {color: black;}#sk-container-id-1 div.sk-toggleable__content {max-height: 0;max-width: 0;overflow: hidden;text-align: left;background-color: #f0f8ff;}#sk-container-id-1 div.sk-toggleable__content pre {margin: 0.2em;color: black;border-radius: 0.25em;background-color: #f0f8ff;}#sk-container-id-1 input.sk-toggleable__control:checked~div.sk-toggleable__content {max-height: 200px;max-width: 100%;overflow: auto;}#sk-container-id-1 input.sk-toggleable__control:checked~label.sk-toggleable__label-arrow:before {content: \"▾\";}#sk-container-id-1 div.sk-estimator input.sk-toggleable__control:checked~label.sk-toggleable__label {background-color: #d4ebff;}#sk-container-id-1 div.sk-label input.sk-toggleable__control:checked~label.sk-toggleable__label {background-color: #d4ebff;}#sk-container-id-1 input.sk-hidden--visually {border: 0;clip: rect(1px 1px 1px 1px);clip: rect(1px, 1px, 1px, 1px);height: 1px;margin: -1px;overflow: hidden;padding: 0;position: absolute;width: 1px;}#sk-container-id-1 div.sk-estimator {font-family: monospace;background-color: #f0f8ff;border: 1px dotted black;border-radius: 0.25em;box-sizing: border-box;margin-bottom: 0.5em;}#sk-container-id-1 div.sk-estimator:hover {background-color: #d4ebff;}#sk-container-id-1 div.sk-parallel-item::after {content: \"\";width: 100%;border-bottom: 1px solid gray;flex-grow: 1;}#sk-container-id-1 div.sk-label:hover label.sk-toggleable__label {background-color: #d4ebff;}#sk-container-id-1 div.sk-serial::before {content: \"\";position: absolute;border-left: 1px solid gray;box-sizing: border-box;top: 0;bottom: 0;left: 50%;z-index: 0;}#sk-container-id-1 div.sk-serial {display: flex;flex-direction: column;align-items: center;background-color: white;padding-right: 0.2em;padding-left: 0.2em;position: relative;}#sk-container-id-1 div.sk-item {position: relative;z-index: 1;}#sk-container-id-1 div.sk-parallel {display: flex;align-items: stretch;justify-content: center;background-color: white;position: relative;}#sk-container-id-1 div.sk-item::before, #sk-container-id-1 div.sk-parallel-item::before {content: \"\";position: absolute;border-left: 1px solid gray;box-sizing: border-box;top: 0;bottom: 0;left: 50%;z-index: -1;}#sk-container-id-1 div.sk-parallel-item {display: flex;flex-direction: column;z-index: 1;position: relative;background-color: white;}#sk-container-id-1 div.sk-parallel-item:first-child::after {align-self: flex-end;width: 50%;}#sk-container-id-1 div.sk-parallel-item:last-child::after {align-self: flex-start;width: 50%;}#sk-container-id-1 div.sk-parallel-item:only-child::after {width: 0;}#sk-container-id-1 div.sk-dashed-wrapped {border: 1px dashed gray;margin: 0 0.4em 0.5em 0.4em;box-sizing: border-box;padding-bottom: 0.4em;background-color: white;}#sk-container-id-1 div.sk-label label {font-family: monospace;font-weight: bold;display: inline-block;line-height: 1.2em;}#sk-container-id-1 div.sk-label-container {text-align: center;}#sk-container-id-1 div.sk-container {/* jupyter's `normalize.less` sets `[hidden] { display: none; }` but bootstrap.min.css set `[hidden] { display: none !important; }` so we also need the `!important` here to be able to override the default hidden behavior on the sphinx rendered scikit-learn.org. See: https://github.com/scikit-learn/scikit-learn/issues/21755 */display: inline-block !important;position: relative;}#sk-container-id-1 div.sk-text-repr-fallback {display: none;}</style><div id=\"sk-container-id-1\" class=\"sk-top-container\"><div class=\"sk-text-repr-fallback\"><pre>LogisticRegression(random_state=0)</pre><b>In a Jupyter environment, please rerun this cell to show the HTML representation or trust the notebook. <br />On GitHub, the HTML representation is unable to render, please try loading this page with nbviewer.org.</b></div><div class=\"sk-container\" hidden><div class=\"sk-item\"><div class=\"sk-estimator sk-toggleable\"><input class=\"sk-toggleable__control sk-hidden--visually\" id=\"sk-estimator-id-1\" type=\"checkbox\" checked><label for=\"sk-estimator-id-1\" class=\"sk-toggleable__label sk-toggleable__label-arrow\">LogisticRegression</label><div class=\"sk-toggleable__content\"><pre>LogisticRegression(random_state=0)</pre></div></div></div></div></div>"
      ],
      "text/plain": [
       "LogisticRegression(random_state=0)"
      ]
     },
     "execution_count": 11,
     "metadata": {},
     "output_type": "execute_result"
    }
   ],
   "source": [
    "clf = LogisticRegressionPredictModel()\n",
    "clf.train(author_all, year_venue_all, abstracts_title_all, y_all)"
   ]
  },
  {
   "cell_type": "code",
   "execution_count": 12,
   "metadata": {},
   "outputs": [
    {
     "name": "stderr",
     "output_type": "stream",
     "text": [
      "100%|██████████| 800/800 [00:05<00:00, 138.30it/s]\n"
     ]
    }
   ],
   "source": [
    "kaggle_predict = clf.evaluation(author, year_venue, abstracts_title)"
   ]
  },
  {
   "cell_type": "code",
   "execution_count": 13,
   "metadata": {},
   "outputs": [],
   "source": [
    "kaggle = pd.DataFrame(columns=[\"ID\", \"Predict\"])\n",
    "kaggle['Predict'] = kaggle_predict\n",
    "kaggle['ID'] = kaggle.index\n",
    "kaggle = kaggle.set_index('ID')\n",
    "kaggle.to_csv(\"../../kaggle/predict_LR.csv\")"
   ]
  },
  {
   "cell_type": "markdown",
   "metadata": {},
   "source": [
    "## Election"
   ]
  },
  {
   "cell_type": "code",
   "execution_count": 55,
   "metadata": {},
   "outputs": [],
   "source": [
    "THRESHOLD_YV = 0.4\n",
    "THRESHOLD_AU = 0.6\n",
    "THRESHOLD_AT = 0.2\n",
    "\n",
    "kaggle_predict = []\n",
    "\n",
    "for i in range(800):\n",
    "    \n",
    "    preds_dict = {}\n",
    "    \n",
    "    for j in range(100):\n",
    "\n",
    "        # year & venue\n",
    "        yv = year_venue[str(i)][str(j)]\n",
    "        \n",
    "        if yv >= THRESHOLD_YV:\n",
    "            if j in preds_dict:\n",
    "                preds_dict[j] += 1\n",
    "            else:\n",
    "                preds_dict[j] = 1\n",
    "\n",
    "        # author\n",
    "        au = author[str(i)][str(j)]\n",
    "        \n",
    "        if au >= THRESHOLD_AU:\n",
    "            if j in preds_dict:\n",
    "                preds_dict[j] += 1\n",
    "            else:\n",
    "                preds_dict[j] = 1\n",
    "\n",
    "        # abstract & title\n",
    "        at = abstracts_title[str(i)][str(j)]\n",
    "        \n",
    "        if at >= THRESHOLD_AT:\n",
    "            if j in preds_dict:\n",
    "                preds_dict[j] += 1\n",
    "            else:\n",
    "                preds_dict[j] = 1\n",
    "\n",
    "    pred = \"\"\n",
    "    for au in preds_dict.keys():\n",
    "        if preds_dict[au] >= 1:\n",
    "            pred += str(au) + \" \"\n",
    "\n",
    "    if pred:\n",
    "        kaggle_predict.append(pred[:-1])\n",
    "    else:\n",
    "        kaggle_predict.append(\"-1\")\n",
    "\n",
    "        "
   ]
  },
  {
   "cell_type": "code",
   "execution_count": 56,
   "metadata": {},
   "outputs": [],
   "source": [
    "kaggle = pd.DataFrame(columns=[\"ID\", \"Predict\"])\n",
    "kaggle['Predict'] = kaggle_predict\n",
    "kaggle['ID'] = kaggle.index\n",
    "kaggle = kaggle.set_index('ID')\n",
    "kaggle.to_csv(\"../../kaggle/predict_election.csv\")"
   ]
  },
  {
   "cell_type": "markdown",
   "metadata": {},
   "source": [
    "## Prediction Describe"
   ]
  },
  {
   "cell_type": "code",
   "execution_count": 20,
   "metadata": {},
   "outputs": [
    {
     "name": "stdout",
     "output_type": "stream",
     "text": [
      "proportion of no authors  :  0.25\n",
      "number of having prolific authors  :  600\n"
     ]
    }
   ],
   "source": [
    "count = 0\n",
    "for i in kaggle['Predict']:\n",
    "    if i == '-1':\n",
    "        count += 1\n",
    "\n",
    "print('proportion of no authors  : ', count/800)\n",
    "print('number of having prolific authors  : ', 800-count)"
   ]
  },
  {
   "cell_type": "code",
   "execution_count": 21,
   "metadata": {},
   "outputs": [
    {
     "data": {
      "text/html": [
       "<div>\n",
       "<style scoped>\n",
       "    .dataframe tbody tr th:only-of-type {\n",
       "        vertical-align: middle;\n",
       "    }\n",
       "\n",
       "    .dataframe tbody tr th {\n",
       "        vertical-align: top;\n",
       "    }\n",
       "\n",
       "    .dataframe thead th {\n",
       "        text-align: right;\n",
       "    }\n",
       "</style>\n",
       "<table border=\"1\" class=\"dataframe\">\n",
       "  <thead>\n",
       "    <tr style=\"text-align: right;\">\n",
       "      <th></th>\n",
       "      <th>Predict</th>\n",
       "    </tr>\n",
       "    <tr>\n",
       "      <th>ID</th>\n",
       "      <th></th>\n",
       "    </tr>\n",
       "  </thead>\n",
       "  <tbody>\n",
       "    <tr>\n",
       "      <th>0</th>\n",
       "      <td>92</td>\n",
       "    </tr>\n",
       "    <tr>\n",
       "      <th>1</th>\n",
       "      <td>2 12</td>\n",
       "    </tr>\n",
       "    <tr>\n",
       "      <th>2</th>\n",
       "      <td>31</td>\n",
       "    </tr>\n",
       "    <tr>\n",
       "      <th>3</th>\n",
       "      <td>23</td>\n",
       "    </tr>\n",
       "    <tr>\n",
       "      <th>4</th>\n",
       "      <td>-1</td>\n",
       "    </tr>\n",
       "  </tbody>\n",
       "</table>\n",
       "</div>"
      ],
      "text/plain": [
       "   Predict\n",
       "ID        \n",
       "0       92\n",
       "1     2 12\n",
       "2       31\n",
       "3       23\n",
       "4       -1"
      ]
     },
     "execution_count": 21,
     "metadata": {},
     "output_type": "execute_result"
    }
   ],
   "source": [
    "kaggle.head()"
   ]
  },
  {
   "cell_type": "code",
   "execution_count": 19,
   "metadata": {},
   "outputs": [
    {
     "data": {
      "image/png": "[encoded data removed]",
      "text/plain": [
       "<Figure size 432x288 with 1 Axes>"
      ]
     },
     "metadata": {
      "needs_background": "light"
     },
     "output_type": "display_data"
    }
   ],
   "source": [
    "from matplotlib import pyplot as plt\n",
    "\n",
    "counts = {}\n",
    "for i in kaggle['Predict']:\n",
    "    if i == '-1':\n",
    "        if 0 in counts:\n",
    "            counts[0] += 1\n",
    "        else:\n",
    "            counts[0] = 1\n",
    "        continue\n",
    "\n",
    "    num_author = len(i.split())\n",
    "    if num_author in counts:\n",
    "        counts[num_author] += 1\n",
    "    else:\n",
    "        counts[num_author] = 1\n",
    "\n",
    "plt.bar(counts.keys(), counts.values())\n",
    "plt.show()"
   ]
  },
  {
   "cell_type": "code",
   "execution_count": 46,
   "metadata": {},
   "outputs": [
    {
     "name": "stderr",
     "output_type": "stream",
     "text": [
      "delet some useless data: 100%|██████████| 25793/25793 [00:00<00:00, 32653.70it/s]\n"
     ]
    },
    {
     "name": "stdout",
     "output_type": "stream",
     "text": [
      "Number of instance with label :  7460\n",
      "Number of instance without label(remain) :  1894\n"
     ]
    },
    {
     "name": "stderr",
     "output_type": "stream",
     "text": [
      "venue: 100%|██████████| 25793/25793 [00:04<00:00, 6334.01it/s]\n",
      "year: 100%|██████████| 25793/25793 [00:04<00:00, 6438.82it/s]\n",
      "authors: 100%|██████████| 25793/25793 [00:04<00:00, 5964.29it/s]\n",
      "100%|██████████| 9354/9354 [00:02<00:00, 3405.39it/s]\n"
     ]
    },
    {
     "data": {
      "image/png": "[encoded data removed]",
      "text/plain": [
       "<Figure size 432x288 with 1 Axes>"
      ]
     },
     "metadata": {
      "needs_background": "light"
     },
     "output_type": "display_data"
    }
   ],
   "source": [
    "from preprocessing import for_train\n",
    "X, y = for_train(\"year_venue\", p=0.20250)\n",
    "\n",
    "counts = {}\n",
    "for i in tqdm(y):\n",
    "    num_author = sum(i).item()\n",
    "    if num_author in counts:\n",
    "        counts[num_author] += 1\n",
    "    else:\n",
    "        counts[num_author] = 1\n",
    "\n",
    "plt.bar(counts.keys(), counts.values())\n",
    "plt.show()"
   ]
  },
  {
   "cell_type": "code",
   "execution_count": 73,
   "metadata": {},
   "outputs": [
    {
     "data": {
      "text/html": [
       "<div>\n",
       "<style scoped>\n",
       "    .dataframe tbody tr th:only-of-type {\n",
       "        vertical-align: middle;\n",
       "    }\n",
       "\n",
       "    .dataframe tbody tr th {\n",
       "        vertical-align: top;\n",
       "    }\n",
       "\n",
       "    .dataframe thead th {\n",
       "        text-align: right;\n",
       "    }\n",
       "</style>\n",
       "<table border=\"1\" class=\"dataframe\">\n",
       "  <thead>\n",
       "    <tr style=\"text-align: right;\">\n",
       "      <th></th>\n",
       "      <th>Predict</th>\n",
       "    </tr>\n",
       "    <tr>\n",
       "      <th>ID</th>\n",
       "      <th></th>\n",
       "    </tr>\n",
       "  </thead>\n",
       "  <tbody>\n",
       "    <tr>\n",
       "      <th>0</th>\n",
       "      <td>1 10 92</td>\n",
       "    </tr>\n",
       "    <tr>\n",
       "      <th>1</th>\n",
       "      <td>1 2</td>\n",
       "    </tr>\n",
       "    <tr>\n",
       "      <th>2</th>\n",
       "      <td>31</td>\n",
       "    </tr>\n",
       "    <tr>\n",
       "      <th>3</th>\n",
       "      <td>6 23</td>\n",
       "    </tr>\n",
       "    <tr>\n",
       "      <th>4</th>\n",
       "      <td>-1</td>\n",
       "    </tr>\n",
       "    <tr>\n",
       "      <th>...</th>\n",
       "      <td>...</td>\n",
       "    </tr>\n",
       "    <tr>\n",
       "      <th>795</th>\n",
       "      <td>1 54</td>\n",
       "    </tr>\n",
       "    <tr>\n",
       "      <th>796</th>\n",
       "      <td>97</td>\n",
       "    </tr>\n",
       "    <tr>\n",
       "      <th>797</th>\n",
       "      <td>13 71</td>\n",
       "    </tr>\n",
       "    <tr>\n",
       "      <th>798</th>\n",
       "      <td>-1</td>\n",
       "    </tr>\n",
       "    <tr>\n",
       "      <th>799</th>\n",
       "      <td>94</td>\n",
       "    </tr>\n",
       "  </tbody>\n",
       "</table>\n",
       "<p>800 rows × 1 columns</p>\n",
       "</div>"
      ],
      "text/plain": [
       "     Predict\n",
       "ID          \n",
       "0    1 10 92\n",
       "1        1 2\n",
       "2         31\n",
       "3       6 23\n",
       "4         -1\n",
       "..       ...\n",
       "795     1 54\n",
       "796       97\n",
       "797    13 71\n",
       "798       -1\n",
       "799       94\n",
       "\n",
       "[800 rows x 1 columns]"
      ]
     },
     "execution_count": 73,
     "metadata": {},
     "output_type": "execute_result"
    }
   ],
   "source": [
    "kaggle"
   ]
  },
  {
   "cell_type": "code",
   "execution_count": null,
   "metadata": {},
   "outputs": [],
   "source": []
  },
  {
   "cell_type": "markdown",
   "metadata": {},
   "source": [
    "# Kaggle Predictions\n",
    "\n",
    "- YEAR_VENUE_WEIGHT = 1/3\n",
    "- COAUTHOR_WEIGHT = 1/3\n",
    "- SENTENCE_WEIGHT = 1/3\n",
    "    - f1 = 0.47230"
   ]
  },
  {
   "cell_type": "markdown",
   "metadata": {},
   "source": [
    "# Kaggle Predictions - 2\n",
    "\n",
    "- YEAR_VENUE_WEIGHT = 0.08884680485159918.\n",
    "- COAUTHOR_WEIGHT = 0.5925861815691253\n",
    "- SENTENCE_WEIGHT = 0.3185670135792754\n",
    "    - f1 = 0.52080"
   ]
  },
  {
   "cell_type": "code",
   "execution_count": 21,
   "metadata": {},
   "outputs": [
    {
     "name": "stdout",
     "output_type": "stream",
     "text": [
      "0.09042157448160128\n",
      "0.5981903768759776\n",
      "0.31138804864242114\n"
     ]
    }
   ],
   "source": [
    "print(YEAR_VENUE_WEIGHT)\n",
    "print(COAUTHOR_WEIGHT)\n",
    "print(SENTENCE_WEIGHT)"
   ]
  },
  {
   "cell_type": "markdown",
   "metadata": {},
   "source": [
    "# Kaggle Predictions - Weighted （best）\n",
    "\n",
    "- YEAR_VENUE_WEIGHT = 0.09042157448160128\n",
    "- COAUTHOR_WEIGHT = 0.5981903768759776\n",
    "- SENTENCE_WEIGHT = 0.31138804864242114\n",
    "- THRESHOLD = 0.2\n",
    "    - f1 = 0.56880"
   ]
  },
  {
   "cell_type": "markdown",
   "metadata": {},
   "source": [
    "# Kaggle Predictions - Weighted\n",
    "\n",
    "- YEAR_VENUE_WEIGHT = 0.08346672643333612\n",
    "- COAUTHOR_WEIGHT = 0.586237115452411\n",
    "- SENTENCE_WEIGHT = 0.3302961581142529\n",
    "- THRESHOLD = 0.2\n",
    "    - f1 = 0.54747"
   ]
  },
  {
   "cell_type": "markdown",
   "metadata": {},
   "source": [
    "# Kaggle Predictions - 3\n",
    "\n",
    "- YEAR_VENUE_WEIGHT = 0.09421771031395267.\n",
    "- COAUTHOR_WEIGHT = 0.43393907367832263\n",
    "- SENTENCE_WEIGHT = 0.4718432160077247\n",
    "- THRESHOLD = 0.3\n",
    "    - f1 = 0.53130"
   ]
  },
  {
   "cell_type": "code",
   "execution_count": null,
   "metadata": {},
   "outputs": [],
   "source": []
  }
 ],
 "metadata": {
  "kernelspec": {
   "display_name": "Python 3.10.4 64-bit",
   "language": "python",
   "name": "python3"
  },
  "language_info": {
   "codemirror_mode": {
    "name": "ipython",
    "version": 3
   },
   "file_extension": ".py",
   "mimetype": "text/x-python",
   "name": "python",
   "nbconvert_exporter": "python",
   "pygments_lexer": "ipython3",
   "version": "3.10.4"
  },
  "orig_nbformat": 4,
  "vscode": {
   "interpreter": {
    "hash": "aee8b7b246df8f9039afb4144a1f6fd8d2ca17a180786b69acc140d282b71a49"
   }
  }
 },
 "nbformat": 4,
 "nbformat_minor": 2
}
