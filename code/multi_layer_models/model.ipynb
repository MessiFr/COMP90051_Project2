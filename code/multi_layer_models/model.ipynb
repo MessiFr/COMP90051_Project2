{
 "cells": [
  {
   "cell_type": "code",
   "execution_count": 16,
   "metadata": {},
   "outputs": [],
   "source": [
    "# from sklearn.datasets import make_multilabel_classification\n",
    "from torch.utils.data import Dataset\n",
    "import json\n",
    "import numpy as np\n",
    "import pandas as pd\n",
    "import torch\n",
    "import time\n",
    "from tqdm import tqdm"
   ]
  },
  {
   "cell_type": "code",
   "execution_count": 17,
   "metadata": {},
   "outputs": [],
   "source": [
    "f = open(\"outputs/year_venue.json\", 'r')\n",
    "year_venue = json.load(f)\n",
    "\n",
    "f = open(\"outputs/abstracts_title.json\", 'r')\n",
    "abstracts_title = json.load(f)\n",
    "\n",
    "f = open(\"outputs/author.json\", 'r')\n",
    "author = json.load(f)\n"
   ]
  },
  {
   "cell_type": "code",
   "execution_count": 31,
   "metadata": {},
   "outputs": [],
   "source": [
    "#################################\n",
    "w = 0.340472\n",
    "a = 0.633333\n",
    "y = 0.094956\n",
    "sum_ = w+a+y\n",
    "#################################\n",
    "\n",
    "YEAR_VENUE_WEIGHT = y/sum_\n",
    "COAUTHOR_WEIGHT = a/sum_\n",
    "SENTENCE_WEIGHT = w/sum_\n",
    "\n",
    "def get_weighted_value(i, j):\n",
    "    val1 = year_venue[i][j] * YEAR_VENUE_WEIGHT\n",
    "    val2 = author[i][j] * COAUTHOR_WEIGHT\n",
    "    val3 = abstracts_title[i][j] * SENTENCE_WEIGHT\n",
    "    \n",
    "    return val1 + val2 + val3\n",
    "    "
   ]
  },
  {
   "cell_type": "code",
   "execution_count": 32,
   "metadata": {},
   "outputs": [],
   "source": [
    "THRESHOLD = 0.2\n",
    "\n",
    "kaggle_predict = []\n",
    "\n",
    "for i in range(800):\n",
    "    \n",
    "    pred = \"\"\n",
    "    \n",
    "    for j in range(100):\n",
    "        \n",
    "        val = get_weighted_value(str(i), str(j))\n",
    "        \n",
    "        if val >= THRESHOLD:\n",
    "            pred += str(j) + \" \"\n",
    "#             print(pred)\n",
    "            \n",
    "    if pred:\n",
    "        kaggle_predict.append(pred[:-1])\n",
    "    else:\n",
    "        kaggle_predict.append(\"-1\")\n",
    "\n",
    "        "
   ]
  },
  {
   "cell_type": "code",
   "execution_count": 33,
   "metadata": {},
   "outputs": [],
   "source": [
    "kaggle = pd.DataFrame(columns=[\"ID\", \"Predict\"])\n",
    "kaggle['Predict'] = kaggle_predict\n",
    "kaggle['ID'] = kaggle.index\n",
    "kaggle = kaggle.set_index('ID')\n",
    "kaggle.to_csv(\"../../kaggle/predict_stacking_1.csv\")"
   ]
  },
  {
   "cell_type": "code",
   "execution_count": 34,
   "metadata": {},
   "outputs": [
    {
     "data": {
      "text/plain": [
       "486"
      ]
     },
     "execution_count": 34,
     "metadata": {},
     "output_type": "execute_result"
    }
   ],
   "source": [
    "count = 0\n",
    "for i in kaggle['Predict']:\n",
    "    if i != '-1':\n",
    "        count += 1\n",
    "\n",
    "count"
   ]
  },
  {
   "cell_type": "markdown",
   "metadata": {},
   "source": [
    "# Kaggle Predictions\n",
    "\n",
    "- YEAR_VENUE_WEIGHT = 1/3\n",
    "- COAUTHOR_WEIGHT = 1/3\n",
    "- SENTENCE_WEIGHT = 1/3\n",
    "    - f1 = 0.47230"
   ]
  },
  {
   "cell_type": "markdown",
   "metadata": {},
   "source": [
    "# Kaggle Predictions - 2\n",
    "\n",
    "- YEAR_VENUE_WEIGHT = 0.08884680485159918.\n",
    "- COAUTHOR_WEIGHT = 0.5925861815691253\n",
    "- SENTENCE_WEIGHT = 0.3185670135792754\n",
    "    - f1 = 0.52080"
   ]
  },
  {
   "cell_type": "markdown",
   "metadata": {},
   "source": []
  }
 ],
 "metadata": {
  "kernelspec": {
   "display_name": "Python 3.10.4 64-bit",
   "language": "python",
   "name": "python3"
  },
  "language_info": {
   "codemirror_mode": {
    "name": "ipython",
    "version": 3
   },
   "file_extension": ".py",
   "mimetype": "text/x-python",
   "name": "python",
   "nbconvert_exporter": "python",
   "pygments_lexer": "ipython3",
   "version": "3.10.4"
  },
  "orig_nbformat": 4,
  "vscode": {
   "interpreter": {
    "hash": "aee8b7b246df8f9039afb4144a1f6fd8d2ca17a180786b69acc140d282b71a49"
   }
  }
 },
 "nbformat": 4,
 "nbformat_minor": 2
}
