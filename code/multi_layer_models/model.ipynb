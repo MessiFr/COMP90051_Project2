{
 "cells": [
  {
   "cell_type": "code",
   "execution_count": 6,
   "metadata": {},
   "outputs": [],
   "source": [
    "# from sklearn.datasets import make_multilabel_classification\n",
    "from torch.utils.data import Dataset\n",
    "import json\n",
    "import numpy as np\n",
    "import pandas as pd\n",
    "import torch\n",
    "import time\n",
    "from tqdm import tqdm"
   ]
  },
  {
   "cell_type": "code",
   "execution_count": 7,
   "metadata": {},
   "outputs": [],
   "source": [
    "# f = open(\"outputs/year_venue.json\", 'r')\n",
    "f = open(\"outputs/year_venue_naive_bayes.json\", 'r')\n",
    "year_venue = json.load(f)\n",
    "\n",
    "f = open(\"outputs/abstracts_title.json\", 'r')\n",
    "abstracts_title = json.load(f)\n",
    "\n",
    "f = open(\"outputs/author.json\", 'r')\n",
    "author = json.load(f)\n"
   ]
  },
  {
   "cell_type": "code",
   "execution_count": 8,
   "metadata": {},
   "outputs": [],
   "source": [
    "#################################\n",
    "w = 1  # abstracts - title\n",
    "a = 1  # authors\n",
    "y = 1  # year - venue\n",
    "sum_ = w+a+y\n",
    "#################################\n",
    "\n",
    "YEAR_VENUE_WEIGHT = y/sum_\n",
    "COAUTHOR_WEIGHT = a/sum_\n",
    "SENTENCE_WEIGHT = w/sum_\n",
    "\n",
    "def get_weighted_value(i, j):\n",
    "    val1 = year_venue[i][j] * YEAR_VENUE_WEIGHT\n",
    "    val2 = author[i][j] * COAUTHOR_WEIGHT\n",
    "    val3 = abstracts_title[i][j] * SENTENCE_WEIGHT\n",
    "    \n",
    "    return val1 + val2 + val3\n",
    "    "
   ]
  },
  {
   "cell_type": "code",
   "execution_count": 12,
   "metadata": {},
   "outputs": [],
   "source": [
    "THRESHOLD = 0.2\n",
    "\n",
    "kaggle_predict = []\n",
    "\n",
    "for i in range(800):\n",
    "    \n",
    "    pred = \"\"\n",
    "    \n",
    "    for j in range(100):\n",
    "        \n",
    "        val = get_weighted_value(str(i), str(j))\n",
    "        \n",
    "        if val >= THRESHOLD:\n",
    "            pred += str(j) + \" \"\n",
    "#             print(pred)\n",
    "            \n",
    "    if pred:\n",
    "        kaggle_predict.append(pred[:-1])\n",
    "    else:\n",
    "        kaggle_predict.append(\"-1\")\n",
    "\n",
    "        "
   ]
  },
  {
   "cell_type": "code",
   "execution_count": 13,
   "metadata": {},
   "outputs": [],
   "source": [
    "kaggle = pd.DataFrame(columns=[\"ID\", \"Predict\"])\n",
    "kaggle['Predict'] = kaggle_predict\n",
    "kaggle['ID'] = kaggle.index\n",
    "kaggle = kaggle.set_index('ID')\n",
    "kaggle.to_csv(\"../../kaggle/predict_stacking_10_3.csv\")"
   ]
  },
  {
   "cell_type": "code",
   "execution_count": 14,
   "metadata": {},
   "outputs": [
    {
     "data": {
      "text/plain": [
       "544"
      ]
     },
     "execution_count": 14,
     "metadata": {},
     "output_type": "execute_result"
    }
   ],
   "source": [
    "count = 0\n",
    "for i in kaggle['Predict']:\n",
    "    if i != '-1':\n",
    "        count += 1\n",
    "\n",
    "count"
   ]
  },
  {
   "cell_type": "markdown",
   "metadata": {},
   "source": [
    "# Kaggle Predictions\n",
    "\n",
    "- YEAR_VENUE_WEIGHT = 1/3\n",
    "- COAUTHOR_WEIGHT = 1/3\n",
    "- SENTENCE_WEIGHT = 1/3\n",
    "    - f1 = 0.47230"
   ]
  },
  {
   "cell_type": "markdown",
   "metadata": {},
   "source": [
    "# Kaggle Predictions - 2\n",
    "\n",
    "- YEAR_VENUE_WEIGHT = 0.08884680485159918.\n",
    "- COAUTHOR_WEIGHT = 0.5925861815691253\n",
    "- SENTENCE_WEIGHT = 0.3185670135792754\n",
    "    - f1 = 0.52080"
   ]
  },
  {
   "cell_type": "code",
   "execution_count": 49,
   "metadata": {},
   "outputs": [
    {
     "name": "stdout",
     "output_type": "stream",
     "text": [
      "0.09421771031395267\n",
      "0.43393907367832263\n",
      "0.4718432160077247\n"
     ]
    }
   ],
   "source": [
    "print(YEAR_VENUE_WEIGHT)\n",
    "print(COAUTHOR_WEIGHT)\n",
    "print(SENTENCE_WEIGHT)"
   ]
  },
  {
   "cell_type": "markdown",
   "metadata": {},
   "source": [
    "# Kaggle Predictions - 3\n",
    "\n",
    "- YEAR_VENUE_WEIGHT = 0.09421771031395267.\n",
    "- COAUTHOR_WEIGHT = 0.43393907367832263\n",
    "- SENTENCE_WEIGHT = 0.4718432160077247\n",
    "- THRESHOLD = 0.3\n",
    "    - f1 = 0.53130"
   ]
  },
  {
   "cell_type": "code",
   "execution_count": 43,
   "metadata": {},
   "outputs": [],
   "source": [
    "a = [0.9566845690739418,\n",
    " 0.9977403210423819,\n",
    " 0.9990949067782368,\n",
    " 0.9995765717884457,\n",
    " 0.9996834779248579,\n",
    " 0.9996834779248579,\n",
    " 0.9997960250953476,\n",
    " 0.9997906369281058,\n",
    " 0.9997804862444465]\n",
    "\n",
    "b = [0.9140499814085832,\n",
    " 0.9172208109372708,\n",
    " 0.9194803406690103,\n",
    " 0.9028562145490067,\n",
    " 0.9062611898144489,\n",
    " 0.9100093884489224,\n",
    " 0.9120535730073112,\n",
    " 0.9109805733621669,\n",
    " 0.9083259223343757]\n",
    "\n",
    "c = [0.03217569098314048,\n",
    " 0.033274246786204,\n",
    " 0.09689634519674081,\n",
    " 0.1266490732680644,\n",
    " 0.18306285315357687,\n",
    " 0.19963939094534452,\n",
    " 0.1829821136259908,\n",
    " 0.15826426166468657,\n",
    " 0.1324441261793674]"
   ]
  },
  {
   "cell_type": "code",
   "execution_count": 46,
   "metadata": {},
   "outputs": [],
   "source": [
    "max_ = 0\n",
    "idx = 0\n",
    "for i in range(len(a)):\n",
    "    if a[i] + b[i] + c[i] >= max_:\n",
    "        max_ = a[i] + b[i] + c[i]\n",
    "        idx = i"
   ]
  },
  {
   "cell_type": "code",
   "execution_count": 48,
   "metadata": {},
   "outputs": [
    {
     "data": {
      "text/plain": [
       "0.3"
      ]
     },
     "execution_count": 48,
     "metadata": {},
     "output_type": "execute_result"
    }
   ],
   "source": [
    "thresholds = [0.01, 0.02, 0.05, 0.1, 0.2, 0.3, 0.4, 0.5, 0.6]\n",
    "thresholds[5]"
   ]
  },
  {
   "cell_type": "code",
   "execution_count": null,
   "metadata": {},
   "outputs": [],
   "source": []
  }
 ],
 "metadata": {
  "kernelspec": {
   "display_name": "Python 3.10.4 64-bit",
   "language": "python",
   "name": "python3"
  },
  "language_info": {
   "codemirror_mode": {
    "name": "ipython",
    "version": 3
   },
   "file_extension": ".py",
   "mimetype": "text/x-python",
   "name": "python",
   "nbconvert_exporter": "python",
   "pygments_lexer": "ipython3",
   "version": "3.10.4"
  },
  "orig_nbformat": 4,
  "vscode": {
   "interpreter": {
    "hash": "aee8b7b246df8f9039afb4144a1f6fd8d2ca17a180786b69acc140d282b71a49"
   }
  }
 },
 "nbformat": 4,
 "nbformat_minor": 2
}
