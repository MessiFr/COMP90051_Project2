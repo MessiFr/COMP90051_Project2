{
 "cells": [
  {
   "cell_type": "code",
   "execution_count": 31,
   "metadata": {},
   "outputs": [],
   "source": [
    "# from sklearn.datasets import make_multilabel_classification\n",
    "from torch.utils.data import Dataset\n",
    "from NN_Models import LogisticRegressionSplit\n",
    "from preprocessing import for_kaggle\n",
    "from evaluation import predict\n",
    "\n",
    "import json\n",
    "import numpy as np\n",
    "import pandas as pd\n",
    "import torch\n",
    "import time\n",
    "from tqdm import tqdm"
   ]
  },
  {
   "cell_type": "code",
   "execution_count": 32,
   "metadata": {},
   "outputs": [],
   "source": [
    "# f = open(\"outputs/year_venue_naive_bayes.json\", 'r')\n",
    "f = open(\"outputs/year_venue.json\", 'r')\n",
    "year_venue = json.load(f)\n",
    "\n",
    "f = open(\"outputs/abstract_title.json\", 'r')\n",
    "abstracts_title = json.load(f)\n",
    "\n",
    "f = open(\"outputs/author.json\", 'r')\n",
    "author = json.load(f)"
   ]
  },
  {
   "cell_type": "markdown",
   "metadata": {},
   "source": [
    "## Weighted"
   ]
  },
  {
   "cell_type": "code",
   "execution_count": 33,
   "metadata": {},
   "outputs": [],
   "source": [
    "#################################\n",
    "weight_sentence = 0.34228285295777994  # abstracts - title\n",
    "weight_author = 0.6230497116557763  # authors\n",
    "weight_year_venue = 0.09389756213513412  # year - venue\n",
    "\n",
    "sum_ = weight_author + weight_sentence + weight_year_venue\n",
    "#################################\n",
    "\n",
    "YEAR_VENUE_WEIGHT = weight_year_venue/sum_\n",
    "COAUTHOR_WEIGHT = weight_author/sum_\n",
    "SENTENCE_WEIGHT = weight_sentence/sum_    "
   ]
  },
  {
   "cell_type": "code",
   "execution_count": 25,
   "metadata": {},
   "outputs": [
    {
     "name": "stderr",
     "output_type": "stream",
     "text": [
      "authors: 100%|██████████| 800/800 [00:00<00:00, 22607.91it/s]\n",
      "delet some useless data: 100%|██████████| 25793/25793 [00:00<00:00, 67264.90it/s]\n"
     ]
    },
    {
     "name": "stdout",
     "output_type": "stream",
     "text": [
      "Number of instance with label :  7460\n",
      "Number of instance without label(remain) :  1894\n"
     ]
    },
    {
     "name": "stderr",
     "output_type": "stream",
     "text": [
      "authors: 100%|██████████| 25793/25793 [00:04<00:00, 5941.14it/s]\n"
     ]
    },
    {
     "name": "stdout",
     "output_type": "stream",
     "text": [
      "Accuracy of split (prolific authors) & (no prolific authors)  :  0.9181098995082317\n"
     ]
    }
   ],
   "source": [
    "p = 0.20250\n",
    "\n",
    "X_kaggle = for_kaggle('coauthor', type='numpy')\n",
    "has_author_dict = LogisticRegressionSplit(X_kaggle, p=p)"
   ]
  },
  {
   "cell_type": "code",
   "execution_count": 26,
   "metadata": {},
   "outputs": [
    {
     "data": {
      "text/plain": [
       "800"
      ]
     },
     "execution_count": 26,
     "metadata": {},
     "output_type": "execute_result"
    }
   ],
   "source": [
    "len(has_author_dict['no_pauthor']) + len(has_author_dict['have_pauthor'])"
   ]
  },
  {
   "cell_type": "code",
   "execution_count": 35,
   "metadata": {},
   "outputs": [],
   "source": [
    "THRESHOLD = 0.2\n",
    "\n",
    "kaggle_predict = predict(\n",
    "            author=author,\n",
    "            year_venue=year_venue,\n",
    "            abstracts_title=abstracts_title,\n",
    "            YEAR_VENUE_WEIGHT=YEAR_VENUE_WEIGHT,\n",
    "            COAUTHOR_WEIGHT=COAUTHOR_WEIGHT,\n",
    "            SENTENCE_WEIGHT=SENTENCE_WEIGHT,\n",
    "            THRESHOLD=THRESHOLD\n",
    "        )"
   ]
  },
  {
   "cell_type": "code",
   "execution_count": 36,
   "metadata": {},
   "outputs": [],
   "source": [
    "kaggle = pd.DataFrame(columns=[\"ID\", \"Predict\"])\n",
    "kaggle['Predict'] = kaggle_predict\n",
    "kaggle['ID'] = kaggle.index\n",
    "kaggle = kaggle.set_index('ID')\n",
    "kaggle.to_csv(\"../../kaggle/predict_weighted_messi.csv\")"
   ]
  },
  {
   "cell_type": "code",
   "execution_count": null,
   "metadata": {},
   "outputs": [],
   "source": []
  },
  {
   "cell_type": "code",
   "execution_count": null,
   "metadata": {},
   "outputs": [],
   "source": []
  },
  {
   "cell_type": "markdown",
   "metadata": {},
   "source": [
    "## Election"
   ]
  },
  {
   "cell_type": "code",
   "execution_count": 55,
   "metadata": {},
   "outputs": [],
   "source": [
    "THRESHOLD_YV = 0.4\n",
    "THRESHOLD_AU = 0.6\n",
    "THRESHOLD_AT = 0.2\n",
    "\n",
    "kaggle_predict = []\n",
    "\n",
    "for i in range(800):\n",
    "    \n",
    "    preds_dict = {}\n",
    "    \n",
    "    for j in range(100):\n",
    "\n",
    "        # year & venue\n",
    "        yv = year_venue[str(i)][str(j)]\n",
    "        \n",
    "        if yv >= THRESHOLD_YV:\n",
    "            if j in preds_dict:\n",
    "                preds_dict[j] += 1\n",
    "            else:\n",
    "                preds_dict[j] = 1\n",
    "\n",
    "        # author\n",
    "        au = author[str(i)][str(j)]\n",
    "        \n",
    "        if au >= THRESHOLD_AU:\n",
    "            if j in preds_dict:\n",
    "                preds_dict[j] += 1\n",
    "            else:\n",
    "                preds_dict[j] = 1\n",
    "\n",
    "        # abstract & title\n",
    "        at = abstracts_title[str(i)][str(j)]\n",
    "        \n",
    "        if at >= THRESHOLD_AT:\n",
    "            if j in preds_dict:\n",
    "                preds_dict[j] += 1\n",
    "            else:\n",
    "                preds_dict[j] = 1\n",
    "\n",
    "    pred = \"\"\n",
    "    for au in preds_dict.keys():\n",
    "        if preds_dict[au] >= 1:\n",
    "            pred += str(au) + \" \"\n",
    "\n",
    "    if pred:\n",
    "        kaggle_predict.append(pred[:-1])\n",
    "    else:\n",
    "        kaggle_predict.append(\"-1\")\n",
    "\n",
    "        "
   ]
  },
  {
   "cell_type": "code",
   "execution_count": 56,
   "metadata": {},
   "outputs": [],
   "source": [
    "kaggle = pd.DataFrame(columns=[\"ID\", \"Predict\"])\n",
    "kaggle['Predict'] = kaggle_predict\n",
    "kaggle['ID'] = kaggle.index\n",
    "kaggle = kaggle.set_index('ID')\n",
    "kaggle.to_csv(\"../../kaggle/predict_election.csv\")"
   ]
  },
  {
   "cell_type": "markdown",
   "metadata": {},
   "source": [
    "## Test"
   ]
  },
  {
   "cell_type": "code",
   "execution_count": 37,
   "metadata": {},
   "outputs": [
    {
     "name": "stdout",
     "output_type": "stream",
     "text": [
      "proportion of no authors  :  0.3375\n",
      "number of having prolific authors  :  530\n"
     ]
    }
   ],
   "source": [
    "count = 0\n",
    "for i in kaggle['Predict']:\n",
    "    if i == '-1':\n",
    "        count += 1\n",
    "\n",
    "print('proportion of no authors  : ', count/800)\n",
    "print('number of having prolific authors  : ', 800-count)"
   ]
  },
  {
   "cell_type": "code",
   "execution_count": 38,
   "metadata": {},
   "outputs": [
    {
     "data": {
      "image/png": "[encoded data removed]",
      "text/plain": [
       "<Figure size 432x288 with 1 Axes>"
      ]
     },
     "metadata": {
      "needs_background": "light"
     },
     "output_type": "display_data"
    }
   ],
   "source": [
    "from matplotlib import pyplot as plt\n",
    "\n",
    "counts = {}\n",
    "for i in kaggle['Predict']:\n",
    "    if i == '-1':\n",
    "        if 0 in counts:\n",
    "            counts[0] += 1\n",
    "        else:\n",
    "            counts[0] = 1\n",
    "        continue\n",
    "\n",
    "    num_author = len(i.split())\n",
    "    if num_author in counts:\n",
    "        counts[num_author] += 1\n",
    "    else:\n",
    "        counts[num_author] = 1\n",
    "\n",
    "plt.bar(counts.keys(), counts.values())\n",
    "plt.show()"
   ]
  },
  {
   "cell_type": "code",
   "execution_count": 46,
   "metadata": {},
   "outputs": [
    {
     "name": "stderr",
     "output_type": "stream",
     "text": [
      "delet some useless data: 100%|██████████| 25793/25793 [00:00<00:00, 32653.70it/s]\n"
     ]
    },
    {
     "name": "stdout",
     "output_type": "stream",
     "text": [
      "Number of instance with label :  7460\n",
      "Number of instance without label(remain) :  1894\n"
     ]
    },
    {
     "name": "stderr",
     "output_type": "stream",
     "text": [
      "venue: 100%|██████████| 25793/25793 [00:04<00:00, 6334.01it/s]\n",
      "year: 100%|██████████| 25793/25793 [00:04<00:00, 6438.82it/s]\n",
      "authors: 100%|██████████| 25793/25793 [00:04<00:00, 5964.29it/s]\n",
      "100%|██████████| 9354/9354 [00:02<00:00, 3405.39it/s]\n"
     ]
    },
    {
     "data": {
      "image/png": "[encoded data removed]",
      "text/plain": [
       "<Figure size 432x288 with 1 Axes>"
      ]
     },
     "metadata": {
      "needs_background": "light"
     },
     "output_type": "display_data"
    }
   ],
   "source": [
    "from preprocessing import for_train\n",
    "X, y = for_train(\"year_venue\", p=0.20250)\n",
    "\n",
    "counts = {}\n",
    "for i in tqdm(y):\n",
    "    num_author = sum(i).item()\n",
    "    if num_author in counts:\n",
    "        counts[num_author] += 1\n",
    "    else:\n",
    "        counts[num_author] = 1\n",
    "\n",
    "plt.bar(counts.keys(), counts.values())\n",
    "plt.show()"
   ]
  },
  {
   "cell_type": "code",
   "execution_count": 73,
   "metadata": {},
   "outputs": [
    {
     "data": {
      "text/html": [
       "<div>\n",
       "<style scoped>\n",
       "    .dataframe tbody tr th:only-of-type {\n",
       "        vertical-align: middle;\n",
       "    }\n",
       "\n",
       "    .dataframe tbody tr th {\n",
       "        vertical-align: top;\n",
       "    }\n",
       "\n",
       "    .dataframe thead th {\n",
       "        text-align: right;\n",
       "    }\n",
       "</style>\n",
       "<table border=\"1\" class=\"dataframe\">\n",
       "  <thead>\n",
       "    <tr style=\"text-align: right;\">\n",
       "      <th></th>\n",
       "      <th>Predict</th>\n",
       "    </tr>\n",
       "    <tr>\n",
       "      <th>ID</th>\n",
       "      <th></th>\n",
       "    </tr>\n",
       "  </thead>\n",
       "  <tbody>\n",
       "    <tr>\n",
       "      <th>0</th>\n",
       "      <td>1 10 92</td>\n",
       "    </tr>\n",
       "    <tr>\n",
       "      <th>1</th>\n",
       "      <td>1 2</td>\n",
       "    </tr>\n",
       "    <tr>\n",
       "      <th>2</th>\n",
       "      <td>31</td>\n",
       "    </tr>\n",
       "    <tr>\n",
       "      <th>3</th>\n",
       "      <td>6 23</td>\n",
       "    </tr>\n",
       "    <tr>\n",
       "      <th>4</th>\n",
       "      <td>-1</td>\n",
       "    </tr>\n",
       "    <tr>\n",
       "      <th>...</th>\n",
       "      <td>...</td>\n",
       "    </tr>\n",
       "    <tr>\n",
       "      <th>795</th>\n",
       "      <td>1 54</td>\n",
       "    </tr>\n",
       "    <tr>\n",
       "      <th>796</th>\n",
       "      <td>97</td>\n",
       "    </tr>\n",
       "    <tr>\n",
       "      <th>797</th>\n",
       "      <td>13 71</td>\n",
       "    </tr>\n",
       "    <tr>\n",
       "      <th>798</th>\n",
       "      <td>-1</td>\n",
       "    </tr>\n",
       "    <tr>\n",
       "      <th>799</th>\n",
       "      <td>94</td>\n",
       "    </tr>\n",
       "  </tbody>\n",
       "</table>\n",
       "<p>800 rows × 1 columns</p>\n",
       "</div>"
      ],
      "text/plain": [
       "     Predict\n",
       "ID          \n",
       "0    1 10 92\n",
       "1        1 2\n",
       "2         31\n",
       "3       6 23\n",
       "4         -1\n",
       "..       ...\n",
       "795     1 54\n",
       "796       97\n",
       "797    13 71\n",
       "798       -1\n",
       "799       94\n",
       "\n",
       "[800 rows x 1 columns]"
      ]
     },
     "execution_count": 73,
     "metadata": {},
     "output_type": "execute_result"
    }
   ],
   "source": [
    "kaggle"
   ]
  },
  {
   "cell_type": "code",
   "execution_count": null,
   "metadata": {},
   "outputs": [],
   "source": []
  },
  {
   "cell_type": "markdown",
   "metadata": {},
   "source": [
    "# Kaggle Predictions\n",
    "\n",
    "- YEAR_VENUE_WEIGHT = 1/3\n",
    "- COAUTHOR_WEIGHT = 1/3\n",
    "- SENTENCE_WEIGHT = 1/3\n",
    "    - f1 = 0.47230"
   ]
  },
  {
   "cell_type": "markdown",
   "metadata": {},
   "source": [
    "# Kaggle Predictions - 2\n",
    "\n",
    "- YEAR_VENUE_WEIGHT = 0.08884680485159918.\n",
    "- COAUTHOR_WEIGHT = 0.5925861815691253\n",
    "- SENTENCE_WEIGHT = 0.3185670135792754\n",
    "    - f1 = 0.52080"
   ]
  },
  {
   "cell_type": "code",
   "execution_count": 22,
   "metadata": {},
   "outputs": [
    {
     "name": "stdout",
     "output_type": "stream",
     "text": [
      "0.08346672643333612\n",
      "0.586237115452411\n",
      "0.3302961581142529\n"
     ]
    }
   ],
   "source": [
    "print(YEAR_VENUE_WEIGHT)\n",
    "print(COAUTHOR_WEIGHT)\n",
    "print(SENTENCE_WEIGHT)"
   ]
  },
  {
   "cell_type": "markdown",
   "metadata": {},
   "source": [
    "# Kaggle Predictions - Weighted\n",
    "\n",
    "- YEAR_VENUE_WEIGHT = 0.08346672643333612\n",
    "- COAUTHOR_WEIGHT = 0.586237115452411\n",
    "- SENTENCE_WEIGHT = 0.3302961581142529\n",
    "- THRESHOLD = 0.2\n",
    "    - f1 = 0.54747"
   ]
  },
  {
   "cell_type": "markdown",
   "metadata": {},
   "source": [
    "# Kaggle Predictions - 3\n",
    "\n",
    "- YEAR_VENUE_WEIGHT = 0.09421771031395267.\n",
    "- COAUTHOR_WEIGHT = 0.43393907367832263\n",
    "- SENTENCE_WEIGHT = 0.4718432160077247\n",
    "- THRESHOLD = 0.3\n",
    "    - f1 = 0.53130"
   ]
  },
  {
   "cell_type": "code",
   "execution_count": null,
   "metadata": {},
   "outputs": [],
   "source": []
  }
 ],
 "metadata": {
  "kernelspec": {
   "display_name": "Python 3.10.4 64-bit",
   "language": "python",
   "name": "python3"
  },
  "language_info": {
   "codemirror_mode": {
    "name": "ipython",
    "version": 3
   },
   "file_extension": ".py",
   "mimetype": "text/x-python",
   "name": "python",
   "nbconvert_exporter": "python",
   "pygments_lexer": "ipython3",
   "version": "3.10.4"
  },
  "orig_nbformat": 4,
  "vscode": {
   "interpreter": {
    "hash": "aee8b7b246df8f9039afb4144a1f6fd8d2ca17a180786b69acc140d282b71a49"
   }
  }
 },
 "nbformat": 4,
 "nbformat_minor": 2
}
