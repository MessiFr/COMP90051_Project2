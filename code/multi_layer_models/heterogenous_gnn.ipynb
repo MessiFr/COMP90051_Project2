{
 "cells": [
  {
   "cell_type": "code",
   "execution_count": 203,
   "metadata": {},
   "outputs": [],
   "source": [
    "import torch\n",
    "import networkx as nx\n",
    "from torch_geometric.nn import SAGEConv, to_hetero\n",
    "from torch import optim\n",
    "import torch_geometric.transforms as T\n",
    "import matplotlib.pyplot as plt\n",
    "from tqdm import tqdm\n",
    "from sklearn.metrics import accuracy_score, recall_score, f1_score\n",
    "from gensim.models.doc2vec import Doc2Vec, TaggedDocument\n",
    "from torch_geometric.data import HeteroData\n",
    "from evaluation import *\n",
    "from NN_Models import *\n",
    "import json\n",
    "import numpy as np\n",
    "import pandas as pd\n",
    "from preprocessing import *"
   ]
  },
  {
   "cell_type": "code",
   "execution_count": 2,
   "metadata": {},
   "outputs": [],
   "source": [
    "f = open('../../data/train.json', 'rb')\n",
    "train_raw = json.load(f)\n",
    "\n",
    "f = open('../../data/test.json', 'rb')\n",
    "test_raw = json.load(f)\n",
    "\n",
    "f_train = open(\"data/discard_index.json\", 'r')\n",
    "discard = json.load(f_train)['discard_index']"
   ]
  },
  {
   "cell_type": "code",
   "execution_count": 15,
   "metadata": {},
   "outputs": [],
   "source": [
    "num_words = 4999\n",
    "num_coauthor = 21245-100+1\n",
    "num_class = 100\n",
    "num_venue = 465\n",
    "num_year = 20"
   ]
  },
  {
   "cell_type": "code",
   "execution_count": 3,
   "metadata": {},
   "outputs": [
    {
     "name": "stdout",
     "output_type": "stream",
     "text": [
      "discard length =  16439\n",
      "remain data length =  9354\n",
      "train length :  7483\n",
      "train keys  :  dict_keys(['authors', 'year', 'abstract', 'venue', 'title'])\n",
      "test keys   :  dict_keys(['identifier', 'coauthors', 'year', 'abstract', 'venue', 'title'])\n"
     ]
    }
   ],
   "source": [
    "print(\"discard length = \", len(discard))\n",
    "print(\"remain data length = \", len(train_raw) - len(discard))\n",
    "train_len = int(0.8 * (len(train_raw) - len(discard)))\n",
    "print(\"train length : \", train_len)\n",
    "\n",
    "print(\"train keys  : \", train_data[0].keys())\n",
    "print(\"test keys   : \", test_data[0].keys())"
   ]
  },
  {
   "cell_type": "markdown",
   "metadata": {},
   "source": [
    "### Create Heterogenous Dataset"
   ]
  },
  {
   "cell_type": "code",
   "execution_count": 4,
   "metadata": {},
   "outputs": [
    {
     "name": "stderr",
     "output_type": "stream",
     "text": [
      "creating hetero data (train): 100%|██████████| 25793/25793 [00:35<00:00, 716.97it/s]\n",
      "creating hetero data (kaggle): 100%|██████████| 800/800 [00:02<00:00, 273.31it/s]\n"
     ]
    }
   ],
   "source": [
    "train_df = pd.DataFrame(columns=['year', 'venue', 'coauthor', 'pauthor', 'text', 'train_mask', 'val_mask', 'test_mask'])\n",
    "\n",
    "index = 0\n",
    "for i in tqdm(range(len(train_raw)), desc=\"creating hetero data (train)\"):\n",
    "    if i not in discard:\n",
    "        train_df.loc[index, 'year'] = train_raw[i]['year']\n",
    "        if train_raw[i]['venue']:\n",
    "            train_df.loc[index, 'venue'] = train_raw[i]['venue']\n",
    "        else:\n",
    "            train_df.loc[index, 'venue'] = -1\n",
    "        coauthor = [0 for _ in range(num_coauthor)]\n",
    "        pauthor = [0 for _ in range(num_class)]\n",
    "        for j in train_raw[i]['authors']:\n",
    "            if j < 100:\n",
    "                pauthor[j] += 1\n",
    "            else:\n",
    "                coauthor[j-num_class] += 1\n",
    "        train_df.loc[index, 'coauthor'] = coauthor\n",
    "        train_df.loc[index, 'pauthor'] = pauthor\n",
    "        train_df.loc[index, 'text'] = train_raw[i]['abstract'] + train_raw[i]['title']\n",
    "        if index < train_len:\n",
    "            train_df.loc[index, 'train_mask'] = False\n",
    "            train_df.loc[index, 'val_mask'] = True\n",
    "        else:\n",
    "            train_df.loc[index, 'train_mask'] = True\n",
    "            train_df.loc[index, 'val_mask'] = False\n",
    "        train_df.loc[index, 'test_mask'] = True\n",
    "        index += 1\n",
    "\n",
    "for i in tqdm(range(len(test_raw)), desc=\"creating hetero data (kaggle)\"):\n",
    "    \n",
    "    train_df.loc[index, 'year'] = test_raw[i]['year']\n",
    "    if test_raw[i]['venue']:\n",
    "        train_df.loc[index, 'venue'] = test_raw[i]['venue']\n",
    "    else:\n",
    "        train_df.loc[index, 'venue'] = -1\n",
    "    \n",
    "    coauthor = [0 for _ in range(num_coauthor)]\n",
    "    pauthor = [0 for _ in range(num_class)]\n",
    "    for j in train_raw[i]['authors']:\n",
    "        coauthor[j-num_class] += 1\n",
    "\n",
    "    train_df.loc[index, 'coauthor'] = coauthor\n",
    "    train_df.loc[index, 'pauthor'] = pauthor\n",
    "    train_df.loc[index, 'text'] = test_raw[i]['abstract'] + test_raw[i]['title']\n",
    "    \n",
    "    train_df.loc[index, 'train_mask'] = True\n",
    "    train_df.loc[index, 'val_mask'] = True\n",
    "    train_df.loc[index, 'test_mask'] = False\n",
    "    index += 1\n",
    "\n",
    "train_df['id'] = train_df.index"
   ]
  },
  {
   "cell_type": "code",
   "execution_count": 5,
   "metadata": {},
   "outputs": [
    {
     "data": {
      "text/html": [
       "<div>\n",
       "<style scoped>\n",
       "    .dataframe tbody tr th:only-of-type {\n",
       "        vertical-align: middle;\n",
       "    }\n",
       "\n",
       "    .dataframe tbody tr th {\n",
       "        vertical-align: top;\n",
       "    }\n",
       "\n",
       "    .dataframe thead th {\n",
       "        text-align: right;\n",
       "    }\n",
       "</style>\n",
       "<table border=\"1\" class=\"dataframe\">\n",
       "  <thead>\n",
       "    <tr style=\"text-align: right;\">\n",
       "      <th></th>\n",
       "      <th>year</th>\n",
       "      <th>venue</th>\n",
       "      <th>coauthor</th>\n",
       "      <th>pauthor</th>\n",
       "      <th>text</th>\n",
       "      <th>train_mask</th>\n",
       "      <th>val_mask</th>\n",
       "      <th>test_mask</th>\n",
       "      <th>id</th>\n",
       "    </tr>\n",
       "  </thead>\n",
       "  <tbody>\n",
       "    <tr>\n",
       "      <th>0</th>\n",
       "      <td>9</td>\n",
       "      <td>20</td>\n",
       "      <td>[0, 0, 0, 0, 0, 0, 0, 0, 0, 0, 0, 0, 0, 0, 0, ...</td>\n",
       "      <td>[0, 0, 0, 0, 0, 0, 0, 0, 0, 0, 0, 0, 0, 0, 0, ...</td>\n",
       "      <td>[2455, 1858, 2335, 1543, 1800, 1860, 2000, 286...</td>\n",
       "      <td>False</td>\n",
       "      <td>True</td>\n",
       "      <td>True</td>\n",
       "      <td>0</td>\n",
       "    </tr>\n",
       "    <tr>\n",
       "      <th>1</th>\n",
       "      <td>15</td>\n",
       "      <td>2</td>\n",
       "      <td>[0, 0, 0, 0, 0, 0, 0, 0, 0, 0, 0, 0, 0, 0, 0, ...</td>\n",
       "      <td>[0, 0, 0, 0, 0, 0, 0, 0, 0, 0, 0, 0, 0, 0, 0, ...</td>\n",
       "      <td>[40, 1542, 1691, 2449, 1535, 3616, 2206, 1904,...</td>\n",
       "      <td>False</td>\n",
       "      <td>True</td>\n",
       "      <td>True</td>\n",
       "      <td>1</td>\n",
       "    </tr>\n",
       "  </tbody>\n",
       "</table>\n",
       "</div>"
      ],
      "text/plain": [
       "  year venue                                           coauthor  \\\n",
       "0    9    20  [0, 0, 0, 0, 0, 0, 0, 0, 0, 0, 0, 0, 0, 0, 0, ...   \n",
       "1   15     2  [0, 0, 0, 0, 0, 0, 0, 0, 0, 0, 0, 0, 0, 0, 0, ...   \n",
       "\n",
       "                                             pauthor  \\\n",
       "0  [0, 0, 0, 0, 0, 0, 0, 0, 0, 0, 0, 0, 0, 0, 0, ...   \n",
       "1  [0, 0, 0, 0, 0, 0, 0, 0, 0, 0, 0, 0, 0, 0, 0, ...   \n",
       "\n",
       "                                                text train_mask val_mask  \\\n",
       "0  [2455, 1858, 2335, 1543, 1800, 1860, 2000, 286...      False     True   \n",
       "1  [40, 1542, 1691, 2449, 1535, 3616, 2206, 1904,...      False     True   \n",
       "\n",
       "  test_mask  id  \n",
       "0      True   0  \n",
       "1      True   1  "
      ]
     },
     "execution_count": 5,
     "metadata": {},
     "output_type": "execute_result"
    }
   ],
   "source": [
    "train_df.head(2)"
   ]
  },
  {
   "cell_type": "code",
   "execution_count": 6,
   "metadata": {},
   "outputs": [],
   "source": [
    "def get_tagged_document(df):\n",
    "   return [TaggedDocument(words=doc, tags=[i]) for i, doc in zip(df.index, df.text)]\n",
    "   \n",
    "tagged_document = get_tagged_document(train_df)\n",
    "\n",
    "model_d2v = Doc2Vec(vector_size=300, min_count=10,epochs=100,dm=1,window=5)\n",
    "model_d2v.build_vocab(tagged_document)\n",
    "\n",
    "model_d2v.train(tagged_document,\n",
    "              total_examples=model_d2v.corpus_count,\n",
    "              epochs=model_d2v.epochs)"
   ]
  },
  {
   "cell_type": "code",
   "execution_count": 7,
   "metadata": {},
   "outputs": [],
   "source": [
    "# tagged_document\n",
    "train_df['doc2vec'] = train_df.id.apply(lambda x:model_d2v[x])"
   ]
  },
  {
   "cell_type": "code",
   "execution_count": 8,
   "metadata": {},
   "outputs": [
    {
     "data": {
      "text/html": [
       "<div>\n",
       "<style scoped>\n",
       "    .dataframe tbody tr th:only-of-type {\n",
       "        vertical-align: middle;\n",
       "    }\n",
       "\n",
       "    .dataframe tbody tr th {\n",
       "        vertical-align: top;\n",
       "    }\n",
       "\n",
       "    .dataframe thead th {\n",
       "        text-align: right;\n",
       "    }\n",
       "</style>\n",
       "<table border=\"1\" class=\"dataframe\">\n",
       "  <thead>\n",
       "    <tr style=\"text-align: right;\">\n",
       "      <th></th>\n",
       "      <th>year</th>\n",
       "      <th>venue</th>\n",
       "      <th>coauthor</th>\n",
       "      <th>pauthor</th>\n",
       "      <th>text</th>\n",
       "      <th>train_mask</th>\n",
       "      <th>val_mask</th>\n",
       "      <th>test_mask</th>\n",
       "      <th>id</th>\n",
       "      <th>doc2vec</th>\n",
       "    </tr>\n",
       "  </thead>\n",
       "  <tbody>\n",
       "    <tr>\n",
       "      <th>0</th>\n",
       "      <td>9</td>\n",
       "      <td>20</td>\n",
       "      <td>[0, 0, 0, 0, 0, 0, 0, 0, 0, 0, 0, 0, 0, 0, 0, ...</td>\n",
       "      <td>[0, 0, 0, 0, 0, 0, 0, 0, 0, 0, 0, 0, 0, 0, 0, ...</td>\n",
       "      <td>[2455, 1858, 2335, 1543, 1800, 1860, 2000, 286...</td>\n",
       "      <td>False</td>\n",
       "      <td>True</td>\n",
       "      <td>True</td>\n",
       "      <td>0</td>\n",
       "      <td>[0.56858, 0.4268763, -0.13476771, 0.49347693, ...</td>\n",
       "    </tr>\n",
       "    <tr>\n",
       "      <th>1</th>\n",
       "      <td>15</td>\n",
       "      <td>2</td>\n",
       "      <td>[0, 0, 0, 0, 0, 0, 0, 0, 0, 0, 0, 0, 0, 0, 0, ...</td>\n",
       "      <td>[0, 0, 0, 0, 0, 0, 0, 0, 0, 0, 0, 0, 0, 0, 0, ...</td>\n",
       "      <td>[40, 1542, 1691, 2449, 1535, 3616, 2206, 1904,...</td>\n",
       "      <td>False</td>\n",
       "      <td>True</td>\n",
       "      <td>True</td>\n",
       "      <td>1</td>\n",
       "      <td>[0.5308693, -0.36671042, -1.0341024, 0.680285,...</td>\n",
       "    </tr>\n",
       "  </tbody>\n",
       "</table>\n",
       "</div>"
      ],
      "text/plain": [
       "  year venue                                           coauthor  \\\n",
       "0    9    20  [0, 0, 0, 0, 0, 0, 0, 0, 0, 0, 0, 0, 0, 0, 0, ...   \n",
       "1   15     2  [0, 0, 0, 0, 0, 0, 0, 0, 0, 0, 0, 0, 0, 0, 0, ...   \n",
       "\n",
       "                                             pauthor  \\\n",
       "0  [0, 0, 0, 0, 0, 0, 0, 0, 0, 0, 0, 0, 0, 0, 0, ...   \n",
       "1  [0, 0, 0, 0, 0, 0, 0, 0, 0, 0, 0, 0, 0, 0, 0, ...   \n",
       "\n",
       "                                                text train_mask val_mask  \\\n",
       "0  [2455, 1858, 2335, 1543, 1800, 1860, 2000, 286...      False     True   \n",
       "1  [40, 1542, 1691, 2449, 1535, 3616, 2206, 1904,...      False     True   \n",
       "\n",
       "  test_mask  id                                            doc2vec  \n",
       "0      True   0  [0.56858, 0.4268763, -0.13476771, 0.49347693, ...  \n",
       "1      True   1  [0.5308693, -0.36671042, -1.0341024, 0.680285,...  "
      ]
     },
     "execution_count": 8,
     "metadata": {},
     "output_type": "execute_result"
    }
   ],
   "source": [
    "train_df.head(2)"
   ]
  },
  {
   "cell_type": "code",
   "execution_count": 26,
   "metadata": {},
   "outputs": [
    {
     "name": "stderr",
     "output_type": "stream",
     "text": [
      "100%|██████████| 10154/10154 [00:24<00:00, 422.07it/s]\n"
     ]
    },
    {
     "data": {
      "text/plain": [
       "torch.Size([21146, 20])"
      ]
     },
     "execution_count": 26,
     "metadata": {},
     "output_type": "execute_result"
    }
   ],
   "source": [
    "coauthor_node = torch.zeros([num_coauthor, num_year])\n",
    "\n",
    "for i in tqdm(train_df.index, total=len(train_df)):\n",
    "    coauthor = train_df.loc[i, 'coauthor']\n",
    "    year = train_df.loc[i, 'year']\n",
    "    for j in range(num_coauthor):\n",
    "        if coauthor[j] == 1:\n",
    "            coauthor_node[j, year] += 1\n",
    "\n",
    "coauthor_node.shape"
   ]
  },
  {
   "cell_type": "code",
   "execution_count": 27,
   "metadata": {},
   "outputs": [
    {
     "name": "stderr",
     "output_type": "stream",
     "text": [
      "100%|██████████| 10154/10154 [00:17<00:00, 594.68it/s]\n"
     ]
    },
    {
     "data": {
      "text/plain": [
       "torch.Size([465, 21146])"
      ]
     },
     "execution_count": 27,
     "metadata": {},
     "output_type": "execute_result"
    }
   ],
   "source": [
    "venue_node = torch.zeros([num_venue, num_coauthor])\n",
    "\n",
    "for i in tqdm(train_df.index, total=len(train_df)):\n",
    "    coauthor = train_df.loc[i, 'coauthor']\n",
    "    venue = train_df.loc[i, 'venue']\n",
    "    if venue != -1:\n",
    "        for j in range(num_coauthor):\n",
    "            if coauthor[j] == 1:\n",
    "                venue_node[venue, j] += 1\n",
    "\n",
    "venue_node.shape"
   ]
  },
  {
   "cell_type": "code",
   "execution_count": 166,
   "metadata": {},
   "outputs": [],
   "source": [
    "data = HeteroData()\n",
    "\n",
    "data['paper'].x = torch.tensor(train_df.doc2vec)\n",
    "data['paper'].train_mask = torch.tensor(train_df.train_mask)\n",
    "data['paper'].test_mask = torch.tensor(train_df.test_mask)\n",
    "data['paper'].val_mask = torch.tensor(train_df.val_mask)\n",
    "data['paper'].y = torch.tensor(train_df.pauthor, dtype=torch.float32)\n",
    "\n",
    "data['coauthor'].x = coauthor_node\n",
    "data['venue'].x = venue_node"
   ]
  },
  {
   "cell_type": "markdown",
   "metadata": {},
   "source": [
    "### Edges"
   ]
  },
  {
   "cell_type": "code",
   "execution_count": 110,
   "metadata": {},
   "outputs": [
    {
     "name": "stderr",
     "output_type": "stream",
     "text": [
      "100%|██████████| 10154/10154 [00:24<00:00, 419.48it/s]\n",
      "100%|██████████| 10154/10154 [00:00<00:00, 86476.81it/s]\n"
     ]
    }
   ],
   "source": [
    "from itertools import combinations\n",
    "\n",
    "write_edges = []\n",
    "for j in tqdm(train_df.index, total=len(train_df)):\n",
    "    written_author = []\n",
    "    coauthor = train_df.loc[j, 'coauthor']\n",
    "\n",
    "    for i in range(num_coauthor):\n",
    "        if coauthor[i] == 1:\n",
    "            write_edges.append([i, j])\n",
    "\n",
    "publish_edges = []\n",
    "for j in tqdm(train_df.index, total=len(train_df)):\n",
    "    publish = []\n",
    "    venue = train_df.loc[j, 'venue']\n",
    "    if venue != -1:\n",
    "        publish_edges.append([j, venue])"
   ]
  },
  {
   "cell_type": "code",
   "execution_count": 112,
   "metadata": {},
   "outputs": [
    {
     "data": {
      "text/plain": [
       "tensor([[13620,  1259, 15781,  ..., 13764, 15486, 17480],\n",
       "        [    0,     1,     1,  ..., 10153, 10153, 10153]])"
      ]
     },
     "execution_count": 112,
     "metadata": {},
     "output_type": "execute_result"
    }
   ],
   "source": [
    "torch.tensor(write_edges).T"
   ]
  },
  {
   "cell_type": "code",
   "execution_count": 167,
   "metadata": {},
   "outputs": [
    {
     "data": {
      "text/plain": [
       "HeteroData(\n",
       "  \u001b[1mpaper\u001b[0m={\n",
       "    x=[10154, 300],\n",
       "    train_mask=[10154],\n",
       "    test_mask=[10154],\n",
       "    val_mask=[10154],\n",
       "    y=[10154, 100]\n",
       "  },\n",
       "  \u001b[1mcoauthor\u001b[0m={ x=[21146, 20] },\n",
       "  \u001b[1mvenue\u001b[0m={ x=[465, 21146] },\n",
       "  \u001b[1m(coauthor, write, paper)\u001b[0m={ edge_index=[2, 26613] },\n",
       "  \u001b[1m(paper, published, venue)\u001b[0m={ edge_index=[2, 7777] }\n",
       ")"
      ]
     },
     "execution_count": 167,
     "metadata": {},
     "output_type": "execute_result"
    }
   ],
   "source": [
    "data['coauthor', 'write', 'paper'].edge_index = torch.LongTensor(write_edges).T\n",
    "data['paper', 'published', 'venue'].edge_index = torch.LongTensor(publish_edges).T\n",
    "data"
   ]
  },
  {
   "cell_type": "code",
   "execution_count": 168,
   "metadata": {},
   "outputs": [
    {
     "data": {
      "text/plain": [
       "HeteroData(\n",
       "  \u001b[1mpaper\u001b[0m={\n",
       "    x=[10154, 300],\n",
       "    train_mask=[10154],\n",
       "    test_mask=[10154],\n",
       "    val_mask=[10154],\n",
       "    y=[10154, 100]\n",
       "  },\n",
       "  \u001b[1mcoauthor\u001b[0m={ x=[21146, 20] },\n",
       "  \u001b[1mvenue\u001b[0m={ x=[465, 21146] },\n",
       "  \u001b[1m(coauthor, write, paper)\u001b[0m={ edge_index=[2, 26613] },\n",
       "  \u001b[1m(paper, published, venue)\u001b[0m={ edge_index=[2, 7777] },\n",
       "  \u001b[1m(paper, rev_write, coauthor)\u001b[0m={ edge_index=[2, 26613] },\n",
       "  \u001b[1m(venue, rev_published, paper)\u001b[0m={ edge_index=[2, 7777] }\n",
       ")"
      ]
     },
     "execution_count": 168,
     "metadata": {},
     "output_type": "execute_result"
    }
   ],
   "source": [
    "data = T.ToUndirected()(data)\n",
    "data"
   ]
  },
  {
   "cell_type": "code",
   "execution_count": 173,
   "metadata": {},
   "outputs": [],
   "source": [
    "class GNN(torch.nn.Module):\n",
    "    def __init__(self, hidden_channels, out_channels):\n",
    "        super().__init__()\n",
    "        self.conv1 = SAGEConv((-1, -1), hidden_channels)\n",
    "        self.conv2 = SAGEConv((-1, -1), out_channels)\n",
    "\n",
    "    def forward(self, x, edge_index):\n",
    "        x = self.conv1(x, edge_index).relu()\n",
    "        x = self.conv2(x, edge_index)\n",
    "        return torch.sigmoid(x)\n",
    "\n",
    "\n",
    "model = GNN(hidden_channels=64, out_channels=num_class)\n",
    "model = to_hetero(model, data.metadata(), aggr='sum')"
   ]
  },
  {
   "cell_type": "code",
   "execution_count": 178,
   "metadata": {},
   "outputs": [],
   "source": [
    "optimizer = torch.optim.Adam(model.parameters(), lr=0.01)\n",
    "\n",
    "def train(epochs=10):\n",
    "    loss_list = []\n",
    "    for epoch in tqdm(range(epochs)):\n",
    "        model.train()\n",
    "        optimizer.zero_grad()\n",
    "        out = model(data.x_dict, data.edge_index_dict)\n",
    "        mask = data['paper'].val_mask\n",
    "        loss = nn.BCELoss()(out['paper'][~mask], data['paper'].y[~mask])\n",
    "        loss.backward()\n",
    "        optimizer.step()\n",
    "\n",
    "        loss_list.append(loss.item())\n",
    "    \n",
    "    return loss_list"
   ]
  },
  {
   "cell_type": "code",
   "execution_count": 182,
   "metadata": {},
   "outputs": [
    {
     "name": "stderr",
     "output_type": "stream",
     "text": [
      "100%|██████████| 100/100 [03:52<00:00,  2.33s/it]\n"
     ]
    }
   ],
   "source": [
    "loss_list = train(100)"
   ]
  },
  {
   "cell_type": "code",
   "execution_count": 183,
   "metadata": {},
   "outputs": [
    {
     "data": {
      "image/png": "[encoded data removed]",
      "text/plain": [
       "<Figure size 720x504 with 1 Axes>"
      ]
     },
     "metadata": {
      "needs_background": "light"
     },
     "output_type": "display_data"
    }
   ],
   "source": [
    "n = Model()\n",
    "n.train_loss = loss_list\n",
    "n.plot_loss()"
   ]
  },
  {
   "cell_type": "code",
   "execution_count": 184,
   "metadata": {},
   "outputs": [],
   "source": [
    "logits = model(data.x_dict, data.edge_index_dict)"
   ]
  },
  {
   "cell_type": "code",
   "execution_count": 225,
   "metadata": {},
   "outputs": [],
   "source": [
    "val_mask = data['paper'].val_mask\n",
    "test_list = to_list(data['paper'].y[~val_mask])\n",
    "# test_list"
   ]
  },
  {
   "cell_type": "code",
   "execution_count": 226,
   "metadata": {},
   "outputs": [],
   "source": [
    "val_logits = logits['paper'][~val_mask]\n",
    "\n",
    "pred_list = []\n",
    "threshold = 0.9\n",
    "for i in range(len(val_logits)):\n",
    "    pred_au = \"\"\n",
    "    for j in range(100):\n",
    "        if val_logits[i, j] > threshold:\n",
    "            pred_au += str(j) + \" \"\n",
    "    if pred_au:\n",
    "        pred_list.append(pred_au[:-1])\n",
    "    else:\n",
    "        pred_list.append('-1')\n"
   ]
  },
  {
   "cell_type": "code",
   "execution_count": 227,
   "metadata": {},
   "outputs": [
    {
     "name": "stdout",
     "output_type": "stream",
     "text": [
      "=========================Evaluation results=========================\n",
      "The accuracy score of prediction is : 0.7760555852485302\n",
      "The recall   score of prediction is : 0.7760555852485302\n",
      "The f1       score of prediction is : 0.7829672002776766\n"
     ]
    },
    {
     "name": "stderr",
     "output_type": "stream",
     "text": [
      "/Library/Frameworks/Python.framework/Versions/3.10/lib/python3.10/site-packages/sklearn/metrics/_classification.py:1327: UndefinedMetricWarning: Recall is ill-defined and being set to 0.0 in labels with no true samples. Use `zero_division` parameter to control this behavior.\n",
      "  _warn_prf(average, modifier, msg_start, len(result))\n"
     ]
    }
   ],
   "source": [
    "print_scores(test_list, pred_list)"
   ]
  },
  {
   "cell_type": "markdown",
   "metadata": {},
   "source": [
    "### Kaggle"
   ]
  },
  {
   "cell_type": "code",
   "execution_count": 246,
   "metadata": {},
   "outputs": [],
   "source": [
    "threshold = 0.05\n",
    "\n",
    "test_mask = data['paper'].test_mask\n",
    "\n",
    "test_logits = logits['paper'][~test_mask]\n",
    "\n",
    "kaggle_predict = []\n",
    "\n",
    "for i in range(len(test_logits)):\n",
    "    pred_au = \"\"\n",
    "    for j in range(100):\n",
    "        if test_logits[i, j] > threshold:\n",
    "            pred_au += str(j) + \" \"\n",
    "    if pred_au:\n",
    "        kaggle_predict.append(pred_au[:-1])\n",
    "    else:\n",
    "        kaggle_predict.append('-1')\n"
   ]
  },
  {
   "cell_type": "code",
   "execution_count": 247,
   "metadata": {},
   "outputs": [],
   "source": [
    "kaggle = pd.DataFrame(columns=[\"ID\", \"Predict\"])\n",
    "kaggle['Predict'] = kaggle_predict\n",
    "kaggle['ID'] = kaggle.index\n",
    "kaggle = kaggle.set_index('ID')\n",
    "kaggle.to_csv(\"../../kaggle/predict_gnn.csv\")"
   ]
  },
  {
   "cell_type": "code",
   "execution_count": 248,
   "metadata": {},
   "outputs": [
    {
     "name": "stdout",
     "output_type": "stream",
     "text": [
      "proportion of no authors  :  0.645\n",
      "number of having prolific authors  :  284\n"
     ]
    }
   ],
   "source": [
    "count = 0\n",
    "for i in kaggle['Predict']:\n",
    "    if i == '-1':\n",
    "        count += 1\n",
    "\n",
    "print('proportion of no authors  : ', count/800)\n",
    "print('number of having prolific authors  : ', 800-count)"
   ]
  },
  {
   "cell_type": "code",
   "execution_count": 249,
   "metadata": {},
   "outputs": [
    {
     "data": {
      "text/html": [
       "<div>\n",
       "<style scoped>\n",
       "    .dataframe tbody tr th:only-of-type {\n",
       "        vertical-align: middle;\n",
       "    }\n",
       "\n",
       "    .dataframe tbody tr th {\n",
       "        vertical-align: top;\n",
       "    }\n",
       "\n",
       "    .dataframe thead th {\n",
       "        text-align: right;\n",
       "    }\n",
       "</style>\n",
       "<table border=\"1\" class=\"dataframe\">\n",
       "  <thead>\n",
       "    <tr style=\"text-align: right;\">\n",
       "      <th></th>\n",
       "      <th>Predict</th>\n",
       "    </tr>\n",
       "    <tr>\n",
       "      <th>ID</th>\n",
       "      <th></th>\n",
       "    </tr>\n",
       "  </thead>\n",
       "  <tbody>\n",
       "    <tr>\n",
       "      <th>0</th>\n",
       "      <td>-1</td>\n",
       "    </tr>\n",
       "    <tr>\n",
       "      <th>1</th>\n",
       "      <td>-1</td>\n",
       "    </tr>\n",
       "    <tr>\n",
       "      <th>2</th>\n",
       "      <td>83</td>\n",
       "    </tr>\n",
       "    <tr>\n",
       "      <th>3</th>\n",
       "      <td>79</td>\n",
       "    </tr>\n",
       "    <tr>\n",
       "      <th>4</th>\n",
       "      <td>-1</td>\n",
       "    </tr>\n",
       "  </tbody>\n",
       "</table>\n",
       "</div>"
      ],
      "text/plain": [
       "   Predict\n",
       "ID        \n",
       "0       -1\n",
       "1       -1\n",
       "2       83\n",
       "3       79\n",
       "4       -1"
      ]
     },
     "execution_count": 249,
     "metadata": {},
     "output_type": "execute_result"
    }
   ],
   "source": [
    "kaggle.head()"
   ]
  },
  {
   "cell_type": "code",
   "execution_count": 250,
   "metadata": {},
   "outputs": [
    {
     "data": {
      "image/png": "[encoded data removed]",
      "text/plain": [
       "<Figure size 432x288 with 1 Axes>"
      ]
     },
     "metadata": {
      "needs_background": "light"
     },
     "output_type": "display_data"
    }
   ],
   "source": [
    "from matplotlib import pyplot as plt\n",
    "\n",
    "counts = {}\n",
    "for i in kaggle['Predict']:\n",
    "    if i == '-1':\n",
    "        if 0 in counts:\n",
    "            counts[0] += 1\n",
    "        else:\n",
    "            counts[0] = 1\n",
    "        continue\n",
    "\n",
    "    num_author = len(i.split())\n",
    "    if num_author in counts:\n",
    "        counts[num_author] += 1\n",
    "    else:\n",
    "        counts[num_author] = 1\n",
    "\n",
    "plt.bar(counts.keys(), counts.values())\n",
    "plt.show()"
   ]
  },
  {
   "cell_type": "code",
   "execution_count": null,
   "metadata": {},
   "outputs": [],
   "source": []
  }
 ],
 "metadata": {
  "kernelspec": {
   "display_name": "Python 3.10.4 64-bit",
   "language": "python",
   "name": "python3"
  },
  "language_info": {
   "codemirror_mode": {
    "name": "ipython",
    "version": 3
   },
   "file_extension": ".py",
   "mimetype": "text/x-python",
   "name": "python",
   "nbconvert_exporter": "python",
   "pygments_lexer": "ipython3",
   "version": "3.10.4"
  },
  "orig_nbformat": 4,
  "vscode": {
   "interpreter": {
    "hash": "aee8b7b246df8f9039afb4144a1f6fd8d2ca17a180786b69acc140d282b71a49"
   }
  }
 },
 "nbformat": 4,
 "nbformat_minor": 2
}
