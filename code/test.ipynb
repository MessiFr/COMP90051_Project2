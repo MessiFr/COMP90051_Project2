{
 "cells": [
  {
   "cell_type": "code",
   "execution_count": 11,
   "metadata": {},
   "outputs": [],
   "source": [
    "import torch\n",
    "import json\n",
    "import numpy as np\n",
    "from evaluation import *\n",
    "from NN_Models import *\n",
    "import random\n",
    "from sklearn.metrics import accuracy_score, recall_score, f1_score\n",
    "from sklearn.model_selection import train_test_split"
   ]
  },
  {
   "cell_type": "code",
   "execution_count": 13,
   "metadata": {},
   "outputs": [],
   "source": [
    "# year & venue\n",
    "year_venue_test = torch.load(\"outputs/year_venue_test.pt\")\n",
    "year_venue_test = year_venue_test.detach().numpy()\n",
    "\n",
    "# abstract & title\n",
    "abstract_title_test = torch.load(\"outputs/abstract_title_test.pt\")\n",
    "abstract_title_test = abstract_title_test.detach().numpy()\n",
    "\n",
    "# coauthor\n",
    "author_test = torch.load(\"outputs/author_test.pt\")\n",
    "author_test = author_test.detach().numpy()\n",
    "\n",
    "y_test = torch.load('data/y_test.pt')"
   ]
  },
  {
   "cell_type": "markdown",
   "metadata": {},
   "source": [
    "## Test"
   ]
  },
  {
   "cell_type": "markdown",
   "metadata": {},
   "source": [
    "#### Grid Search \n",
    "Use the grid search to find the best weights of each outputs, and get the highest f1 score"
   ]
  },
  {
   "cell_type": "code",
   "execution_count": 14,
   "metadata": {},
   "outputs": [],
   "source": [
    "def grid_search(weight1, weight2, threshold):\n",
    "    for i in weight1:\n",
    "        for j in weight2:\n",
    "            for k in threshold:\n",
    "                yield(i, j, k)"
   ]
  },
  {
   "cell_type": "code",
   "execution_count": 15,
   "metadata": {},
   "outputs": [
    {
     "name": "stderr",
     "output_type": "stream",
     "text": [
      "100%|██████████| 2800/2800 [13:14<00:00,  3.52it/s]"
     ]
    },
    {
     "name": "stdout",
     "output_type": "stream",
     "text": [
      "Max f1 score       :  0.6605\n",
      "COAUTHOR_WEIGHT    :  0.5789473684\n",
      "YEAR_VENUE_WEIGHT  :  0.3157894737\n",
      "SENTENCE_WEIGHT    :  0.1052631579\n",
      "THRESHOLD          :  0.3\n"
     ]
    },
    {
     "name": "stderr",
     "output_type": "stream",
     "text": [
      "\n"
     ]
    }
   ],
   "source": [
    "max_f1 = 0\n",
    "max_param = None\n",
    "\n",
    "weight1 = np.linspace(0, 1, 20)\n",
    "weight2 = np.linspace(0, 1, 20)\n",
    "\n",
    "thresholds = [0.02, 0.05, 0.1, 0.2, 0.3, 0.5, 0.6]\n",
    "total = len(weight1) * len(weight2) * len(thresholds)\n",
    "\n",
    "for w1, w2, thred in tqdm(grid_search(weight1, weight2, thresholds), total=total):\n",
    "    \n",
    "    if w1 + w2 > 1:\n",
    "        continue\n",
    "\n",
    "    w3 = 1 - w1 - w2\n",
    "\n",
    "    y_pred = predict(\n",
    "            author=author_test,\n",
    "            COAUTHOR_WEIGHT=w1,\n",
    "            year_venue=year_venue_test,\n",
    "            # year_venue=year_venue_nb_test,\n",
    "            YEAR_VENUE_WEIGHT=w2,\n",
    "            abstracts_title=abstract_title_test,\n",
    "            # abstracts_title=abstract_title_doc2vec_test,\n",
    "            SENTENCE_WEIGHT=w3,\n",
    "            THRESHOLD=thred\n",
    "        )\n",
    "    \n",
    "    f1 = f1_score(y_test, y_pred, average='samples', zero_division=1)\n",
    "    \n",
    "    if f1 > max_f1:\n",
    "        max_f1 = f1\n",
    "        max_param = (w1, w2, w3, thred)\n",
    "        \n",
    "print(\"Max f1 score       : \", round(max_f1, 4))\n",
    "COAUTHOR_WEIGHT, YEAR_VENUE_WEIGHT, SENTENCE_WEIGHT, THRESHOLD = max_param\n",
    "print(\"COAUTHOR_WEIGHT    : \", round(COAUTHOR_WEIGHT, 10))\n",
    "print(\"YEAR_VENUE_WEIGHT  : \", round(YEAR_VENUE_WEIGHT, 10))\n",
    "print(\"SENTENCE_WEIGHT    : \", round(SENTENCE_WEIGHT, 10))\n",
    "print(\"THRESHOLD          : \", THRESHOLD)"
   ]
  },
  {
   "cell_type": "code",
   "execution_count": null,
   "metadata": {},
   "outputs": [],
   "source": []
  }
 ],
 "metadata": {
  "kernelspec": {
   "display_name": "Python 3.10.4 64-bit",
   "language": "python",
   "name": "python3"
  },
  "language_info": {
   "codemirror_mode": {
    "name": "ipython",
    "version": 3
   },
   "file_extension": ".py",
   "mimetype": "text/x-python",
   "name": "python",
   "nbconvert_exporter": "python",
   "pygments_lexer": "ipython3",
   "version": "3.10.4"
  },
  "orig_nbformat": 4,
  "vscode": {
   "interpreter": {
    "hash": "aee8b7b246df8f9039afb4144a1f6fd8d2ca17a180786b69acc140d282b71a49"
   }
  }
 },
 "nbformat": 4,
 "nbformat_minor": 2
}
