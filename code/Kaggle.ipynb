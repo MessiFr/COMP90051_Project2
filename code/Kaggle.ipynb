{
 "cells": [
  {
   "cell_type": "code",
   "execution_count": 2,
   "metadata": {},
   "outputs": [],
   "source": [
    "from torch.utils.data import Dataset\n",
    "from preprocessing import for_kaggle\n",
    "from evaluation import *\n",
    "\n",
    "import json\n",
    "import pandas as pd\n",
    "import torch"
   ]
  },
  {
   "cell_type": "code",
   "execution_count": 5,
   "metadata": {},
   "outputs": [],
   "source": [
    "# year & venue\n",
    "year_venue = torch.load(\"outputs/year_venue.pt\")\n",
    "year_venue = year_venue.detach().numpy()\n",
    "\n",
    "# abstract & title\n",
    "abstract_title = torch.load(\"outputs/abstract_title_doc2vec.pt\")\n",
    "abstract_title = abstract_title.detach().numpy()\n",
    "\n",
    "# coauthor\n",
    "author = torch.load(\"outputs/author.pt\")\n",
    "author = author.detach().numpy()\n"
   ]
  },
  {
   "cell_type": "markdown",
   "metadata": {},
   "source": [
    "## Weighted"
   ]
  },
  {
   "cell_type": "code",
   "execution_count": 45,
   "metadata": {},
   "outputs": [],
   "source": [
    "COAUTHOR_WEIGHT = 0.5789473684\n",
    "YEAR_VENUE_WEIGHT = 0.3157894737\n",
    "SENTENCE_WEIGHT = 0.1052631579\n",
    "THRESHOLD = 0.3"
   ]
  },
  {
   "cell_type": "code",
   "execution_count": 46,
   "metadata": {},
   "outputs": [],
   "source": [
    "kaggle_predict = predict(\n",
    "            author=author,\n",
    "            year_venue=year_venue,\n",
    "            abstracts_title=abstract_title,\n",
    "            YEAR_VENUE_WEIGHT=YEAR_VENUE_WEIGHT,\n",
    "            COAUTHOR_WEIGHT=COAUTHOR_WEIGHT,\n",
    "            SENTENCE_WEIGHT=SENTENCE_WEIGHT,\n",
    "            THRESHOLD=THRESHOLD\n",
    "        )"
   ]
  },
  {
   "cell_type": "code",
   "execution_count": 47,
   "metadata": {},
   "outputs": [],
   "source": [
    "kaggle = pd.DataFrame(columns=[\"ID\", \"Predict\"])\n",
    "kaggle['Predict'] = to_list(kaggle_predict)\n",
    "kaggle['ID'] = kaggle.index\n",
    "kaggle = kaggle.set_index('ID')\n",
    "kaggle.to_csv(\"../../kaggle/predict_MESSI.csv\")"
   ]
  },
  {
   "cell_type": "markdown",
   "metadata": {},
   "source": [
    "## Prediction Describe"
   ]
  },
  {
   "cell_type": "code",
   "execution_count": 49,
   "metadata": {},
   "outputs": [
    {
     "name": "stdout",
     "output_type": "stream",
     "text": [
      "proportion of no authors  :  0.42375\n",
      "number of having prolific authors  :  461\n"
     ]
    }
   ],
   "source": [
    "count = 0\n",
    "for i in kaggle['Predict']:\n",
    "    if i == '-1':\n",
    "        count += 1\n",
    "\n",
    "print('proportion of no authors  : ', count/800)\n",
    "print('number of having prolific authors  : ', 800-count)"
   ]
  },
  {
   "cell_type": "code",
   "execution_count": 50,
   "metadata": {},
   "outputs": [
    {
     "data": {
      "text/html": [
       "<div>\n",
       "<style scoped>\n",
       "    .dataframe tbody tr th:only-of-type {\n",
       "        vertical-align: middle;\n",
       "    }\n",
       "\n",
       "    .dataframe tbody tr th {\n",
       "        vertical-align: top;\n",
       "    }\n",
       "\n",
       "    .dataframe thead th {\n",
       "        text-align: right;\n",
       "    }\n",
       "</style>\n",
       "<table border=\"1\" class=\"dataframe\">\n",
       "  <thead>\n",
       "    <tr style=\"text-align: right;\">\n",
       "      <th></th>\n",
       "      <th>Predict</th>\n",
       "    </tr>\n",
       "    <tr>\n",
       "      <th>ID</th>\n",
       "      <th></th>\n",
       "    </tr>\n",
       "  </thead>\n",
       "  <tbody>\n",
       "    <tr>\n",
       "      <th>0</th>\n",
       "      <td>92</td>\n",
       "    </tr>\n",
       "    <tr>\n",
       "      <th>1</th>\n",
       "      <td>2</td>\n",
       "    </tr>\n",
       "    <tr>\n",
       "      <th>2</th>\n",
       "      <td>31</td>\n",
       "    </tr>\n",
       "    <tr>\n",
       "      <th>3</th>\n",
       "      <td>23</td>\n",
       "    </tr>\n",
       "    <tr>\n",
       "      <th>4</th>\n",
       "      <td>-1</td>\n",
       "    </tr>\n",
       "  </tbody>\n",
       "</table>\n",
       "</div>"
      ],
      "text/plain": [
       "   Predict\n",
       "ID        \n",
       "0       92\n",
       "1        2\n",
       "2       31\n",
       "3       23\n",
       "4       -1"
      ]
     },
     "execution_count": 50,
     "metadata": {},
     "output_type": "execute_result"
    }
   ],
   "source": [
    "kaggle.head()"
   ]
  },
  {
   "cell_type": "code",
   "execution_count": 51,
   "metadata": {},
   "outputs": [
    {
     "data": {
      "image/png": "[encoded data removed]",
      "text/plain": [
       "<Figure size 432x288 with 1 Axes>"
      ]
     },
     "metadata": {
      "needs_background": "light"
     },
     "output_type": "display_data"
    }
   ],
   "source": [
    "from matplotlib import pyplot as plt\n",
    "\n",
    "counts = {}\n",
    "for i in kaggle['Predict']:\n",
    "    if i == '-1':\n",
    "        if 0 in counts:\n",
    "            counts[0] += 1\n",
    "        else:\n",
    "            counts[0] = 1\n",
    "        continue\n",
    "\n",
    "    num_author = len(i.split())\n",
    "    if num_author in counts:\n",
    "        counts[num_author] += 1\n",
    "    else:\n",
    "        counts[num_author] = 1\n",
    "\n",
    "plt.bar(counts.keys(), counts.values())\n",
    "plt.show()"
   ]
  },
  {
   "cell_type": "code",
   "execution_count": 73,
   "metadata": {},
   "outputs": [
    {
     "data": {
      "text/html": [
       "<div>\n",
       "<style scoped>\n",
       "    .dataframe tbody tr th:only-of-type {\n",
       "        vertical-align: middle;\n",
       "    }\n",
       "\n",
       "    .dataframe tbody tr th {\n",
       "        vertical-align: top;\n",
       "    }\n",
       "\n",
       "    .dataframe thead th {\n",
       "        text-align: right;\n",
       "    }\n",
       "</style>\n",
       "<table border=\"1\" class=\"dataframe\">\n",
       "  <thead>\n",
       "    <tr style=\"text-align: right;\">\n",
       "      <th></th>\n",
       "      <th>Predict</th>\n",
       "    </tr>\n",
       "    <tr>\n",
       "      <th>ID</th>\n",
       "      <th></th>\n",
       "    </tr>\n",
       "  </thead>\n",
       "  <tbody>\n",
       "    <tr>\n",
       "      <th>0</th>\n",
       "      <td>1 10 92</td>\n",
       "    </tr>\n",
       "    <tr>\n",
       "      <th>1</th>\n",
       "      <td>1 2</td>\n",
       "    </tr>\n",
       "    <tr>\n",
       "      <th>2</th>\n",
       "      <td>31</td>\n",
       "    </tr>\n",
       "    <tr>\n",
       "      <th>3</th>\n",
       "      <td>6 23</td>\n",
       "    </tr>\n",
       "    <tr>\n",
       "      <th>4</th>\n",
       "      <td>-1</td>\n",
       "    </tr>\n",
       "    <tr>\n",
       "      <th>...</th>\n",
       "      <td>...</td>\n",
       "    </tr>\n",
       "    <tr>\n",
       "      <th>795</th>\n",
       "      <td>1 54</td>\n",
       "    </tr>\n",
       "    <tr>\n",
       "      <th>796</th>\n",
       "      <td>97</td>\n",
       "    </tr>\n",
       "    <tr>\n",
       "      <th>797</th>\n",
       "      <td>13 71</td>\n",
       "    </tr>\n",
       "    <tr>\n",
       "      <th>798</th>\n",
       "      <td>-1</td>\n",
       "    </tr>\n",
       "    <tr>\n",
       "      <th>799</th>\n",
       "      <td>94</td>\n",
       "    </tr>\n",
       "  </tbody>\n",
       "</table>\n",
       "<p>800 rows × 1 columns</p>\n",
       "</div>"
      ],
      "text/plain": [
       "     Predict\n",
       "ID          \n",
       "0    1 10 92\n",
       "1        1 2\n",
       "2         31\n",
       "3       6 23\n",
       "4         -1\n",
       "..       ...\n",
       "795     1 54\n",
       "796       97\n",
       "797    13 71\n",
       "798       -1\n",
       "799       94\n",
       "\n",
       "[800 rows x 1 columns]"
      ]
     },
     "execution_count": 73,
     "metadata": {},
     "output_type": "execute_result"
    }
   ],
   "source": [
    "kaggle"
   ]
  },
  {
   "cell_type": "code",
   "execution_count": null,
   "metadata": {},
   "outputs": [],
   "source": []
  },
  {
   "cell_type": "markdown",
   "metadata": {},
   "source": [
    "# Kaggle Predictions\n",
    "\n",
    "- YEAR_VENUE_WEIGHT = 1/3\n",
    "- COAUTHOR_WEIGHT = 1/3\n",
    "- SENTENCE_WEIGHT = 1/3\n",
    "    - f1 = 0.47230"
   ]
  },
  {
   "cell_type": "markdown",
   "metadata": {},
   "source": [
    "# Kaggle Predictions - 2\n",
    "\n",
    "- YEAR_VENUE_WEIGHT = 0.08884680485159918.\n",
    "- COAUTHOR_WEIGHT = 0.5925861815691253\n",
    "- SENTENCE_WEIGHT = 0.3185670135792754\n",
    "    - f1 = 0.52080"
   ]
  },
  {
   "cell_type": "code",
   "execution_count": 21,
   "metadata": {},
   "outputs": [
    {
     "name": "stdout",
     "output_type": "stream",
     "text": [
      "0.09042157448160128\n",
      "0.5981903768759776\n",
      "0.31138804864242114\n"
     ]
    }
   ],
   "source": [
    "print(YEAR_VENUE_WEIGHT)\n",
    "print(COAUTHOR_WEIGHT)\n",
    "print(SENTENCE_WEIGHT)"
   ]
  },
  {
   "cell_type": "markdown",
   "metadata": {},
   "source": [
    "# Kaggle Predictions - Weighted （best）\n",
    "\n",
    "- YEAR_VENUE_WEIGHT = 0.09042157448160128\n",
    "- COAUTHOR_WEIGHT = 0.5981903768759776\n",
    "- SENTENCE_WEIGHT = 0.31138804864242114\n",
    "- THRESHOLD = 0.2\n",
    "    - f1 = 0.56880"
   ]
  },
  {
   "cell_type": "markdown",
   "metadata": {},
   "source": [
    "# Kaggle Predictions - Weighted\n",
    "\n",
    "- YEAR_VENUE_WEIGHT = 0.08346672643333612\n",
    "- COAUTHOR_WEIGHT = 0.586237115452411\n",
    "- SENTENCE_WEIGHT = 0.3302961581142529\n",
    "- THRESHOLD = 0.2\n",
    "    - f1 = 0.54747"
   ]
  },
  {
   "cell_type": "markdown",
   "metadata": {},
   "source": [
    "# Kaggle Predictions - 3\n",
    "\n",
    "- YEAR_VENUE_WEIGHT = 0.09421771031395267.\n",
    "- COAUTHOR_WEIGHT = 0.43393907367832263\n",
    "- SENTENCE_WEIGHT = 0.4718432160077247\n",
    "- THRESHOLD = 0.3\n",
    "    - f1 = 0.53130"
   ]
  },
  {
   "cell_type": "code",
   "execution_count": null,
   "metadata": {},
   "outputs": [],
   "source": []
  }
 ],
 "metadata": {
  "kernelspec": {
   "display_name": "Python 3.10.4 64-bit",
   "language": "python",
   "name": "python3"
  },
  "language_info": {
   "codemirror_mode": {
    "name": "ipython",
    "version": 3
   },
   "file_extension": ".py",
   "mimetype": "text/x-python",
   "name": "python",
   "nbconvert_exporter": "python",
   "pygments_lexer": "ipython3",
   "version": "3.10.4"
  },
  "orig_nbformat": 4,
  "vscode": {
   "interpreter": {
    "hash": "aee8b7b246df8f9039afb4144a1f6fd8d2ca17a180786b69acc140d282b71a49"
   }
  }
 },
 "nbformat": 4,
 "nbformat_minor": 2
}
